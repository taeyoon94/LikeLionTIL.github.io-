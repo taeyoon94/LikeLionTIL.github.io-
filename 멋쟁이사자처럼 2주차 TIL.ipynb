{
 "cells": [
  {
   "cell_type": "markdown",
   "metadata": {},
   "source": [
    "# 멋쟁이사자처럼 2주차 TIL "
   ]
  },
  {
   "cell_type": "markdown",
   "metadata": {},
   "source": [
    "## 1. FinanceDataReader 사용법"
   ]
  },
  {
   "cell_type": "markdown",
   "metadata": {},
   "source": [
    "FinanceDataReader 정의 : 한국 주식 가격, 미국주식 가격, 지수, 환율, 암호화폐 가격, 종목 리스팅 등 금융 데이터 수집 라이브러리"
   ]
  },
  {
   "cell_type": "markdown",
   "metadata": {},
   "source": [
    "라이브러리 설치"
   ]
  },
  {
   "cell_type": "code",
   "execution_count": 1,
   "metadata": {
    "collapsed": true
   },
   "outputs": [
    {
     "name": "stdout",
     "output_type": "stream",
     "text": [
      "Collecting finance-datareader\n",
      "  Downloading finance_datareader-0.9.42-py3-none-any.whl (17 kB)\n",
      "Requirement already satisfied, skipping upgrade: lxml in c:\\users\\user\\anaconda3\\lib\\site-packages (from finance-datareader) (4.5.0)\n",
      "Requirement already satisfied, skipping upgrade: requests>=2.3.0 in c:\\users\\user\\anaconda3\\lib\\site-packages (from finance-datareader) (2.22.0)\n",
      "Collecting requests-file\n",
      "  Downloading requests_file-1.5.1-py2.py3-none-any.whl (3.7 kB)\n",
      "Requirement already satisfied, skipping upgrade: pandas>=0.19.2 in c:\\users\\user\\anaconda3\\lib\\site-packages (from finance-datareader) (1.0.1)\n",
      "Requirement already satisfied, skipping upgrade: tqdm in c:\\users\\user\\anaconda3\\lib\\site-packages (from finance-datareader) (4.42.1)\n",
      "Requirement already satisfied, skipping upgrade: idna<2.9,>=2.5 in c:\\users\\user\\anaconda3\\lib\\site-packages (from requests>=2.3.0->finance-datareader) (2.8)\n",
      "Requirement already satisfied, skipping upgrade: chardet<3.1.0,>=3.0.2 in c:\\users\\user\\anaconda3\\lib\\site-packages (from requests>=2.3.0->finance-datareader) (3.0.4)\n",
      "Requirement already satisfied, skipping upgrade: urllib3!=1.25.0,!=1.25.1,<1.26,>=1.21.1 in c:\\users\\user\\anaconda3\\lib\\site-packages (from requests>=2.3.0->finance-datareader) (1.25.8)\n",
      "Requirement already satisfied, skipping upgrade: certifi>=2017.4.17 in c:\\users\\user\\anaconda3\\lib\\site-packages (from requests>=2.3.0->finance-datareader) (2019.11.28)\n",
      "Requirement already satisfied, skipping upgrade: six in c:\\users\\user\\anaconda3\\lib\\site-packages (from requests-file->finance-datareader) (1.14.0)\n",
      "Requirement already satisfied, skipping upgrade: numpy>=1.13.3 in c:\\users\\user\\anaconda3\\lib\\site-packages (from pandas>=0.19.2->finance-datareader) (1.18.1)\n",
      "Requirement already satisfied, skipping upgrade: python-dateutil>=2.6.1 in c:\\users\\user\\anaconda3\\lib\\site-packages (from pandas>=0.19.2->finance-datareader) (2.8.1)\n",
      "Requirement already satisfied, skipping upgrade: pytz>=2017.2 in c:\\users\\user\\anaconda3\\lib\\site-packages (from pandas>=0.19.2->finance-datareader) (2019.3)\n",
      "Installing collected packages: requests-file, finance-datareader\n",
      "Successfully installed finance-datareader-0.9.42 requests-file-1.5.1\n"
     ]
    }
   ],
   "source": [
    "!pip install -U finance-datareader"
   ]
  },
  {
   "cell_type": "markdown",
   "metadata": {},
   "source": [
    "라이브러리 임포트"
   ]
  },
  {
   "cell_type": "code",
   "execution_count": 45,
   "metadata": {},
   "outputs": [],
   "source": [
    "import pandas as pd\n",
    "import numpy as np\n",
    "import FinanceDataReader as fdr"
   ]
  },
  {
   "cell_type": "markdown",
   "metadata": {},
   "source": [
    "한국거래소 상장종목(KRX) 전체 가져오기"
   ]
  },
  {
   "cell_type": "code",
   "execution_count": 46,
   "metadata": {},
   "outputs": [],
   "source": [
    "df = fdr.StockListing(\"KRX\")"
   ]
  },
  {
   "cell_type": "markdown",
   "metadata": {},
   "source": [
    "데이터프레임의 요약정보를 봅니다."
   ]
  },
  {
   "cell_type": "code",
   "execution_count": 47,
   "metadata": {
    "scrolled": false
   },
   "outputs": [
    {
     "name": "stdout",
     "output_type": "stream",
     "text": [
      "<class 'pandas.core.frame.DataFrame'>\n",
      "Int64Index: 7884 entries, 0 to 7883\n",
      "Data columns (total 10 columns):\n",
      " #   Column          Non-Null Count  Dtype         \n",
      "---  ------          --------------  -----         \n",
      " 0   Symbol          7884 non-null   object        \n",
      " 1   Market          7884 non-null   object        \n",
      " 2   Name            7884 non-null   object        \n",
      " 3   Sector          2529 non-null   object        \n",
      " 4   Industry        2513 non-null   object        \n",
      " 5   ListingDate     2529 non-null   datetime64[ns]\n",
      " 6   SettleMonth     2529 non-null   object        \n",
      " 7   Representative  2529 non-null   object        \n",
      " 8   HomePage        2370 non-null   object        \n",
      " 9   Region          2528 non-null   object        \n",
      "dtypes: datetime64[ns](1), object(9)\n",
      "memory usage: 677.5+ KB\n"
     ]
    }
   ],
   "source": [
    "df.info()"
   ]
  },
  {
   "cell_type": "code",
   "execution_count": 48,
   "metadata": {},
   "outputs": [
    {
     "data": {
      "text/html": [
       "<div>\n",
       "<style scoped>\n",
       "    .dataframe tbody tr th:only-of-type {\n",
       "        vertical-align: middle;\n",
       "    }\n",
       "\n",
       "    .dataframe tbody tr th {\n",
       "        vertical-align: top;\n",
       "    }\n",
       "\n",
       "    .dataframe thead th {\n",
       "        text-align: right;\n",
       "    }\n",
       "</style>\n",
       "<table border=\"1\" class=\"dataframe\">\n",
       "  <thead>\n",
       "    <tr style=\"text-align: right;\">\n",
       "      <th></th>\n",
       "      <th>Symbol</th>\n",
       "      <th>Market</th>\n",
       "      <th>Name</th>\n",
       "      <th>Sector</th>\n",
       "      <th>Industry</th>\n",
       "      <th>ListingDate</th>\n",
       "      <th>SettleMonth</th>\n",
       "      <th>Representative</th>\n",
       "      <th>HomePage</th>\n",
       "      <th>Region</th>\n",
       "    </tr>\n",
       "  </thead>\n",
       "  <tbody>\n",
       "    <tr>\n",
       "      <th>count</th>\n",
       "      <td>7884</td>\n",
       "      <td>7884</td>\n",
       "      <td>7884</td>\n",
       "      <td>2529</td>\n",
       "      <td>2513</td>\n",
       "      <td>2529</td>\n",
       "      <td>2529</td>\n",
       "      <td>2529</td>\n",
       "      <td>2370</td>\n",
       "      <td>2528</td>\n",
       "    </tr>\n",
       "    <tr>\n",
       "      <th>unique</th>\n",
       "      <td>7884</td>\n",
       "      <td>3</td>\n",
       "      <td>7884</td>\n",
       "      <td>161</td>\n",
       "      <td>2347</td>\n",
       "      <td>1880</td>\n",
       "      <td>8</td>\n",
       "      <td>2408</td>\n",
       "      <td>2348</td>\n",
       "      <td>22</td>\n",
       "    </tr>\n",
       "    <tr>\n",
       "      <th>top</th>\n",
       "      <td>52HQ03</td>\n",
       "      <td>KOSPI</td>\n",
       "      <td>제이앤티씨</td>\n",
       "      <td>소프트웨어 개발 및 공급업</td>\n",
       "      <td>기업인수합병</td>\n",
       "      <td>1976-06-30 00:00:00</td>\n",
       "      <td>12월</td>\n",
       "      <td>김현수</td>\n",
       "      <td>http://www.ibks.com</td>\n",
       "      <td>서울특별시</td>\n",
       "    </tr>\n",
       "    <tr>\n",
       "      <th>freq</th>\n",
       "      <td>1</td>\n",
       "      <td>6160</td>\n",
       "      <td>1</td>\n",
       "      <td>155</td>\n",
       "      <td>30</td>\n",
       "      <td>8</td>\n",
       "      <td>2470</td>\n",
       "      <td>4</td>\n",
       "      <td>3</td>\n",
       "      <td>1031</td>\n",
       "    </tr>\n",
       "    <tr>\n",
       "      <th>first</th>\n",
       "      <td>NaN</td>\n",
       "      <td>NaN</td>\n",
       "      <td>NaN</td>\n",
       "      <td>NaN</td>\n",
       "      <td>NaN</td>\n",
       "      <td>1956-03-03 00:00:00</td>\n",
       "      <td>NaN</td>\n",
       "      <td>NaN</td>\n",
       "      <td>NaN</td>\n",
       "      <td>NaN</td>\n",
       "    </tr>\n",
       "    <tr>\n",
       "      <th>last</th>\n",
       "      <td>NaN</td>\n",
       "      <td>NaN</td>\n",
       "      <td>NaN</td>\n",
       "      <td>NaN</td>\n",
       "      <td>NaN</td>\n",
       "      <td>2022-09-29 00:00:00</td>\n",
       "      <td>NaN</td>\n",
       "      <td>NaN</td>\n",
       "      <td>NaN</td>\n",
       "      <td>NaN</td>\n",
       "    </tr>\n",
       "  </tbody>\n",
       "</table>\n",
       "</div>"
      ],
      "text/plain": [
       "        Symbol Market   Name          Sector Industry          ListingDate  \\\n",
       "count     7884   7884   7884            2529     2513                 2529   \n",
       "unique    7884      3   7884             161     2347                 1880   \n",
       "top     52HQ03  KOSPI  제이앤티씨  소프트웨어 개발 및 공급업   기업인수합병  1976-06-30 00:00:00   \n",
       "freq         1   6160      1             155       30                    8   \n",
       "first      NaN    NaN    NaN             NaN      NaN  1956-03-03 00:00:00   \n",
       "last       NaN    NaN    NaN             NaN      NaN  2022-09-29 00:00:00   \n",
       "\n",
       "       SettleMonth Representative             HomePage Region  \n",
       "count         2529           2529                 2370   2528  \n",
       "unique           8           2408                 2348     22  \n",
       "top            12월            김현수  http://www.ibks.com  서울특별시  \n",
       "freq          2470              4                    3   1031  \n",
       "first          NaN            NaN                  NaN    NaN  \n",
       "last           NaN            NaN                  NaN    NaN  "
      ]
     },
     "execution_count": 48,
     "metadata": {},
     "output_type": "execute_result"
    }
   ],
   "source": [
    "df.describe()"
   ]
  },
  {
   "cell_type": "markdown",
   "metadata": {},
   "source": [
    "상장일 순으로 정리 후 csv파일로 저장"
   ]
  },
  {
   "cell_type": "code",
   "execution_count": 49,
   "metadata": {},
   "outputs": [],
   "source": [
    "df.sort_values(by=\"ListingDate\", ascending =  False).head()\n",
    "df.to_csv(\"krx.csv\", index = False  )"
   ]
  },
  {
   "cell_type": "markdown",
   "metadata": {},
   "source": [
    "## 2. 웹스크래핑 방법"
   ]
  },
  {
   "cell_type": "markdown",
   "metadata": {},
   "source": [
    "웹 크롤링이란 웹상의 정보들을 탐색하고 수집하는 작업\n",
    "\n",
    "\n",
    "웹 스크래핑이란 특정 웹 사이트나 페이지에서 필요한 데이터를 자동으로 추출해 내는 것\n",
    "\n",
    "차이: 웹 크롤링은 웹 페이지의 링크를 타고 계속해서 탐색을 이어나가지만, 웹 스크래핑은 데이터 추출을 원하는 대상이 명확\n",
    "\n",
    "출처: https://blog.codef.io/crawling_vs_scraping/#:~:text=%EC%9B%B9%20%EC%8A%A4%ED%81%AC%EB%9E%98%ED%95%91(Web%20Scraping)%EC%9D%B4%EB%9E%80,%EC%B6%94%EC%B6%9C%ED%95%B4%20%EB%82%B4%EB%8A%94%20%EA%B2%83%EC%9D%84%20%EC%9D%98%EB%AF%B8%ED%95%A9%EB%8B%88%EB%8B%A4."
   ]
  },
  {
   "cell_type": "markdown",
   "metadata": {},
   "source": [
    "### 네이버 금융 페이지에서 특정 종목 관련 뉴스를 모아보자(웹 스크래핑)"
   ]
  },
  {
   "cell_type": "markdown",
   "metadata": {},
   "source": [
    "#### 삼성전자 관련 뉴스 모아보기"
   ]
  },
  {
   "cell_type": "markdown",
   "metadata": {},
   "source": [
    "##### 1. 웹 스크래핑 할 url을 가져옵니다."
   ]
  },
  {
   "cell_type": "code",
   "execution_count": 50,
   "metadata": {},
   "outputs": [
    {
     "name": "stdout",
     "output_type": "stream",
     "text": [
      "https://finance.naver.com/item/news_news.nhn?code=005930&1=1&sm=title_entity_id.basic&clusterId=\n"
     ]
    }
   ],
   "source": [
    "item_code = \"005930\"\n",
    "item_name = \"삼성전자\"\n",
    "page_no = 1\n",
    "# 삼전 url\n",
    "url=f\"https://finance.naver.com/item/news_news.nhn?code={item_code}&{page_no}=1&sm=title_entity_id.basic&clusterId=\"\n",
    "\n",
    "print(url)"
   ]
  },
  {
   "cell_type": "markdown",
   "metadata": {},
   "source": [
    "##### 2. read_html 로 데이터 정보 가져오기"
   ]
  },
  {
   "cell_type": "markdown",
   "metadata": {},
   "source": [
    " read_html 로 수집한 데이터는 table이라는 변수에 담아주세요"
   ]
  },
  {
   "cell_type": "code",
   "execution_count": 51,
   "metadata": {
    "scrolled": true
   },
   "outputs": [
    {
     "data": {
      "text/plain": [
       "[                                                   제목  \\\n",
       " 0                   \"삼성전자·LG엔솔도 못 피했다\"…코스피 공매도 40% 증가   \n",
       " 1                    코스피, 반등 약해지며 2170선 아슬…삼성전자 하락 전환   \n",
       " 2          “지금이야 말로 삼성 주식 사야 할 때?” 전문가들이 점친 반도체 반등...   \n",
       " 3                   중기부, 팹리스·파운드리 협의회 개최…삼성·하이닉스 등 참여   \n",
       " 4   연관기사 목록  중기부, 제3회 팹리스-파운드리 상생협의회 개최…삼성전자 등 참여 ...   \n",
       " 5                중기부, 제3회 팹리스-파운드리 상생협의회 개최…삼성전자 등 참여   \n",
       " 6          \"이재용 '회장' 기념 보너스 나온다\"…삼성에 파다한 소문 [삼성은 지...   \n",
       " 7          최악 분위기에도 삼성 반도체 놀라운 실적? 1년 뒤 공언한 ‘깜짝 반전...   \n",
       " 8   연관기사 목록  “삼성 파운드리 ‘분기 매출 7조’ 첫 돌파”  헤럴드경제  202...   \n",
       " 9                           “삼성 파운드리 ‘분기 매출 7조’ 첫 돌파”   \n",
       " 10                    삼성전자, 카자흐스탄 대통령에 부산엑스포 유치 지원 요청   \n",
       " 11  연관기사 목록  스페인·멕시코·레소토, 이번엔 카자흐…삼성전자, 세계 정상들 만나는...   \n",
       " 12          스페인·멕시코·레소토, 이번엔 카자흐…삼성전자, 세계 정상들 만나는 ...   \n",
       " 13             삼성전자 이인용 사장, 카자흐 대통령 접견…부산엑스포 유치 지지 요청   \n",
       " 14                     삼성전자, 카자흐스탄 대통령 접견…부산엑스포 유치 지원   \n",
       " 15         [특징주]RF머트리얼즈, 삼성도 눈독 들이는 차세대 'GaN기술' 국산...   \n",
       " 16                    [종목줍줍]'반도체가 살아나야…' 삼성전자 반등은 언제?   \n",
       " 17                         삼성전자, 카자흐 대통령에 부산엑스포 지지 요청   \n",
       " \n",
       "                                                  정보제공  \\\n",
       " 0                                                한국경제   \n",
       " 1                                               아시아경제   \n",
       " 2                                               헤럴드경제   \n",
       " 3                                                한국경제   \n",
       " 4   연관기사 목록  중기부, 제3회 팹리스-파운드리 상생협의회 개최…삼성전자 등 참여 ...   \n",
       " 5                                               아시아경제   \n",
       " 6                                                한국경제   \n",
       " 7                                               헤럴드경제   \n",
       " 8   연관기사 목록  “삼성 파운드리 ‘분기 매출 7조’ 첫 돌파”  헤럴드경제  202...   \n",
       " 9                                               헤럴드경제   \n",
       " 10                                               이데일리   \n",
       " 11  연관기사 목록  스페인·멕시코·레소토, 이번엔 카자흐…삼성전자, 세계 정상들 만나는...   \n",
       " 12                                              헤럴드경제   \n",
       " 13                                             파이낸셜뉴스   \n",
       " 14                                              아시아경제   \n",
       " 15                                              아시아경제   \n",
       " 16                                             비즈니스워치   \n",
       " 17                                               서울경제   \n",
       " \n",
       "                                                    날짜  \n",
       " 0                                    2022.09.29 16:16  \n",
       " 1                                    2022.09.29 15:28  \n",
       " 2                                    2022.09.29 13:32  \n",
       " 3                                    2022.09.29 13:28  \n",
       " 4   연관기사 목록  중기부, 제3회 팹리스-파운드리 상생협의회 개최…삼성전자 등 참여 ...  \n",
       " 5                                    2022.09.29 12:01  \n",
       " 6                                    2022.09.29 13:10  \n",
       " 7                                    2022.09.29 13:02  \n",
       " 8   연관기사 목록  “삼성 파운드리 ‘분기 매출 7조’ 첫 돌파”  헤럴드경제  202...  \n",
       " 9                                    2022.09.29 11:22  \n",
       " 10                                   2022.09.29 12:58  \n",
       " 11  연관기사 목록  스페인·멕시코·레소토, 이번엔 카자흐…삼성전자, 세계 정상들 만나는...  \n",
       " 12                                   2022.09.29 11:35  \n",
       " 13                                   2022.09.29 10:28  \n",
       " 14                                   2022.09.29 10:18  \n",
       " 15                                   2022.09.29 10:55  \n",
       " 16                                   2022.09.29 10:41  \n",
       " 17                                   2022.09.29 10:39  ,\n",
       "                                       0      1                 2\n",
       " 0  중기부, 제3회 팹리스-파운드리 상생협의회 개최…삼성전자 등 참여  아시아경제  2022.09.29 12:01,\n",
       "                            0      1                 2\n",
       " 0  “삼성 파운드리 ‘분기 매출 7조’ 첫 돌파”  헤럴드경제  2022.09.29 11:22,\n",
       "                                            0       1                 2\n",
       " 0  스페인·멕시코·레소토, 이번엔 카자흐…삼성전자, 세계 정상들 만나는 ...   헤럴드경제  2022.09.29 11:35\n",
       " 1     삼성전자 이인용 사장, 카자흐 대통령 접견…부산엑스포 유치 지지 요청  파이낸셜뉴스  2022.09.29 10:28\n",
       " 2             삼성전자, 카자흐스탄 대통령 접견…부산엑스포 유치 지원   아시아경제  2022.09.29 10:18,\n",
       "    0   1   2   3   4   5   6   7   8   9   10  11\n",
       " 0   1   2   3   4   5   6   7   8   9  10  다음  맨뒤]"
      ]
     },
     "execution_count": 51,
     "metadata": {},
     "output_type": "execute_result"
    }
   ],
   "source": [
    "table = pd.read_html(url)\n",
    "table"
   ]
  },
  {
   "cell_type": "markdown",
   "metadata": {},
   "source": [
    "table 변수 안에 있는 0번째 인덱스 값을 가져와서 df 라는 변수에 담기"
   ]
  },
  {
   "cell_type": "code",
   "execution_count": 52,
   "metadata": {
    "scrolled": true
   },
   "outputs": [
    {
     "data": {
      "text/html": [
       "<div>\n",
       "<style scoped>\n",
       "    .dataframe tbody tr th:only-of-type {\n",
       "        vertical-align: middle;\n",
       "    }\n",
       "\n",
       "    .dataframe tbody tr th {\n",
       "        vertical-align: top;\n",
       "    }\n",
       "\n",
       "    .dataframe thead th {\n",
       "        text-align: right;\n",
       "    }\n",
       "</style>\n",
       "<table border=\"1\" class=\"dataframe\">\n",
       "  <thead>\n",
       "    <tr style=\"text-align: right;\">\n",
       "      <th></th>\n",
       "      <th>제목</th>\n",
       "      <th>정보제공</th>\n",
       "      <th>날짜</th>\n",
       "    </tr>\n",
       "  </thead>\n",
       "  <tbody>\n",
       "    <tr>\n",
       "      <th>0</th>\n",
       "      <td>\"삼성전자·LG엔솔도 못 피했다\"…코스피 공매도 40% 증가</td>\n",
       "      <td>한국경제</td>\n",
       "      <td>2022.09.29 16:16</td>\n",
       "    </tr>\n",
       "    <tr>\n",
       "      <th>1</th>\n",
       "      <td>코스피, 반등 약해지며 2170선 아슬…삼성전자 하락 전환</td>\n",
       "      <td>아시아경제</td>\n",
       "      <td>2022.09.29 15:28</td>\n",
       "    </tr>\n",
       "    <tr>\n",
       "      <th>2</th>\n",
       "      <td>“지금이야 말로 삼성 주식 사야 할 때?” 전문가들이 점친 반도체 반등...</td>\n",
       "      <td>헤럴드경제</td>\n",
       "      <td>2022.09.29 13:32</td>\n",
       "    </tr>\n",
       "    <tr>\n",
       "      <th>3</th>\n",
       "      <td>중기부, 팹리스·파운드리 협의회 개최…삼성·하이닉스 등 참여</td>\n",
       "      <td>한국경제</td>\n",
       "      <td>2022.09.29 13:28</td>\n",
       "    </tr>\n",
       "    <tr>\n",
       "      <th>4</th>\n",
       "      <td>연관기사 목록  중기부, 제3회 팹리스-파운드리 상생협의회 개최…삼성전자 등 참여 ...</td>\n",
       "      <td>연관기사 목록  중기부, 제3회 팹리스-파운드리 상생협의회 개최…삼성전자 등 참여 ...</td>\n",
       "      <td>연관기사 목록  중기부, 제3회 팹리스-파운드리 상생협의회 개최…삼성전자 등 참여 ...</td>\n",
       "    </tr>\n",
       "    <tr>\n",
       "      <th>5</th>\n",
       "      <td>중기부, 제3회 팹리스-파운드리 상생협의회 개최…삼성전자 등 참여</td>\n",
       "      <td>아시아경제</td>\n",
       "      <td>2022.09.29 12:01</td>\n",
       "    </tr>\n",
       "    <tr>\n",
       "      <th>6</th>\n",
       "      <td>\"이재용 '회장' 기념 보너스 나온다\"…삼성에 파다한 소문 [삼성은 지...</td>\n",
       "      <td>한국경제</td>\n",
       "      <td>2022.09.29 13:10</td>\n",
       "    </tr>\n",
       "    <tr>\n",
       "      <th>7</th>\n",
       "      <td>최악 분위기에도 삼성 반도체 놀라운 실적? 1년 뒤 공언한 ‘깜짝 반전...</td>\n",
       "      <td>헤럴드경제</td>\n",
       "      <td>2022.09.29 13:02</td>\n",
       "    </tr>\n",
       "    <tr>\n",
       "      <th>8</th>\n",
       "      <td>연관기사 목록  “삼성 파운드리 ‘분기 매출 7조’ 첫 돌파”  헤럴드경제  202...</td>\n",
       "      <td>연관기사 목록  “삼성 파운드리 ‘분기 매출 7조’ 첫 돌파”  헤럴드경제  202...</td>\n",
       "      <td>연관기사 목록  “삼성 파운드리 ‘분기 매출 7조’ 첫 돌파”  헤럴드경제  202...</td>\n",
       "    </tr>\n",
       "    <tr>\n",
       "      <th>9</th>\n",
       "      <td>“삼성 파운드리 ‘분기 매출 7조’ 첫 돌파”</td>\n",
       "      <td>헤럴드경제</td>\n",
       "      <td>2022.09.29 11:22</td>\n",
       "    </tr>\n",
       "    <tr>\n",
       "      <th>10</th>\n",
       "      <td>삼성전자, 카자흐스탄 대통령에 부산엑스포 유치 지원 요청</td>\n",
       "      <td>이데일리</td>\n",
       "      <td>2022.09.29 12:58</td>\n",
       "    </tr>\n",
       "    <tr>\n",
       "      <th>11</th>\n",
       "      <td>연관기사 목록  스페인·멕시코·레소토, 이번엔 카자흐…삼성전자, 세계 정상들 만나는...</td>\n",
       "      <td>연관기사 목록  스페인·멕시코·레소토, 이번엔 카자흐…삼성전자, 세계 정상들 만나는...</td>\n",
       "      <td>연관기사 목록  스페인·멕시코·레소토, 이번엔 카자흐…삼성전자, 세계 정상들 만나는...</td>\n",
       "    </tr>\n",
       "    <tr>\n",
       "      <th>12</th>\n",
       "      <td>스페인·멕시코·레소토, 이번엔 카자흐…삼성전자, 세계 정상들 만나는 ...</td>\n",
       "      <td>헤럴드경제</td>\n",
       "      <td>2022.09.29 11:35</td>\n",
       "    </tr>\n",
       "    <tr>\n",
       "      <th>13</th>\n",
       "      <td>삼성전자 이인용 사장, 카자흐 대통령 접견…부산엑스포 유치 지지 요청</td>\n",
       "      <td>파이낸셜뉴스</td>\n",
       "      <td>2022.09.29 10:28</td>\n",
       "    </tr>\n",
       "    <tr>\n",
       "      <th>14</th>\n",
       "      <td>삼성전자, 카자흐스탄 대통령 접견…부산엑스포 유치 지원</td>\n",
       "      <td>아시아경제</td>\n",
       "      <td>2022.09.29 10:18</td>\n",
       "    </tr>\n",
       "    <tr>\n",
       "      <th>15</th>\n",
       "      <td>[특징주]RF머트리얼즈, 삼성도 눈독 들이는 차세대 'GaN기술' 국산...</td>\n",
       "      <td>아시아경제</td>\n",
       "      <td>2022.09.29 10:55</td>\n",
       "    </tr>\n",
       "    <tr>\n",
       "      <th>16</th>\n",
       "      <td>[종목줍줍]'반도체가 살아나야…' 삼성전자 반등은 언제?</td>\n",
       "      <td>비즈니스워치</td>\n",
       "      <td>2022.09.29 10:41</td>\n",
       "    </tr>\n",
       "    <tr>\n",
       "      <th>17</th>\n",
       "      <td>삼성전자, 카자흐 대통령에 부산엑스포 지지 요청</td>\n",
       "      <td>서울경제</td>\n",
       "      <td>2022.09.29 10:39</td>\n",
       "    </tr>\n",
       "  </tbody>\n",
       "</table>\n",
       "</div>"
      ],
      "text/plain": [
       "                                                   제목  \\\n",
       "0                   \"삼성전자·LG엔솔도 못 피했다\"…코스피 공매도 40% 증가   \n",
       "1                    코스피, 반등 약해지며 2170선 아슬…삼성전자 하락 전환   \n",
       "2          “지금이야 말로 삼성 주식 사야 할 때?” 전문가들이 점친 반도체 반등...   \n",
       "3                   중기부, 팹리스·파운드리 협의회 개최…삼성·하이닉스 등 참여   \n",
       "4   연관기사 목록  중기부, 제3회 팹리스-파운드리 상생협의회 개최…삼성전자 등 참여 ...   \n",
       "5                중기부, 제3회 팹리스-파운드리 상생협의회 개최…삼성전자 등 참여   \n",
       "6          \"이재용 '회장' 기념 보너스 나온다\"…삼성에 파다한 소문 [삼성은 지...   \n",
       "7          최악 분위기에도 삼성 반도체 놀라운 실적? 1년 뒤 공언한 ‘깜짝 반전...   \n",
       "8   연관기사 목록  “삼성 파운드리 ‘분기 매출 7조’ 첫 돌파”  헤럴드경제  202...   \n",
       "9                           “삼성 파운드리 ‘분기 매출 7조’ 첫 돌파”   \n",
       "10                    삼성전자, 카자흐스탄 대통령에 부산엑스포 유치 지원 요청   \n",
       "11  연관기사 목록  스페인·멕시코·레소토, 이번엔 카자흐…삼성전자, 세계 정상들 만나는...   \n",
       "12          스페인·멕시코·레소토, 이번엔 카자흐…삼성전자, 세계 정상들 만나는 ...   \n",
       "13             삼성전자 이인용 사장, 카자흐 대통령 접견…부산엑스포 유치 지지 요청   \n",
       "14                     삼성전자, 카자흐스탄 대통령 접견…부산엑스포 유치 지원   \n",
       "15         [특징주]RF머트리얼즈, 삼성도 눈독 들이는 차세대 'GaN기술' 국산...   \n",
       "16                    [종목줍줍]'반도체가 살아나야…' 삼성전자 반등은 언제?   \n",
       "17                         삼성전자, 카자흐 대통령에 부산엑스포 지지 요청   \n",
       "\n",
       "                                                 정보제공  \\\n",
       "0                                                한국경제   \n",
       "1                                               아시아경제   \n",
       "2                                               헤럴드경제   \n",
       "3                                                한국경제   \n",
       "4   연관기사 목록  중기부, 제3회 팹리스-파운드리 상생협의회 개최…삼성전자 등 참여 ...   \n",
       "5                                               아시아경제   \n",
       "6                                                한국경제   \n",
       "7                                               헤럴드경제   \n",
       "8   연관기사 목록  “삼성 파운드리 ‘분기 매출 7조’ 첫 돌파”  헤럴드경제  202...   \n",
       "9                                               헤럴드경제   \n",
       "10                                               이데일리   \n",
       "11  연관기사 목록  스페인·멕시코·레소토, 이번엔 카자흐…삼성전자, 세계 정상들 만나는...   \n",
       "12                                              헤럴드경제   \n",
       "13                                             파이낸셜뉴스   \n",
       "14                                              아시아경제   \n",
       "15                                              아시아경제   \n",
       "16                                             비즈니스워치   \n",
       "17                                               서울경제   \n",
       "\n",
       "                                                   날짜  \n",
       "0                                    2022.09.29 16:16  \n",
       "1                                    2022.09.29 15:28  \n",
       "2                                    2022.09.29 13:32  \n",
       "3                                    2022.09.29 13:28  \n",
       "4   연관기사 목록  중기부, 제3회 팹리스-파운드리 상생협의회 개최…삼성전자 등 참여 ...  \n",
       "5                                    2022.09.29 12:01  \n",
       "6                                    2022.09.29 13:10  \n",
       "7                                    2022.09.29 13:02  \n",
       "8   연관기사 목록  “삼성 파운드리 ‘분기 매출 7조’ 첫 돌파”  헤럴드경제  202...  \n",
       "9                                    2022.09.29 11:22  \n",
       "10                                   2022.09.29 12:58  \n",
       "11  연관기사 목록  스페인·멕시코·레소토, 이번엔 카자흐…삼성전자, 세계 정상들 만나는...  \n",
       "12                                   2022.09.29 11:35  \n",
       "13                                   2022.09.29 10:28  \n",
       "14                                   2022.09.29 10:18  \n",
       "15                                   2022.09.29 10:55  \n",
       "16                                   2022.09.29 10:41  \n",
       "17                                   2022.09.29 10:39  "
      ]
     },
     "execution_count": 52,
     "metadata": {},
     "output_type": "execute_result"
    }
   ],
   "source": [
    "df = table[0]\n",
    "df"
   ]
  },
  {
   "cell_type": "markdown",
   "metadata": {},
   "source": [
    "수집한 값을 담을 리스트 만들기"
   ]
  },
  {
   "cell_type": "code",
   "execution_count": 53,
   "metadata": {},
   "outputs": [],
   "source": [
    "temp_list = []"
   ]
  },
  {
   "cell_type": "markdown",
   "metadata": {},
   "source": [
    "for 문을 사용해 table의 값을 모두 가져오기"
   ]
  },
  {
   "cell_type": "code",
   "execution_count": 68,
   "metadata": {
    "scrolled": true
   },
   "outputs": [
    {
     "data": {
      "text/html": [
       "<div>\n",
       "<style scoped>\n",
       "    .dataframe tbody tr th:only-of-type {\n",
       "        vertical-align: middle;\n",
       "    }\n",
       "\n",
       "    .dataframe tbody tr th {\n",
       "        vertical-align: top;\n",
       "    }\n",
       "\n",
       "    .dataframe thead th {\n",
       "        text-align: right;\n",
       "    }\n",
       "</style>\n",
       "<table border=\"1\" class=\"dataframe\">\n",
       "  <thead>\n",
       "    <tr style=\"text-align: right;\">\n",
       "      <th></th>\n",
       "      <th>제목</th>\n",
       "      <th>정보제공</th>\n",
       "      <th>날짜</th>\n",
       "    </tr>\n",
       "  </thead>\n",
       "  <tbody>\n",
       "    <tr>\n",
       "      <th>0</th>\n",
       "      <td>\"삼성전자·LG엔솔도 못 피했다\"…코스피 공매도 40% 증가</td>\n",
       "      <td>한국경제</td>\n",
       "      <td>2022.09.29 16:16</td>\n",
       "    </tr>\n",
       "    <tr>\n",
       "      <th>1</th>\n",
       "      <td>코스피, 반등 약해지며 2170선 아슬…삼성전자 하락 전환</td>\n",
       "      <td>아시아경제</td>\n",
       "      <td>2022.09.29 15:28</td>\n",
       "    </tr>\n",
       "    <tr>\n",
       "      <th>2</th>\n",
       "      <td>“지금이야 말로 삼성 주식 사야 할 때?” 전문가들이 점친 반도체 반등...</td>\n",
       "      <td>헤럴드경제</td>\n",
       "      <td>2022.09.29 13:32</td>\n",
       "    </tr>\n",
       "    <tr>\n",
       "      <th>3</th>\n",
       "      <td>중기부, 팹리스·파운드리 협의회 개최…삼성·하이닉스 등 참여</td>\n",
       "      <td>한국경제</td>\n",
       "      <td>2022.09.29 13:28</td>\n",
       "    </tr>\n",
       "    <tr>\n",
       "      <th>4</th>\n",
       "      <td>연관기사 목록  중기부, 제3회 팹리스-파운드리 상생협의회 개최…삼성전자 등 참여 ...</td>\n",
       "      <td>연관기사 목록  중기부, 제3회 팹리스-파운드리 상생협의회 개최…삼성전자 등 참여 ...</td>\n",
       "      <td>연관기사 목록  중기부, 제3회 팹리스-파운드리 상생협의회 개최…삼성전자 등 참여 ...</td>\n",
       "    </tr>\n",
       "    <tr>\n",
       "      <th>5</th>\n",
       "      <td>중기부, 제3회 팹리스-파운드리 상생협의회 개최…삼성전자 등 참여</td>\n",
       "      <td>아시아경제</td>\n",
       "      <td>2022.09.29 12:01</td>\n",
       "    </tr>\n",
       "    <tr>\n",
       "      <th>6</th>\n",
       "      <td>\"이재용 '회장' 기념 보너스 나온다\"…삼성에 파다한 소문 [삼성은 지...</td>\n",
       "      <td>한국경제</td>\n",
       "      <td>2022.09.29 13:10</td>\n",
       "    </tr>\n",
       "    <tr>\n",
       "      <th>7</th>\n",
       "      <td>최악 분위기에도 삼성 반도체 놀라운 실적? 1년 뒤 공언한 ‘깜짝 반전...</td>\n",
       "      <td>헤럴드경제</td>\n",
       "      <td>2022.09.29 13:02</td>\n",
       "    </tr>\n",
       "    <tr>\n",
       "      <th>8</th>\n",
       "      <td>연관기사 목록  “삼성 파운드리 ‘분기 매출 7조’ 첫 돌파”  헤럴드경제  202...</td>\n",
       "      <td>연관기사 목록  “삼성 파운드리 ‘분기 매출 7조’ 첫 돌파”  헤럴드경제  202...</td>\n",
       "      <td>연관기사 목록  “삼성 파운드리 ‘분기 매출 7조’ 첫 돌파”  헤럴드경제  202...</td>\n",
       "    </tr>\n",
       "    <tr>\n",
       "      <th>9</th>\n",
       "      <td>“삼성 파운드리 ‘분기 매출 7조’ 첫 돌파”</td>\n",
       "      <td>헤럴드경제</td>\n",
       "      <td>2022.09.29 11:22</td>\n",
       "    </tr>\n",
       "    <tr>\n",
       "      <th>10</th>\n",
       "      <td>삼성전자, 카자흐스탄 대통령에 부산엑스포 유치 지원 요청</td>\n",
       "      <td>이데일리</td>\n",
       "      <td>2022.09.29 12:58</td>\n",
       "    </tr>\n",
       "    <tr>\n",
       "      <th>11</th>\n",
       "      <td>연관기사 목록  스페인·멕시코·레소토, 이번엔 카자흐…삼성전자, 세계 정상들 만나는...</td>\n",
       "      <td>연관기사 목록  스페인·멕시코·레소토, 이번엔 카자흐…삼성전자, 세계 정상들 만나는...</td>\n",
       "      <td>연관기사 목록  스페인·멕시코·레소토, 이번엔 카자흐…삼성전자, 세계 정상들 만나는...</td>\n",
       "    </tr>\n",
       "    <tr>\n",
       "      <th>12</th>\n",
       "      <td>스페인·멕시코·레소토, 이번엔 카자흐…삼성전자, 세계 정상들 만나는 ...</td>\n",
       "      <td>헤럴드경제</td>\n",
       "      <td>2022.09.29 11:35</td>\n",
       "    </tr>\n",
       "    <tr>\n",
       "      <th>13</th>\n",
       "      <td>삼성전자 이인용 사장, 카자흐 대통령 접견…부산엑스포 유치 지지 요청</td>\n",
       "      <td>파이낸셜뉴스</td>\n",
       "      <td>2022.09.29 10:28</td>\n",
       "    </tr>\n",
       "    <tr>\n",
       "      <th>14</th>\n",
       "      <td>삼성전자, 카자흐스탄 대통령 접견…부산엑스포 유치 지원</td>\n",
       "      <td>아시아경제</td>\n",
       "      <td>2022.09.29 10:18</td>\n",
       "    </tr>\n",
       "    <tr>\n",
       "      <th>15</th>\n",
       "      <td>[특징주]RF머트리얼즈, 삼성도 눈독 들이는 차세대 'GaN기술' 국산...</td>\n",
       "      <td>아시아경제</td>\n",
       "      <td>2022.09.29 10:55</td>\n",
       "    </tr>\n",
       "    <tr>\n",
       "      <th>16</th>\n",
       "      <td>[종목줍줍]'반도체가 살아나야…' 삼성전자 반등은 언제?</td>\n",
       "      <td>비즈니스워치</td>\n",
       "      <td>2022.09.29 10:41</td>\n",
       "    </tr>\n",
       "    <tr>\n",
       "      <th>17</th>\n",
       "      <td>삼성전자, 카자흐 대통령에 부산엑스포 지지 요청</td>\n",
       "      <td>서울경제</td>\n",
       "      <td>2022.09.29 10:39</td>\n",
       "    </tr>\n",
       "  </tbody>\n",
       "</table>\n",
       "</div>"
      ],
      "text/plain": [
       "                                                   제목  \\\n",
       "0                   \"삼성전자·LG엔솔도 못 피했다\"…코스피 공매도 40% 증가   \n",
       "1                    코스피, 반등 약해지며 2170선 아슬…삼성전자 하락 전환   \n",
       "2          “지금이야 말로 삼성 주식 사야 할 때?” 전문가들이 점친 반도체 반등...   \n",
       "3                   중기부, 팹리스·파운드리 협의회 개최…삼성·하이닉스 등 참여   \n",
       "4   연관기사 목록  중기부, 제3회 팹리스-파운드리 상생협의회 개최…삼성전자 등 참여 ...   \n",
       "5                중기부, 제3회 팹리스-파운드리 상생협의회 개최…삼성전자 등 참여   \n",
       "6          \"이재용 '회장' 기념 보너스 나온다\"…삼성에 파다한 소문 [삼성은 지...   \n",
       "7          최악 분위기에도 삼성 반도체 놀라운 실적? 1년 뒤 공언한 ‘깜짝 반전...   \n",
       "8   연관기사 목록  “삼성 파운드리 ‘분기 매출 7조’ 첫 돌파”  헤럴드경제  202...   \n",
       "9                           “삼성 파운드리 ‘분기 매출 7조’ 첫 돌파”   \n",
       "10                    삼성전자, 카자흐스탄 대통령에 부산엑스포 유치 지원 요청   \n",
       "11  연관기사 목록  스페인·멕시코·레소토, 이번엔 카자흐…삼성전자, 세계 정상들 만나는...   \n",
       "12          스페인·멕시코·레소토, 이번엔 카자흐…삼성전자, 세계 정상들 만나는 ...   \n",
       "13             삼성전자 이인용 사장, 카자흐 대통령 접견…부산엑스포 유치 지지 요청   \n",
       "14                     삼성전자, 카자흐스탄 대통령 접견…부산엑스포 유치 지원   \n",
       "15         [특징주]RF머트리얼즈, 삼성도 눈독 들이는 차세대 'GaN기술' 국산...   \n",
       "16                    [종목줍줍]'반도체가 살아나야…' 삼성전자 반등은 언제?   \n",
       "17                         삼성전자, 카자흐 대통령에 부산엑스포 지지 요청   \n",
       "\n",
       "                                                 정보제공  \\\n",
       "0                                                한국경제   \n",
       "1                                               아시아경제   \n",
       "2                                               헤럴드경제   \n",
       "3                                                한국경제   \n",
       "4   연관기사 목록  중기부, 제3회 팹리스-파운드리 상생협의회 개최…삼성전자 등 참여 ...   \n",
       "5                                               아시아경제   \n",
       "6                                                한국경제   \n",
       "7                                               헤럴드경제   \n",
       "8   연관기사 목록  “삼성 파운드리 ‘분기 매출 7조’ 첫 돌파”  헤럴드경제  202...   \n",
       "9                                               헤럴드경제   \n",
       "10                                               이데일리   \n",
       "11  연관기사 목록  스페인·멕시코·레소토, 이번엔 카자흐…삼성전자, 세계 정상들 만나는...   \n",
       "12                                              헤럴드경제   \n",
       "13                                             파이낸셜뉴스   \n",
       "14                                              아시아경제   \n",
       "15                                              아시아경제   \n",
       "16                                             비즈니스워치   \n",
       "17                                               서울경제   \n",
       "\n",
       "                                                   날짜  \n",
       "0                                    2022.09.29 16:16  \n",
       "1                                    2022.09.29 15:28  \n",
       "2                                    2022.09.29 13:32  \n",
       "3                                    2022.09.29 13:28  \n",
       "4   연관기사 목록  중기부, 제3회 팹리스-파운드리 상생협의회 개최…삼성전자 등 참여 ...  \n",
       "5                                    2022.09.29 12:01  \n",
       "6                                    2022.09.29 13:10  \n",
       "7                                    2022.09.29 13:02  \n",
       "8   연관기사 목록  “삼성 파운드리 ‘분기 매출 7조’ 첫 돌파”  헤럴드경제  202...  \n",
       "9                                    2022.09.29 11:22  \n",
       "10                                   2022.09.29 12:58  \n",
       "11  연관기사 목록  스페인·멕시코·레소토, 이번엔 카자흐…삼성전자, 세계 정상들 만나는...  \n",
       "12                                   2022.09.29 11:35  \n",
       "13                                   2022.09.29 10:28  \n",
       "14                                   2022.09.29 10:18  \n",
       "15                                   2022.09.29 10:55  \n",
       "16                                   2022.09.29 10:41  \n",
       "17                                   2022.09.29 10:39  "
      ]
     },
     "metadata": {},
     "output_type": "display_data"
    },
    {
     "data": {
      "text/html": [
       "<div>\n",
       "<style scoped>\n",
       "    .dataframe tbody tr th:only-of-type {\n",
       "        vertical-align: middle;\n",
       "    }\n",
       "\n",
       "    .dataframe tbody tr th {\n",
       "        vertical-align: top;\n",
       "    }\n",
       "\n",
       "    .dataframe thead th {\n",
       "        text-align: right;\n",
       "    }\n",
       "</style>\n",
       "<table border=\"1\" class=\"dataframe\">\n",
       "  <thead>\n",
       "    <tr style=\"text-align: right;\">\n",
       "      <th></th>\n",
       "      <th>0</th>\n",
       "      <th>1</th>\n",
       "      <th>2</th>\n",
       "    </tr>\n",
       "  </thead>\n",
       "  <tbody>\n",
       "    <tr>\n",
       "      <th>0</th>\n",
       "      <td>중기부, 제3회 팹리스-파운드리 상생협의회 개최…삼성전자 등 참여</td>\n",
       "      <td>아시아경제</td>\n",
       "      <td>2022.09.29 12:01</td>\n",
       "    </tr>\n",
       "  </tbody>\n",
       "</table>\n",
       "</div>"
      ],
      "text/plain": [
       "                                      0      1                 2\n",
       "0  중기부, 제3회 팹리스-파운드리 상생협의회 개최…삼성전자 등 참여  아시아경제  2022.09.29 12:01"
      ]
     },
     "metadata": {},
     "output_type": "display_data"
    },
    {
     "data": {
      "text/html": [
       "<div>\n",
       "<style scoped>\n",
       "    .dataframe tbody tr th:only-of-type {\n",
       "        vertical-align: middle;\n",
       "    }\n",
       "\n",
       "    .dataframe tbody tr th {\n",
       "        vertical-align: top;\n",
       "    }\n",
       "\n",
       "    .dataframe thead th {\n",
       "        text-align: right;\n",
       "    }\n",
       "</style>\n",
       "<table border=\"1\" class=\"dataframe\">\n",
       "  <thead>\n",
       "    <tr style=\"text-align: right;\">\n",
       "      <th></th>\n",
       "      <th>0</th>\n",
       "      <th>1</th>\n",
       "      <th>2</th>\n",
       "    </tr>\n",
       "  </thead>\n",
       "  <tbody>\n",
       "    <tr>\n",
       "      <th>0</th>\n",
       "      <td>“삼성 파운드리 ‘분기 매출 7조’ 첫 돌파”</td>\n",
       "      <td>헤럴드경제</td>\n",
       "      <td>2022.09.29 11:22</td>\n",
       "    </tr>\n",
       "  </tbody>\n",
       "</table>\n",
       "</div>"
      ],
      "text/plain": [
       "                           0      1                 2\n",
       "0  “삼성 파운드리 ‘분기 매출 7조’ 첫 돌파”  헤럴드경제  2022.09.29 11:22"
      ]
     },
     "metadata": {},
     "output_type": "display_data"
    },
    {
     "data": {
      "text/html": [
       "<div>\n",
       "<style scoped>\n",
       "    .dataframe tbody tr th:only-of-type {\n",
       "        vertical-align: middle;\n",
       "    }\n",
       "\n",
       "    .dataframe tbody tr th {\n",
       "        vertical-align: top;\n",
       "    }\n",
       "\n",
       "    .dataframe thead th {\n",
       "        text-align: right;\n",
       "    }\n",
       "</style>\n",
       "<table border=\"1\" class=\"dataframe\">\n",
       "  <thead>\n",
       "    <tr style=\"text-align: right;\">\n",
       "      <th></th>\n",
       "      <th>0</th>\n",
       "      <th>1</th>\n",
       "      <th>2</th>\n",
       "    </tr>\n",
       "  </thead>\n",
       "  <tbody>\n",
       "    <tr>\n",
       "      <th>0</th>\n",
       "      <td>스페인·멕시코·레소토, 이번엔 카자흐…삼성전자, 세계 정상들 만나는 ...</td>\n",
       "      <td>헤럴드경제</td>\n",
       "      <td>2022.09.29 11:35</td>\n",
       "    </tr>\n",
       "    <tr>\n",
       "      <th>1</th>\n",
       "      <td>삼성전자 이인용 사장, 카자흐 대통령 접견…부산엑스포 유치 지지 요청</td>\n",
       "      <td>파이낸셜뉴스</td>\n",
       "      <td>2022.09.29 10:28</td>\n",
       "    </tr>\n",
       "    <tr>\n",
       "      <th>2</th>\n",
       "      <td>삼성전자, 카자흐스탄 대통령 접견…부산엑스포 유치 지원</td>\n",
       "      <td>아시아경제</td>\n",
       "      <td>2022.09.29 10:18</td>\n",
       "    </tr>\n",
       "  </tbody>\n",
       "</table>\n",
       "</div>"
      ],
      "text/plain": [
       "                                           0       1                 2\n",
       "0  스페인·멕시코·레소토, 이번엔 카자흐…삼성전자, 세계 정상들 만나는 ...   헤럴드경제  2022.09.29 11:35\n",
       "1     삼성전자 이인용 사장, 카자흐 대통령 접견…부산엑스포 유치 지지 요청  파이낸셜뉴스  2022.09.29 10:28\n",
       "2             삼성전자, 카자흐스탄 대통령 접견…부산엑스포 유치 지원   아시아경제  2022.09.29 10:18"
      ]
     },
     "metadata": {},
     "output_type": "display_data"
    },
    {
     "data": {
      "text/html": [
       "<div>\n",
       "<style scoped>\n",
       "    .dataframe tbody tr th:only-of-type {\n",
       "        vertical-align: middle;\n",
       "    }\n",
       "\n",
       "    .dataframe tbody tr th {\n",
       "        vertical-align: top;\n",
       "    }\n",
       "\n",
       "    .dataframe thead th {\n",
       "        text-align: right;\n",
       "    }\n",
       "</style>\n",
       "<table border=\"1\" class=\"dataframe\">\n",
       "  <thead>\n",
       "    <tr style=\"text-align: right;\">\n",
       "      <th></th>\n",
       "      <th>0</th>\n",
       "      <th>1</th>\n",
       "      <th>2</th>\n",
       "      <th>3</th>\n",
       "      <th>4</th>\n",
       "      <th>5</th>\n",
       "      <th>6</th>\n",
       "      <th>7</th>\n",
       "      <th>8</th>\n",
       "      <th>9</th>\n",
       "      <th>10</th>\n",
       "      <th>11</th>\n",
       "    </tr>\n",
       "  </thead>\n",
       "  <tbody>\n",
       "    <tr>\n",
       "      <th>0</th>\n",
       "      <td>1</td>\n",
       "      <td>2</td>\n",
       "      <td>3</td>\n",
       "      <td>4</td>\n",
       "      <td>5</td>\n",
       "      <td>6</td>\n",
       "      <td>7</td>\n",
       "      <td>8</td>\n",
       "      <td>9</td>\n",
       "      <td>10</td>\n",
       "      <td>다음</td>\n",
       "      <td>맨뒤</td>\n",
       "    </tr>\n",
       "  </tbody>\n",
       "</table>\n",
       "</div>"
      ],
      "text/plain": [
       "   0   1   2   3   4   5   6   7   8   9   10  11\n",
       "0   1   2   3   4   5   6   7   8   9  10  다음  맨뒤"
      ]
     },
     "metadata": {},
     "output_type": "display_data"
    }
   ],
   "source": [
    "for news in table:\n",
    "    temp_list.append(news)\n",
    "    display(news)"
   ]
  },
  {
   "cell_type": "markdown",
   "metadata": {},
   "source": [
    "concat함수 이용하여 수집한 복수의 데이터프레임들을 하나의 데이터프레임으로 합치기"
   ]
  },
  {
   "cell_type": "code",
   "execution_count": 76,
   "metadata": {},
   "outputs": [],
   "source": [
    "df_news=pd.concat(temp_list)"
   ]
  },
  {
   "cell_type": "markdown",
   "metadata": {},
   "source": [
    "결측치 제거"
   ]
  },
  {
   "cell_type": "code",
   "execution_count": 77,
   "metadata": {},
   "outputs": [],
   "source": [
    "df_news = df_news.dropna()"
   ]
  },
  {
   "cell_type": "markdown",
   "metadata": {},
   "source": [
    "수집한 데이터 중 \"제목\"에 \"연관기사\"가 들어가는 데이터를 제거"
   ]
  },
  {
   "cell_type": "code",
   "execution_count": 82,
   "metadata": {},
   "outputs": [],
   "source": [
    "df_news = df_news[~df_news[\"제목\"].str.contains(\"연관기사\")].copy()"
   ]
  },
  {
   "cell_type": "markdown",
   "metadata": {},
   "source": [
    "##### 2. def 함수로 위의 과정 한 개의 함수화 하기."
   ]
  },
  {
   "cell_type": "code",
   "execution_count": 84,
   "metadata": {},
   "outputs": [],
   "source": [
    "def get_one_page_news(item_code, page_no):\n",
    "    \n",
    "    url = get_url(item_code, page_no)\n",
    "    table = pd.read_html(url, encoding=\"cp949\")\n",
    "\n",
    "    temp_list = []\n",
    "    cols = table[0].columns\n",
    "\n",
    "    for news in table[:-1]:\n",
    "        news.columns = cols\n",
    "        temp_list.append(news)\n",
    "\n",
    "    df_news = pd.concat(temp_list)\n",
    "    df_news = df_news.dropna()\n",
    "    df_news = df_news.reset_index(drop=True)\n",
    "    df_news = df_news[~df_news[\"제목\"].str.contains(\"연관기사\")].copy()\n",
    "    df_news = df_news.drop_duplicates()\n",
    "    return df_news"
   ]
  },
  {
   "cell_type": "code",
   "execution_count": 86,
   "metadata": {},
   "outputs": [
    {
     "ename": "NameError",
     "evalue": "name 'get_url' is not defined",
     "output_type": "error",
     "traceback": [
      "\u001b[1;31m---------------------------------------------------------------------------\u001b[0m",
      "\u001b[1;31mNameError\u001b[0m                                 Traceback (most recent call last)",
      "\u001b[1;32m<ipython-input-86-47d6b73fc112>\u001b[0m in \u001b[0;36m<module>\u001b[1;34m\u001b[0m\n\u001b[0;32m      2\u001b[0m \u001b[0mitem_code\u001b[0m \u001b[1;33m=\u001b[0m \u001b[1;36m263750\u001b[0m\u001b[1;33m\u001b[0m\u001b[1;33m\u001b[0m\u001b[0m\n\u001b[0;32m      3\u001b[0m \u001b[1;33m\u001b[0m\u001b[0m\n\u001b[1;32m----> 4\u001b[1;33m \u001b[0mtemp\u001b[0m \u001b[1;33m=\u001b[0m \u001b[0mget_one_page_news\u001b[0m\u001b[1;33m(\u001b[0m\u001b[0mitem_code\u001b[0m\u001b[1;33m,\u001b[0m \u001b[0mpage_no\u001b[0m\u001b[1;33m)\u001b[0m\u001b[1;33m\u001b[0m\u001b[1;33m\u001b[0m\u001b[0m\n\u001b[0m\u001b[0;32m      5\u001b[0m \u001b[0mtemp\u001b[0m\u001b[1;33m\u001b[0m\u001b[1;33m\u001b[0m\u001b[0m\n",
      "\u001b[1;32m<ipython-input-84-fda49a6ce599>\u001b[0m in \u001b[0;36mget_one_page_news\u001b[1;34m(item_code, page_no)\u001b[0m\n\u001b[0;32m      1\u001b[0m \u001b[1;32mdef\u001b[0m \u001b[0mget_one_page_news\u001b[0m\u001b[1;33m(\u001b[0m\u001b[0mitem_code\u001b[0m\u001b[1;33m,\u001b[0m \u001b[0mpage_no\u001b[0m\u001b[1;33m)\u001b[0m\u001b[1;33m:\u001b[0m\u001b[1;33m\u001b[0m\u001b[1;33m\u001b[0m\u001b[0m\n\u001b[0;32m      2\u001b[0m \u001b[1;33m\u001b[0m\u001b[0m\n\u001b[1;32m----> 3\u001b[1;33m     \u001b[0murl\u001b[0m \u001b[1;33m=\u001b[0m \u001b[0mget_url\u001b[0m\u001b[1;33m(\u001b[0m\u001b[0mitem_code\u001b[0m\u001b[1;33m,\u001b[0m \u001b[0mpage_no\u001b[0m\u001b[1;33m)\u001b[0m\u001b[1;33m\u001b[0m\u001b[1;33m\u001b[0m\u001b[0m\n\u001b[0m\u001b[0;32m      4\u001b[0m     \u001b[0mtable\u001b[0m \u001b[1;33m=\u001b[0m \u001b[0mpd\u001b[0m\u001b[1;33m.\u001b[0m\u001b[0mread_html\u001b[0m\u001b[1;33m(\u001b[0m\u001b[0murl\u001b[0m\u001b[1;33m,\u001b[0m \u001b[0mencoding\u001b[0m\u001b[1;33m=\u001b[0m\u001b[1;34m\"cp949\"\u001b[0m\u001b[1;33m)\u001b[0m\u001b[1;33m\u001b[0m\u001b[1;33m\u001b[0m\u001b[0m\n\u001b[0;32m      5\u001b[0m \u001b[1;33m\u001b[0m\u001b[0m\n",
      "\u001b[1;31mNameError\u001b[0m: name 'get_url' is not defined"
     ]
    }
   ],
   "source": [
    "page_no = 2\n",
    "item_code = 263750  \n",
    "\n",
    "temp = get_one_page_news(item_code, page_no)\n",
    "temp"
   ]
  },
  {
   "cell_type": "markdown",
   "metadata": {},
   "source": [
    "name 'get_url' is not defined에러가 나오는데 이유를 모르겠습니다. 관련하여 향후 조사 필요합니다."
   ]
  }
 ],
 "metadata": {
  "kernelspec": {
   "display_name": "Python 3",
   "language": "python",
   "name": "python3"
  },
  "language_info": {
   "codemirror_mode": {
    "name": "ipython",
    "version": 3
   },
   "file_extension": ".py",
   "mimetype": "text/x-python",
   "name": "python",
   "nbconvert_exporter": "python",
   "pygments_lexer": "ipython3",
   "version": "3.7.6"
  }
 },
 "nbformat": 4,
 "nbformat_minor": 4
}
