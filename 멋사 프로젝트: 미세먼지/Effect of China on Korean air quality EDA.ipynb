{
 "cells": [
  {
   "cell_type": "markdown",
   "metadata": {},
   "source": [
    "# Effect of China on Korean air quality EDA"
   ]
  },
  {
   "cell_type": "markdown",
   "metadata": {},
   "source": [
    "Specie data description: (https://www.me.go.kr/mamo/web/index.do?menuId=586)\n",
    "\n",
    "'o3': ozone (O3),\n",
    "'so2': sulfur dioxide\n",
    "'pm25': ultrafine dust (PM2.5)\n",
    "'pm10': fine dust (PM100)\n",
    "'no2': nitrogen dioxide\n",
    "'co': carbon monoxide\n",
    "'aqi':Air Quality Index\n"
   ]
  },
  {
   "cell_type": "markdown",
   "metadata": {},
   "source": [
    "## Data preprocessing"
   ]
  },
  {
   "cell_type": "code",
   "execution_count": 3,
   "metadata": {},
   "outputs": [],
   "source": [
    "import pandas as pd\n",
    "import numpy as np"
   ]
  },
  {
   "cell_type": "code",
   "execution_count": 4,
   "metadata": {},
   "outputs": [],
   "source": [
    "df21=pd.read_csv(\"waqi-covid19-airqualitydata-2021Q4.csv\", encoding='latin-1')"
   ]
  },
  {
   "cell_type": "code",
   "execution_count": 5,
   "metadata": {},
   "outputs": [
    {
     "data": {
      "text/plain": [
       "(548423, 9)"
      ]
     },
     "execution_count": 5,
     "metadata": {},
     "output_type": "execute_result"
    }
   ],
   "source": [
    "df21.shape"
   ]
  },
  {
   "cell_type": "code",
   "execution_count": 6,
   "metadata": {},
   "outputs": [
    {
     "data": {
      "text/plain": [
       "Date            98\n",
       "Country         94\n",
       "City           623\n",
       "Specie          52\n",
       "count         2003\n",
       "min           4020\n",
       "max           4753\n",
       "median        4265\n",
       "variance    174153\n",
       "dtype: int64"
      ]
     },
     "execution_count": 6,
     "metadata": {},
     "output_type": "execute_result"
    }
   ],
   "source": [
    "df21.nunique()"
   ]
  },
  {
   "cell_type": "code",
   "execution_count": 7,
   "metadata": {},
   "outputs": [
    {
     "data": {
      "text/html": [
       "<div>\n",
       "<style scoped>\n",
       "    .dataframe tbody tr th:only-of-type {\n",
       "        vertical-align: middle;\n",
       "    }\n",
       "\n",
       "    .dataframe tbody tr th {\n",
       "        vertical-align: top;\n",
       "    }\n",
       "\n",
       "    .dataframe thead th {\n",
       "        text-align: right;\n",
       "    }\n",
       "</style>\n",
       "<table border=\"1\" class=\"dataframe\">\n",
       "  <thead>\n",
       "    <tr style=\"text-align: right;\">\n",
       "      <th></th>\n",
       "      <th>Date</th>\n",
       "      <th>Country</th>\n",
       "      <th>City</th>\n",
       "      <th>Specie</th>\n",
       "      <th>count</th>\n",
       "      <th>min</th>\n",
       "      <th>max</th>\n",
       "      <th>median</th>\n",
       "      <th>variance</th>\n",
       "    </tr>\n",
       "  </thead>\n",
       "  <tbody>\n",
       "    <tr>\n",
       "      <th>0</th>\n",
       "      <td>2021-10-24</td>\n",
       "      <td>BH</td>\n",
       "      <td>Manama</td>\n",
       "      <td>pressure</td>\n",
       "      <td>24.0</td>\n",
       "      <td>1009.4</td>\n",
       "      <td>1013.0</td>\n",
       "      <td>1010.7</td>\n",
       "      <td>11.89</td>\n",
       "    </tr>\n",
       "    <tr>\n",
       "      <th>1</th>\n",
       "      <td>2021-11-12</td>\n",
       "      <td>BH</td>\n",
       "      <td>Manama</td>\n",
       "      <td>pressure</td>\n",
       "      <td>24.0</td>\n",
       "      <td>1011.4</td>\n",
       "      <td>1015.3</td>\n",
       "      <td>1013.6</td>\n",
       "      <td>18.44</td>\n",
       "    </tr>\n",
       "    <tr>\n",
       "      <th>2</th>\n",
       "      <td>2021-11-27</td>\n",
       "      <td>BH</td>\n",
       "      <td>Manama</td>\n",
       "      <td>pressure</td>\n",
       "      <td>24.0</td>\n",
       "      <td>1014.1</td>\n",
       "      <td>1017.3</td>\n",
       "      <td>1015.8</td>\n",
       "      <td>8.13</td>\n",
       "    </tr>\n",
       "    <tr>\n",
       "      <th>3</th>\n",
       "      <td>2021-12-10</td>\n",
       "      <td>BH</td>\n",
       "      <td>Manama</td>\n",
       "      <td>pressure</td>\n",
       "      <td>24.0</td>\n",
       "      <td>1019.3</td>\n",
       "      <td>1022.7</td>\n",
       "      <td>1020.7</td>\n",
       "      <td>9.65</td>\n",
       "    </tr>\n",
       "    <tr>\n",
       "      <th>4</th>\n",
       "      <td>2021-12-22</td>\n",
       "      <td>BH</td>\n",
       "      <td>Manama</td>\n",
       "      <td>pressure</td>\n",
       "      <td>24.0</td>\n",
       "      <td>1016.7</td>\n",
       "      <td>1020.1</td>\n",
       "      <td>1017.5</td>\n",
       "      <td>11.27</td>\n",
       "    </tr>\n",
       "  </tbody>\n",
       "</table>\n",
       "</div>"
      ],
      "text/plain": [
       "         Date Country    City    Specie  count     min     max  median  \\\n",
       "0  2021-10-24      BH  Manama  pressure   24.0  1009.4  1013.0  1010.7   \n",
       "1  2021-11-12      BH  Manama  pressure   24.0  1011.4  1015.3  1013.6   \n",
       "2  2021-11-27      BH  Manama  pressure   24.0  1014.1  1017.3  1015.8   \n",
       "3  2021-12-10      BH  Manama  pressure   24.0  1019.3  1022.7  1020.7   \n",
       "4  2021-12-22      BH  Manama  pressure   24.0  1016.7  1020.1  1017.5   \n",
       "\n",
       "   variance  \n",
       "0     11.89  \n",
       "1     18.44  \n",
       "2      8.13  \n",
       "3      9.65  \n",
       "4     11.27  "
      ]
     },
     "execution_count": 7,
     "metadata": {},
     "output_type": "execute_result"
    }
   ],
   "source": [
    "df21.head()\n",
    "#Of the global data for year 21, we will only look at data from China, so we subtract it separately."
   ]
  },
  {
   "cell_type": "code",
   "execution_count": 8,
   "metadata": {},
   "outputs": [
    {
     "data": {
      "text/html": [
       "<div>\n",
       "<style scoped>\n",
       "    .dataframe tbody tr th:only-of-type {\n",
       "        vertical-align: middle;\n",
       "    }\n",
       "\n",
       "    .dataframe tbody tr th {\n",
       "        vertical-align: top;\n",
       "    }\n",
       "\n",
       "    .dataframe thead th {\n",
       "        text-align: right;\n",
       "    }\n",
       "</style>\n",
       "<table border=\"1\" class=\"dataframe\">\n",
       "  <thead>\n",
       "    <tr style=\"text-align: right;\">\n",
       "      <th></th>\n",
       "      <th>Date</th>\n",
       "      <th>Country</th>\n",
       "      <th>City</th>\n",
       "      <th>Specie</th>\n",
       "      <th>count</th>\n",
       "      <th>min</th>\n",
       "      <th>max</th>\n",
       "      <th>median</th>\n",
       "      <th>variance</th>\n",
       "    </tr>\n",
       "  </thead>\n",
       "  <tbody>\n",
       "    <tr>\n",
       "      <th>281907</th>\n",
       "      <td>2021-11-18</td>\n",
       "      <td>CN</td>\n",
       "      <td>Beijing</td>\n",
       "      <td>o3</td>\n",
       "      <td>220.0</td>\n",
       "      <td>0.5</td>\n",
       "      <td>26.4</td>\n",
       "      <td>1.7</td>\n",
       "      <td>103.01</td>\n",
       "    </tr>\n",
       "    <tr>\n",
       "      <th>281908</th>\n",
       "      <td>2022-01-01</td>\n",
       "      <td>CN</td>\n",
       "      <td>Beijing</td>\n",
       "      <td>o3</td>\n",
       "      <td>237.0</td>\n",
       "      <td>0.5</td>\n",
       "      <td>30.1</td>\n",
       "      <td>13.0</td>\n",
       "      <td>1264.43</td>\n",
       "    </tr>\n",
       "    <tr>\n",
       "      <th>281909</th>\n",
       "      <td>2021-10-18</td>\n",
       "      <td>CN</td>\n",
       "      <td>Beijing</td>\n",
       "      <td>o3</td>\n",
       "      <td>237.0</td>\n",
       "      <td>0.5</td>\n",
       "      <td>26.4</td>\n",
       "      <td>6.5</td>\n",
       "      <td>552.08</td>\n",
       "    </tr>\n",
       "    <tr>\n",
       "      <th>281910</th>\n",
       "      <td>2021-10-29</td>\n",
       "      <td>CN</td>\n",
       "      <td>Beijing</td>\n",
       "      <td>o3</td>\n",
       "      <td>194.0</td>\n",
       "      <td>0.5</td>\n",
       "      <td>29.7</td>\n",
       "      <td>5.3</td>\n",
       "      <td>646.44</td>\n",
       "    </tr>\n",
       "    <tr>\n",
       "      <th>281911</th>\n",
       "      <td>2021-11-09</td>\n",
       "      <td>CN</td>\n",
       "      <td>Beijing</td>\n",
       "      <td>o3</td>\n",
       "      <td>284.0</td>\n",
       "      <td>13.0</td>\n",
       "      <td>29.7</td>\n",
       "      <td>24.0</td>\n",
       "      <td>103.92</td>\n",
       "    </tr>\n",
       "    <tr>\n",
       "      <th>...</th>\n",
       "      <td>...</td>\n",
       "      <td>...</td>\n",
       "      <td>...</td>\n",
       "      <td>...</td>\n",
       "      <td>...</td>\n",
       "      <td>...</td>\n",
       "      <td>...</td>\n",
       "      <td>...</td>\n",
       "      <td>...</td>\n",
       "    </tr>\n",
       "    <tr>\n",
       "      <th>328402</th>\n",
       "      <td>2021-11-25</td>\n",
       "      <td>CN</td>\n",
       "      <td>Dongguan</td>\n",
       "      <td>wind-gust</td>\n",
       "      <td>5.0</td>\n",
       "      <td>10.8</td>\n",
       "      <td>10.8</td>\n",
       "      <td>10.8</td>\n",
       "      <td>0.00</td>\n",
       "    </tr>\n",
       "    <tr>\n",
       "      <th>328403</th>\n",
       "      <td>2021-12-23</td>\n",
       "      <td>CN</td>\n",
       "      <td>Dongguan</td>\n",
       "      <td>wind-gust</td>\n",
       "      <td>22.0</td>\n",
       "      <td>0.7</td>\n",
       "      <td>5.0</td>\n",
       "      <td>2.8</td>\n",
       "      <td>14.40</td>\n",
       "    </tr>\n",
       "    <tr>\n",
       "      <th>328404</th>\n",
       "      <td>2021-12-31</td>\n",
       "      <td>CN</td>\n",
       "      <td>Dongguan</td>\n",
       "      <td>wind-gust</td>\n",
       "      <td>16.0</td>\n",
       "      <td>1.7</td>\n",
       "      <td>5.5</td>\n",
       "      <td>3.6</td>\n",
       "      <td>14.71</td>\n",
       "    </tr>\n",
       "    <tr>\n",
       "      <th>328405</th>\n",
       "      <td>2022-01-02</td>\n",
       "      <td>CN</td>\n",
       "      <td>Dongguan</td>\n",
       "      <td>wind-gust</td>\n",
       "      <td>22.0</td>\n",
       "      <td>0.2</td>\n",
       "      <td>6.6</td>\n",
       "      <td>1.6</td>\n",
       "      <td>38.66</td>\n",
       "    </tr>\n",
       "    <tr>\n",
       "      <th>328406</th>\n",
       "      <td>2021-10-31</td>\n",
       "      <td>CN</td>\n",
       "      <td>Dongguan</td>\n",
       "      <td>wind-gust</td>\n",
       "      <td>24.0</td>\n",
       "      <td>9.7</td>\n",
       "      <td>9.7</td>\n",
       "      <td>9.7</td>\n",
       "      <td>0.00</td>\n",
       "    </tr>\n",
       "  </tbody>\n",
       "</table>\n",
       "<p>46500 rows × 9 columns</p>\n",
       "</div>"
      ],
      "text/plain": [
       "              Date Country      City     Specie  count   min   max  median  \\\n",
       "281907  2021-11-18      CN   Beijing         o3  220.0   0.5  26.4     1.7   \n",
       "281908  2022-01-01      CN   Beijing         o3  237.0   0.5  30.1    13.0   \n",
       "281909  2021-10-18      CN   Beijing         o3  237.0   0.5  26.4     6.5   \n",
       "281910  2021-10-29      CN   Beijing         o3  194.0   0.5  29.7     5.3   \n",
       "281911  2021-11-09      CN   Beijing         o3  284.0  13.0  29.7    24.0   \n",
       "...            ...     ...       ...        ...    ...   ...   ...     ...   \n",
       "328402  2021-11-25      CN  Dongguan  wind-gust    5.0  10.8  10.8    10.8   \n",
       "328403  2021-12-23      CN  Dongguan  wind-gust   22.0   0.7   5.0     2.8   \n",
       "328404  2021-12-31      CN  Dongguan  wind-gust   16.0   1.7   5.5     3.6   \n",
       "328405  2022-01-02      CN  Dongguan  wind-gust   22.0   0.2   6.6     1.6   \n",
       "328406  2021-10-31      CN  Dongguan  wind-gust   24.0   9.7   9.7     9.7   \n",
       "\n",
       "        variance  \n",
       "281907    103.01  \n",
       "281908   1264.43  \n",
       "281909    552.08  \n",
       "281910    646.44  \n",
       "281911    103.92  \n",
       "...          ...  \n",
       "328402      0.00  \n",
       "328403     14.40  \n",
       "328404     14.71  \n",
       "328405     38.66  \n",
       "328406      0.00  \n",
       "\n",
       "[46500 rows x 9 columns]"
      ]
     },
     "execution_count": 8,
     "metadata": {},
     "output_type": "execute_result"
    }
   ],
   "source": [
    "df_cn=df21[df21[\"Country\"].str.contains(\"CN\")]\n",
    "df_cn"
   ]
  },
  {
   "cell_type": "code",
   "execution_count": 9,
   "metadata": {},
   "outputs": [
    {
     "name": "stdout",
     "output_type": "stream",
     "text": [
      "<class 'pandas.core.frame.DataFrame'>\n",
      "Int64Index: 46500 entries, 281907 to 328406\n",
      "Data columns (total 9 columns):\n",
      " #   Column    Non-Null Count  Dtype  \n",
      "---  ------    --------------  -----  \n",
      " 0   Date      46500 non-null  object \n",
      " 1   Country   46500 non-null  object \n",
      " 2   City      46500 non-null  object \n",
      " 3   Specie    46500 non-null  object \n",
      " 4   count     46500 non-null  float64\n",
      " 5   min       46500 non-null  float64\n",
      " 6   max       46500 non-null  float64\n",
      " 7   median    46500 non-null  float64\n",
      " 8   variance  46500 non-null  float64\n",
      "dtypes: float64(5), object(4)\n",
      "memory usage: 3.5+ MB\n"
     ]
    }
   ],
   "source": [
    "df_cn.info()"
   ]
  },
  {
   "cell_type": "code",
   "execution_count": 10,
   "metadata": {},
   "outputs": [
    {
     "data": {
      "text/html": [
       "<div>\n",
       "<style scoped>\n",
       "    .dataframe tbody tr th:only-of-type {\n",
       "        vertical-align: middle;\n",
       "    }\n",
       "\n",
       "    .dataframe tbody tr th {\n",
       "        vertical-align: top;\n",
       "    }\n",
       "\n",
       "    .dataframe thead th {\n",
       "        text-align: right;\n",
       "    }\n",
       "</style>\n",
       "<table border=\"1\" class=\"dataframe\">\n",
       "  <thead>\n",
       "    <tr style=\"text-align: right;\">\n",
       "      <th></th>\n",
       "      <th>Date</th>\n",
       "      <th>Country</th>\n",
       "      <th>City</th>\n",
       "      <th>Specie</th>\n",
       "    </tr>\n",
       "  </thead>\n",
       "  <tbody>\n",
       "    <tr>\n",
       "      <th>count</th>\n",
       "      <td>46500</td>\n",
       "      <td>46500</td>\n",
       "      <td>46500</td>\n",
       "      <td>46500</td>\n",
       "    </tr>\n",
       "    <tr>\n",
       "      <th>unique</th>\n",
       "      <td>98</td>\n",
       "      <td>1</td>\n",
       "      <td>52</td>\n",
       "      <td>14</td>\n",
       "    </tr>\n",
       "    <tr>\n",
       "      <th>top</th>\n",
       "      <td>2021-11-07</td>\n",
       "      <td>CN</td>\n",
       "      <td>Xuchang</td>\n",
       "      <td>pm10</td>\n",
       "    </tr>\n",
       "    <tr>\n",
       "      <th>freq</th>\n",
       "      <td>538</td>\n",
       "      <td>46500</td>\n",
       "      <td>1091</td>\n",
       "      <td>5018</td>\n",
       "    </tr>\n",
       "  </tbody>\n",
       "</table>\n",
       "</div>"
      ],
      "text/plain": [
       "              Date Country     City Specie\n",
       "count        46500   46500    46500  46500\n",
       "unique          98       1       52     14\n",
       "top     2021-11-07      CN  Xuchang   pm10\n",
       "freq           538   46500     1091   5018"
      ]
     },
     "execution_count": 10,
     "metadata": {},
     "output_type": "execute_result"
    }
   ],
   "source": [
    "df_cn.describe(include=\"object\")\n",
    "\n",
    "#there is data collected from 52 cities in China in the year 21."
   ]
  },
  {
   "cell_type": "code",
   "execution_count": 11,
   "metadata": {
    "scrolled": true
   },
   "outputs": [
    {
     "data": {
      "text/plain": [
       "Xuchang         0.023462\n",
       "Zhengzhou       0.023462\n",
       "Qingdao         0.022968\n",
       "Guangzhou       0.022882\n",
       "Nanjing         0.022882\n",
       "Hangzhou        0.022860\n",
       "Jieyang         0.022839\n",
       "Shantou         0.022839\n",
       "Suzhou          0.022151\n",
       "Shanghai        0.022086\n",
       "Shijiazhuang    0.021892\n",
       "Changzhou       0.021763\n",
       "Xinxiang        0.021355\n",
       "Dongguan        0.021269\n",
       "Foshan          0.021118\n",
       "Beijing         0.020882\n",
       "Shiyan          0.020817\n",
       "Shenyang        0.020688\n",
       "Fushun          0.020688\n",
       "Hegang          0.020667\n",
       "Changchun       0.020581\n",
       "Taiyuan         0.020538\n",
       "Ningbo          0.020538\n",
       "Harbin          0.020452\n",
       "Nanning         0.020409\n",
       "Haikou          0.020409\n",
       "Kunming         0.020409\n",
       "Hefei           0.020409\n",
       "Xiamen          0.020366\n",
       "Changsha        0.020366\n",
       "Zhuzhou         0.020366\n",
       "Chengdu         0.020344\n",
       "ÃrÃ¼mqi        0.020344\n",
       "Guiyang         0.020323\n",
       "Lanzhou         0.020323\n",
       "Chongqing       0.020301\n",
       "Xi?an          0.020301\n",
       "Shenzhen        0.019699\n",
       "Hohhot          0.018473\n",
       "Tianjin         0.018452\n",
       "Fuzhou          0.018344\n",
       "Jinan           0.014624\n",
       "Qinhuangdao     0.014215\n",
       "Anyang          0.013591\n",
       "Lhasa           0.012645\n",
       "Xining          0.012645\n",
       "Qiqihar         0.012645\n",
       "Nanchang        0.012645\n",
       "Yinchuan        0.012645\n",
       "Wuxi            0.011527\n",
       "Wuhan           0.010968\n",
       "Yunfu           0.010538\n",
       "Name: City, dtype: float64"
      ]
     },
     "execution_count": 11,
     "metadata": {},
     "output_type": "execute_result"
    }
   ],
   "source": [
    "df_cn[\"City\"].value_counts(normalize=True)\n",
    "#This shows that we didn't collect exactly the same amount of data in each city, but roughly the same amount.\n"
   ]
  },
  {
   "cell_type": "code",
   "execution_count": 12,
   "metadata": {},
   "outputs": [
    {
     "data": {
      "text/plain": [
       "array(['o3', 'humidity', 'so2', 'pm25', 'no2', 'dew', 'co', 'temperature',\n",
       "       'pm10', 'pressure', 'wind-speed', 'wind-gust', 'aqi',\n",
       "       'precipitation'], dtype=object)"
      ]
     },
     "execution_count": 12,
     "metadata": {},
     "output_type": "execute_result"
    }
   ],
   "source": [
    "df_cn[\"Specie\"].unique()\n",
    "# In addition to fine dust data such as 'pm25' and 'pm10', weather data such as 'wind-speed', 'wind-gust', and 'so2' are also included."
   ]
  },
  {
   "cell_type": "code",
   "execution_count": 7,
   "metadata": {},
   "outputs": [
    {
     "data": {
      "text/plain": [
       "array(['Beijing', 'Jieyang', 'Kunming', 'Hangzhou', 'Chongqing',\n",
       "       'Qingdao', 'Haikou', 'Ã\\x9crÃ¼mqi', 'Qiqihar', 'Guiyang',\n",
       "       'Shenzhen', 'Yunfu', 'Xuchang', 'Yinchuan', 'Shenyang', 'Lhasa',\n",
       "       'Shanghai', 'Changchun', 'Foshan', 'Nanning', 'Fushun', 'Hefei',\n",
       "       'Chengdu', 'Hohhot', 'Qinhuangdao', 'Shijiazhuang', 'Shantou',\n",
       "       'Zhengzhou', 'Nanjing', 'Xining', 'Xi?\\x99an', 'Zhuzhou', 'Wuhan',\n",
       "       'Tianjin', 'Changzhou', 'Nanchang', 'Shiyan', 'Xinxiang', 'Suzhou',\n",
       "       'Harbin', 'Lanzhou', 'Jinan', 'Changsha', 'Hegang', 'Anyang',\n",
       "       'Wuxi', 'Taiyuan', 'Guangzhou', 'Fuzhou', 'Ningbo', 'Xiamen',\n",
       "       'Dongguan'], dtype=object)"
      ]
     },
     "execution_count": 7,
     "metadata": {},
     "output_type": "execute_result"
    }
   ],
   "source": [
    "df_cn[\"City\"].unique()\n",
    "\n",
    "#To investigate the impact of Chinese air pollution on Korea,I will only select the data of cities in China that are cloase ot Korea and ranked as the top dust emission in China.\n",
    "# Top regions with annual dust emissions in China Source: https://www.hankookilbo.com/News/Read/201701030464184899\n",
    "#Chose city to investigate ('Jinan', 'Beijing', 'Shijiazhuang', 'Nanjing', 'Zhengzhou')"
   ]
  },
  {
   "cell_type": "code",
   "execution_count": 8,
   "metadata": {},
   "outputs": [
    {
     "data": {
      "text/html": [
       "<div>\n",
       "<style scoped>\n",
       "    .dataframe tbody tr th:only-of-type {\n",
       "        vertical-align: middle;\n",
       "    }\n",
       "\n",
       "    .dataframe tbody tr th {\n",
       "        vertical-align: top;\n",
       "    }\n",
       "\n",
       "    .dataframe thead th {\n",
       "        text-align: right;\n",
       "    }\n",
       "</style>\n",
       "<table border=\"1\" class=\"dataframe\">\n",
       "  <thead>\n",
       "    <tr style=\"text-align: right;\">\n",
       "      <th></th>\n",
       "      <th>Date</th>\n",
       "      <th>Country</th>\n",
       "      <th>City</th>\n",
       "      <th>Specie</th>\n",
       "      <th>count</th>\n",
       "      <th>min</th>\n",
       "      <th>max</th>\n",
       "      <th>median</th>\n",
       "      <th>variance</th>\n",
       "    </tr>\n",
       "  </thead>\n",
       "  <tbody>\n",
       "    <tr>\n",
       "      <th>281907</th>\n",
       "      <td>2021-11-18</td>\n",
       "      <td>CN</td>\n",
       "      <td>Beijing</td>\n",
       "      <td>o3</td>\n",
       "      <td>220.0</td>\n",
       "      <td>0.5</td>\n",
       "      <td>26.4</td>\n",
       "      <td>1.7</td>\n",
       "      <td>103.01</td>\n",
       "    </tr>\n",
       "    <tr>\n",
       "      <th>281908</th>\n",
       "      <td>2022-01-01</td>\n",
       "      <td>CN</td>\n",
       "      <td>Beijing</td>\n",
       "      <td>o3</td>\n",
       "      <td>237.0</td>\n",
       "      <td>0.5</td>\n",
       "      <td>30.1</td>\n",
       "      <td>13.0</td>\n",
       "      <td>1264.43</td>\n",
       "    </tr>\n",
       "    <tr>\n",
       "      <th>281909</th>\n",
       "      <td>2021-10-18</td>\n",
       "      <td>CN</td>\n",
       "      <td>Beijing</td>\n",
       "      <td>o3</td>\n",
       "      <td>237.0</td>\n",
       "      <td>0.5</td>\n",
       "      <td>26.4</td>\n",
       "      <td>6.5</td>\n",
       "      <td>552.08</td>\n",
       "    </tr>\n",
       "    <tr>\n",
       "      <th>281910</th>\n",
       "      <td>2021-10-29</td>\n",
       "      <td>CN</td>\n",
       "      <td>Beijing</td>\n",
       "      <td>o3</td>\n",
       "      <td>194.0</td>\n",
       "      <td>0.5</td>\n",
       "      <td>29.7</td>\n",
       "      <td>5.3</td>\n",
       "      <td>646.44</td>\n",
       "    </tr>\n",
       "    <tr>\n",
       "      <th>281911</th>\n",
       "      <td>2021-11-09</td>\n",
       "      <td>CN</td>\n",
       "      <td>Beijing</td>\n",
       "      <td>o3</td>\n",
       "      <td>284.0</td>\n",
       "      <td>13.0</td>\n",
       "      <td>29.7</td>\n",
       "      <td>24.0</td>\n",
       "      <td>103.92</td>\n",
       "    </tr>\n",
       "    <tr>\n",
       "      <th>...</th>\n",
       "      <td>...</td>\n",
       "      <td>...</td>\n",
       "      <td>...</td>\n",
       "      <td>...</td>\n",
       "      <td>...</td>\n",
       "      <td>...</td>\n",
       "      <td>...</td>\n",
       "      <td>...</td>\n",
       "      <td>...</td>\n",
       "    </tr>\n",
       "    <tr>\n",
       "      <th>319563</th>\n",
       "      <td>2021-11-05</td>\n",
       "      <td>CN</td>\n",
       "      <td>Jinan</td>\n",
       "      <td>pm25</td>\n",
       "      <td>341.0</td>\n",
       "      <td>30.0</td>\n",
       "      <td>199.0</td>\n",
       "      <td>152.0</td>\n",
       "      <td>15301.00</td>\n",
       "    </tr>\n",
       "    <tr>\n",
       "      <th>319564</th>\n",
       "      <td>2021-12-05</td>\n",
       "      <td>CN</td>\n",
       "      <td>Jinan</td>\n",
       "      <td>pm25</td>\n",
       "      <td>352.0</td>\n",
       "      <td>61.0</td>\n",
       "      <td>163.0</td>\n",
       "      <td>122.0</td>\n",
       "      <td>5409.69</td>\n",
       "    </tr>\n",
       "    <tr>\n",
       "      <th>319565</th>\n",
       "      <td>2021-12-09</td>\n",
       "      <td>CN</td>\n",
       "      <td>Jinan</td>\n",
       "      <td>pm25</td>\n",
       "      <td>344.0</td>\n",
       "      <td>93.0</td>\n",
       "      <td>233.0</td>\n",
       "      <td>153.0</td>\n",
       "      <td>5547.22</td>\n",
       "    </tr>\n",
       "    <tr>\n",
       "      <th>319566</th>\n",
       "      <td>2021-12-11</td>\n",
       "      <td>CN</td>\n",
       "      <td>Jinan</td>\n",
       "      <td>pm25</td>\n",
       "      <td>352.0</td>\n",
       "      <td>93.0</td>\n",
       "      <td>252.0</td>\n",
       "      <td>173.0</td>\n",
       "      <td>9272.23</td>\n",
       "    </tr>\n",
       "    <tr>\n",
       "      <th>319567</th>\n",
       "      <td>2021-12-27</td>\n",
       "      <td>CN</td>\n",
       "      <td>Jinan</td>\n",
       "      <td>pm25</td>\n",
       "      <td>346.0</td>\n",
       "      <td>50.0</td>\n",
       "      <td>158.0</td>\n",
       "      <td>87.0</td>\n",
       "      <td>4866.89</td>\n",
       "    </tr>\n",
       "  </tbody>\n",
       "</table>\n",
       "<p>4824 rows × 9 columns</p>\n",
       "</div>"
      ],
      "text/plain": [
       "              Date Country     City Specie  count   min    max  median  \\\n",
       "281907  2021-11-18      CN  Beijing     o3  220.0   0.5   26.4     1.7   \n",
       "281908  2022-01-01      CN  Beijing     o3  237.0   0.5   30.1    13.0   \n",
       "281909  2021-10-18      CN  Beijing     o3  237.0   0.5   26.4     6.5   \n",
       "281910  2021-10-29      CN  Beijing     o3  194.0   0.5   29.7     5.3   \n",
       "281911  2021-11-09      CN  Beijing     o3  284.0  13.0   29.7    24.0   \n",
       "...            ...     ...      ...    ...    ...   ...    ...     ...   \n",
       "319563  2021-11-05      CN    Jinan   pm25  341.0  30.0  199.0   152.0   \n",
       "319564  2021-12-05      CN    Jinan   pm25  352.0  61.0  163.0   122.0   \n",
       "319565  2021-12-09      CN    Jinan   pm25  344.0  93.0  233.0   153.0   \n",
       "319566  2021-12-11      CN    Jinan   pm25  352.0  93.0  252.0   173.0   \n",
       "319567  2021-12-27      CN    Jinan   pm25  346.0  50.0  158.0    87.0   \n",
       "\n",
       "        variance  \n",
       "281907    103.01  \n",
       "281908   1264.43  \n",
       "281909    552.08  \n",
       "281910    646.44  \n",
       "281911    103.92  \n",
       "...          ...  \n",
       "319563  15301.00  \n",
       "319564   5409.69  \n",
       "319565   5547.22  \n",
       "319566   9272.23  \n",
       "319567   4866.89  \n",
       "\n",
       "[4824 rows x 9 columns]"
      ]
     },
     "execution_count": 8,
     "metadata": {},
     "output_type": "execute_result"
    }
   ],
   "source": [
    "df_21_q4= df_cn[df_cn[\"City\"].isin(['Jinan', 'Beijing', 'Shijiazhuang', 'Nanjing', 'Zhengzhou'])]\n",
    "df_21_q4"
   ]
  },
  {
   "cell_type": "markdown",
   "metadata": {},
   "source": [
    "I extracted only the dataset of five Chinese cities from the global fine dust dataset in the fourth quarter of 2021.\n",
    "\n",
    "Now, using the def function, I will  create the dust emssion datasets of 5 cities in China of the following periods. (2021 1, 2, 3 quarters / 2020 1 ~ 4 quarters / 2019 1 ~ 4 quarters / 2018 / 2017 / 2016)"
   ]
  },
  {
   "cell_type": "code",
   "execution_count": 9,
   "metadata": {},
   "outputs": [],
   "source": [
    "#2015\n",
    "df15=pd.read_csv(\"waqi-covid19-airqualitydata-2015.csv\", encoding='latin-1')"
   ]
  },
  {
   "cell_type": "code",
   "execution_count": 10,
   "metadata": {},
   "outputs": [],
   "source": [
    "def get_city_data_list(df_yr):\n",
    "    df_cn=df_yr[df_yr[\"Country\"].str.contains(\"CN\")]\n",
    "    df_city= df_cn[df_cn[\"City\"].isin(['Jinan', 'Beijing', 'Shijiazhuang', 'Nanjing', 'Zhengzhou'])]\n",
    "    \n",
    "    return df_city"
   ]
  },
  {
   "cell_type": "code",
   "execution_count": 11,
   "metadata": {},
   "outputs": [
    {
     "data": {
      "text/html": [
       "<div>\n",
       "<style scoped>\n",
       "    .dataframe tbody tr th:only-of-type {\n",
       "        vertical-align: middle;\n",
       "    }\n",
       "\n",
       "    .dataframe tbody tr th {\n",
       "        vertical-align: top;\n",
       "    }\n",
       "\n",
       "    .dataframe thead th {\n",
       "        text-align: right;\n",
       "    }\n",
       "</style>\n",
       "<table border=\"1\" class=\"dataframe\">\n",
       "  <thead>\n",
       "    <tr style=\"text-align: right;\">\n",
       "      <th></th>\n",
       "      <th>Date</th>\n",
       "      <th>Country</th>\n",
       "      <th>City</th>\n",
       "      <th>Specie</th>\n",
       "      <th>count</th>\n",
       "      <th>min</th>\n",
       "      <th>max</th>\n",
       "      <th>median</th>\n",
       "      <th>variance</th>\n",
       "    </tr>\n",
       "  </thead>\n",
       "  <tbody>\n",
       "    <tr>\n",
       "      <th>306783</th>\n",
       "      <td>2015-01-04</td>\n",
       "      <td>CN</td>\n",
       "      <td>Beijing</td>\n",
       "      <td>pm25</td>\n",
       "      <td>450.0</td>\n",
       "      <td>80.0</td>\n",
       "      <td>494.0</td>\n",
       "      <td>255.0</td>\n",
       "      <td>65212.90</td>\n",
       "    </tr>\n",
       "    <tr>\n",
       "      <th>306784</th>\n",
       "      <td>2015-01-12</td>\n",
       "      <td>CN</td>\n",
       "      <td>Beijing</td>\n",
       "      <td>pm25</td>\n",
       "      <td>449.0</td>\n",
       "      <td>91.0</td>\n",
       "      <td>326.0</td>\n",
       "      <td>181.0</td>\n",
       "      <td>8349.02</td>\n",
       "    </tr>\n",
       "    <tr>\n",
       "      <th>306785</th>\n",
       "      <td>2015-02-17</td>\n",
       "      <td>CN</td>\n",
       "      <td>Beijing</td>\n",
       "      <td>pm25</td>\n",
       "      <td>336.0</td>\n",
       "      <td>13.0</td>\n",
       "      <td>197.0</td>\n",
       "      <td>68.0</td>\n",
       "      <td>10622.50</td>\n",
       "    </tr>\n",
       "    <tr>\n",
       "      <th>306786</th>\n",
       "      <td>2015-06-11</td>\n",
       "      <td>CN</td>\n",
       "      <td>Beijing</td>\n",
       "      <td>pm25</td>\n",
       "      <td>416.0</td>\n",
       "      <td>13.0</td>\n",
       "      <td>209.0</td>\n",
       "      <td>57.0</td>\n",
       "      <td>30655.90</td>\n",
       "    </tr>\n",
       "    <tr>\n",
       "      <th>306787</th>\n",
       "      <td>2015-06-13</td>\n",
       "      <td>CN</td>\n",
       "      <td>Beijing</td>\n",
       "      <td>pm25</td>\n",
       "      <td>446.0</td>\n",
       "      <td>13.0</td>\n",
       "      <td>140.0</td>\n",
       "      <td>42.0</td>\n",
       "      <td>5978.25</td>\n",
       "    </tr>\n",
       "    <tr>\n",
       "      <th>...</th>\n",
       "      <td>...</td>\n",
       "      <td>...</td>\n",
       "      <td>...</td>\n",
       "      <td>...</td>\n",
       "      <td>...</td>\n",
       "      <td>...</td>\n",
       "      <td>...</td>\n",
       "      <td>...</td>\n",
       "      <td>...</td>\n",
       "    </tr>\n",
       "    <tr>\n",
       "      <th>353608</th>\n",
       "      <td>2015-04-23</td>\n",
       "      <td>CN</td>\n",
       "      <td>Jinan</td>\n",
       "      <td>pm10</td>\n",
       "      <td>333.0</td>\n",
       "      <td>33.0</td>\n",
       "      <td>163.0</td>\n",
       "      <td>92.0</td>\n",
       "      <td>3872.85</td>\n",
       "    </tr>\n",
       "    <tr>\n",
       "      <th>353609</th>\n",
       "      <td>2015-04-25</td>\n",
       "      <td>CN</td>\n",
       "      <td>Jinan</td>\n",
       "      <td>pm10</td>\n",
       "      <td>332.0</td>\n",
       "      <td>4.0</td>\n",
       "      <td>477.0</td>\n",
       "      <td>109.0</td>\n",
       "      <td>46057.50</td>\n",
       "    </tr>\n",
       "    <tr>\n",
       "      <th>353610</th>\n",
       "      <td>2015-06-01</td>\n",
       "      <td>CN</td>\n",
       "      <td>Jinan</td>\n",
       "      <td>pm10</td>\n",
       "      <td>210.0</td>\n",
       "      <td>65.0</td>\n",
       "      <td>155.0</td>\n",
       "      <td>93.0</td>\n",
       "      <td>3074.36</td>\n",
       "    </tr>\n",
       "    <tr>\n",
       "      <th>353611</th>\n",
       "      <td>2015-06-11</td>\n",
       "      <td>CN</td>\n",
       "      <td>Jinan</td>\n",
       "      <td>pm10</td>\n",
       "      <td>335.0</td>\n",
       "      <td>1.0</td>\n",
       "      <td>268.0</td>\n",
       "      <td>69.0</td>\n",
       "      <td>8702.85</td>\n",
       "    </tr>\n",
       "    <tr>\n",
       "      <th>353612</th>\n",
       "      <td>2015-06-29</td>\n",
       "      <td>CN</td>\n",
       "      <td>Jinan</td>\n",
       "      <td>pm10</td>\n",
       "      <td>336.0</td>\n",
       "      <td>11.0</td>\n",
       "      <td>168.0</td>\n",
       "      <td>65.0</td>\n",
       "      <td>2939.99</td>\n",
       "    </tr>\n",
       "  </tbody>\n",
       "</table>\n",
       "<p>5705 rows × 9 columns</p>\n",
       "</div>"
      ],
      "text/plain": [
       "              Date Country     City Specie  count   min    max  median  \\\n",
       "306783  2015-01-04      CN  Beijing   pm25  450.0  80.0  494.0   255.0   \n",
       "306784  2015-01-12      CN  Beijing   pm25  449.0  91.0  326.0   181.0   \n",
       "306785  2015-02-17      CN  Beijing   pm25  336.0  13.0  197.0    68.0   \n",
       "306786  2015-06-11      CN  Beijing   pm25  416.0  13.0  209.0    57.0   \n",
       "306787  2015-06-13      CN  Beijing   pm25  446.0  13.0  140.0    42.0   \n",
       "...            ...     ...      ...    ...    ...   ...    ...     ...   \n",
       "353608  2015-04-23      CN    Jinan   pm10  333.0  33.0  163.0    92.0   \n",
       "353609  2015-04-25      CN    Jinan   pm10  332.0   4.0  477.0   109.0   \n",
       "353610  2015-06-01      CN    Jinan   pm10  210.0  65.0  155.0    93.0   \n",
       "353611  2015-06-11      CN    Jinan   pm10  335.0   1.0  268.0    69.0   \n",
       "353612  2015-06-29      CN    Jinan   pm10  336.0  11.0  168.0    65.0   \n",
       "\n",
       "        variance  \n",
       "306783  65212.90  \n",
       "306784   8349.02  \n",
       "306785  10622.50  \n",
       "306786  30655.90  \n",
       "306787   5978.25  \n",
       "...          ...  \n",
       "353608   3872.85  \n",
       "353609  46057.50  \n",
       "353610   3074.36  \n",
       "353611   8702.85  \n",
       "353612   2939.99  \n",
       "\n",
       "[5705 rows x 9 columns]"
      ]
     },
     "execution_count": 11,
     "metadata": {},
     "output_type": "execute_result"
    }
   ],
   "source": [
    "df_yr = df15\n",
    "df_15=get_city_data_list(df_yr)\n",
    "df_15"
   ]
  },
  {
   "cell_type": "code",
   "execution_count": 12,
   "metadata": {},
   "outputs": [],
   "source": [
    "#2016, 2017, 2018\n",
    "\n",
    "df16=pd.read_csv(\"waqi-covid19-airqualitydata-2016H1.csv\", encoding='latin-1')\n",
    "df17=pd.read_csv(\"waqi-covid19-airqualitydata-2017H1.csv\", encoding='latin-1')\n",
    "df18=pd.read_csv(\"waqi-covid19-airqualitydata-2018H1.csv\", encoding='latin-1')"
   ]
  },
  {
   "cell_type": "code",
   "execution_count": 13,
   "metadata": {},
   "outputs": [],
   "source": [
    "df_yr = df16\n",
    "df_16=get_city_data_list(df_yr)"
   ]
  },
  {
   "cell_type": "code",
   "execution_count": 14,
   "metadata": {},
   "outputs": [],
   "source": [
    "df_yr = df17\n",
    "df_17=get_city_data_list(df_yr)"
   ]
  },
  {
   "cell_type": "code",
   "execution_count": 15,
   "metadata": {},
   "outputs": [],
   "source": [
    "df_yr = df18\n",
    "df_18=get_city_data_list(df_yr)"
   ]
  },
  {
   "cell_type": "markdown",
   "metadata": {},
   "source": [
    "For years 19, 20, and 21, the data is divided into 1, 2, 3, and 4 quarters, so they must be combined."
   ]
  },
  {
   "cell_type": "code",
   "execution_count": 16,
   "metadata": {},
   "outputs": [],
   "source": [
    "#2019\n",
    "df19_q1=pd.read_csv(\"waqi-covid19-airqualitydata-2019Q1.csv\", encoding='latin-1')\n",
    "df19_q2=pd.read_csv(\"waqi-covid19-airqualitydata-2019Q2.csv\", encoding='latin-1')\n",
    "df19_q3=pd.read_csv(\"waqi-covid19-airqualitydata-2019Q3.csv\", encoding='latin-1')\n",
    "df19_q4=pd.read_csv(\"waqi-covid19-airqualitydata-2019Q4.csv\", encoding='latin-1')\n",
    "\n",
    "#1Q\n",
    "df_yr = df19_q1\n",
    "df_19_q1=get_city_data_list(df_yr)\n",
    "\n",
    "#2Q\n",
    "df_yr = df19_q2\n",
    "df_19_q2=get_city_data_list(df_yr)\n",
    "\n",
    "#3Q\n",
    "df_yr = df19_q3\n",
    "df_19_q3=get_city_data_list(df_yr)\n",
    "\n",
    "#4Q\n",
    "df_yr = df19_q4\n",
    "df_19_q4=get_city_data_list(df_yr)\n",
    "\n",
    "#concat quaterly datasets to make annual datasets\n",
    "df_19 = pd.concat([df_19_q1, df_19_q2, df_19_q3, df_19_q4], join='inner')\n"
   ]
  },
  {
   "cell_type": "code",
   "execution_count": 17,
   "metadata": {},
   "outputs": [],
   "source": [
    "#2020\n",
    "df20_q1=pd.read_csv(\"waqi-covid19-airqualitydata-2020Q1.csv\", encoding='latin-1')\n",
    "df20_q2=pd.read_csv(\"waqi-covid19-airqualitydata-2020Q2.csv\", encoding='latin-1')\n",
    "df20_q3=pd.read_csv(\"waqi-covid19-airqualitydata-2020Q3.csv\", encoding='latin-1')\n",
    "df20_q4=pd.read_csv(\"waqi-covid19-airqualitydata-2020Q4.csv\", encoding='latin-1')"
   ]
  },
  {
   "cell_type": "code",
   "execution_count": 18,
   "metadata": {},
   "outputs": [],
   "source": [
    "df_yr = df20_q1\n",
    "df_20_q1=get_city_data_list(df_yr)\n",
    "\n",
    "\n",
    "df_yr = df20_q2\n",
    "df_20_q2=get_city_data_list(df_yr)\n",
    "\n",
    "\n",
    "df_yr = df20_q3\n",
    "df_20_q3=get_city_data_list(df_yr)\n",
    "\n",
    "\n",
    "df_yr = df20_q4\n",
    "df_20_q4=get_city_data_list(df_yr)"
   ]
  },
  {
   "cell_type": "code",
   "execution_count": 19,
   "metadata": {},
   "outputs": [],
   "source": [
    "df_20 = pd.concat([df_20_q1, df_20_q2, df_20_q3, df_20_q4], join='inner')"
   ]
  },
  {
   "cell_type": "code",
   "execution_count": 20,
   "metadata": {},
   "outputs": [],
   "source": [
    "#2021\n",
    "\n",
    "df21_q1=pd.read_csv(\"waqi-covid19-airqualitydata-2021Q1.csv\", encoding='latin-1')\n",
    "df21_q2=pd.read_csv(\"waqi-covid19-airqualitydata-2021Q2.csv\", encoding='latin-1')\n",
    "df21_q3=pd.read_csv(\"waqi-covid19-airqualitydata-2021Q3.csv\", encoding='latin-1')"
   ]
  },
  {
   "cell_type": "code",
   "execution_count": 21,
   "metadata": {},
   "outputs": [],
   "source": [
    "df_yr = df21_q1\n",
    "df_21_q1=get_city_data_list(df_yr)\n",
    "\n",
    "df_yr = df21_q2\n",
    "df_21_q2=get_city_data_list(df_yr)\n",
    "\n",
    "df_yr = df21_q3\n",
    "df_21_q3=get_city_data_list(df_yr)"
   ]
  },
  {
   "cell_type": "code",
   "execution_count": 22,
   "metadata": {},
   "outputs": [],
   "source": [
    "df_21 = pd.concat([df_21_q1, df_21_q2, df_21_q3, df_21_q4], join='inner')"
   ]
  },
  {
   "cell_type": "code",
   "execution_count": 35,
   "metadata": {},
   "outputs": [
    {
     "name": "stdout",
     "output_type": "stream",
     "text": [
      "<class 'pandas.core.frame.DataFrame'>\n",
      "RangeIndex: 90169 entries, 0 to 90168\n",
      "Data columns (total 9 columns):\n",
      " #   Column    Non-Null Count  Dtype  \n",
      "---  ------    --------------  -----  \n",
      " 0   Date      90169 non-null  object \n",
      " 1   Country   90169 non-null  object \n",
      " 2   City      90169 non-null  object \n",
      " 3   Specie    90169 non-null  object \n",
      " 4   count     90169 non-null  float64\n",
      " 5   min       90169 non-null  float64\n",
      " 6   max       90169 non-null  float64\n",
      " 7   median    90169 non-null  float64\n",
      " 8   variance  90169 non-null  float64\n",
      "dtypes: float64(5), object(4)\n",
      "memory usage: 6.2+ MB\n"
     ]
    }
   ],
   "source": [
    "#merge data from 2015~2021 into a single dataset.\n",
    "df_all = pd.concat([df_15, df_16, df_17, df_18, df_19, df_20, df_21], join='inner').reset_index(drop=True)\n",
    "df_all.info()"
   ]
  },
  {
   "cell_type": "code",
   "execution_count": 36,
   "metadata": {},
   "outputs": [],
   "source": [
    "#\"DATE\" is date format data representing year-month-day. However, the data type is classified as 'int.'\n",
    "# So, let's convert it to a date type using pandas.\n"
   ]
  },
  {
   "cell_type": "code",
   "execution_count": 37,
   "metadata": {},
   "outputs": [],
   "source": [
    "df_all['Date'] = pd.to_datetime(df_all['Date'])"
   ]
  },
  {
   "cell_type": "code",
   "execution_count": 38,
   "metadata": {},
   "outputs": [],
   "source": [
    "df_all['year'] = df_all['Date'].dt.year\n",
    "df_all['month'] = df_all['Date'].dt.month\n",
    "df_all['day'] = df_all['Date'].dt.day"
   ]
  },
  {
   "cell_type": "code",
   "execution_count": 39,
   "metadata": {},
   "outputs": [
    {
     "data": {
      "text/html": [
       "<div>\n",
       "<style scoped>\n",
       "    .dataframe tbody tr th:only-of-type {\n",
       "        vertical-align: middle;\n",
       "    }\n",
       "\n",
       "    .dataframe tbody tr th {\n",
       "        vertical-align: top;\n",
       "    }\n",
       "\n",
       "    .dataframe thead th {\n",
       "        text-align: right;\n",
       "    }\n",
       "</style>\n",
       "<table border=\"1\" class=\"dataframe\">\n",
       "  <thead>\n",
       "    <tr style=\"text-align: right;\">\n",
       "      <th></th>\n",
       "      <th>Date</th>\n",
       "      <th>Country</th>\n",
       "      <th>City</th>\n",
       "      <th>Specie</th>\n",
       "      <th>count</th>\n",
       "      <th>min</th>\n",
       "      <th>max</th>\n",
       "      <th>median</th>\n",
       "      <th>variance</th>\n",
       "      <th>year</th>\n",
       "      <th>month</th>\n",
       "      <th>day</th>\n",
       "    </tr>\n",
       "  </thead>\n",
       "  <tbody>\n",
       "    <tr>\n",
       "      <th>0</th>\n",
       "      <td>2015-01-04</td>\n",
       "      <td>CN</td>\n",
       "      <td>Beijing</td>\n",
       "      <td>pm25</td>\n",
       "      <td>450.0</td>\n",
       "      <td>80.0</td>\n",
       "      <td>494.0</td>\n",
       "      <td>255.0</td>\n",
       "      <td>65212.90</td>\n",
       "      <td>2015</td>\n",
       "      <td>1</td>\n",
       "      <td>4</td>\n",
       "    </tr>\n",
       "    <tr>\n",
       "      <th>1</th>\n",
       "      <td>2015-01-12</td>\n",
       "      <td>CN</td>\n",
       "      <td>Beijing</td>\n",
       "      <td>pm25</td>\n",
       "      <td>449.0</td>\n",
       "      <td>91.0</td>\n",
       "      <td>326.0</td>\n",
       "      <td>181.0</td>\n",
       "      <td>8349.02</td>\n",
       "      <td>2015</td>\n",
       "      <td>1</td>\n",
       "      <td>12</td>\n",
       "    </tr>\n",
       "  </tbody>\n",
       "</table>\n",
       "</div>"
      ],
      "text/plain": [
       "        Date Country     City Specie  count   min    max  median  variance  \\\n",
       "0 2015-01-04      CN  Beijing   pm25  450.0  80.0  494.0   255.0  65212.90   \n",
       "1 2015-01-12      CN  Beijing   pm25  449.0  91.0  326.0   181.0   8349.02   \n",
       "\n",
       "   year  month  day  \n",
       "0  2015      1    4  \n",
       "1  2015      1   12  "
      ]
     },
     "execution_count": 39,
     "metadata": {},
     "output_type": "execute_result"
    }
   ],
   "source": [
    "df_all.head(2)"
   ]
  },
  {
   "cell_type": "code",
   "execution_count": 40,
   "metadata": {},
   "outputs": [],
   "source": [
    "#save it as CSV\n",
    "file_name = \"df_CN_all.csv\"\n",
    "df_all.to_csv(file_name, index = False)"
   ]
  },
  {
   "cell_type": "markdown",
   "metadata": {},
   "source": [
    "## EDA"
   ]
  },
  {
   "cell_type": "code",
   "execution_count": 41,
   "metadata": {},
   "outputs": [
    {
     "name": "stdout",
     "output_type": "stream",
     "text": [
      "Requirement already satisfied: plotly in c:\\users\\user\\anaconda3\\lib\\site-packages (5.10.0)\n",
      "Requirement already satisfied: tenacity>=6.2.0 in c:\\users\\user\\anaconda3\\lib\\site-packages (from plotly) (8.1.0)\n",
      "Note: you may need to restart the kernel to use updated packages.\n"
     ]
    }
   ],
   "source": [
    "pip install plotly"
   ]
  },
  {
   "cell_type": "code",
   "execution_count": 13,
   "metadata": {},
   "outputs": [],
   "source": [
    "import matplotlib.pyplot as plt\n",
    "import seaborn as sns\n",
    "import plotly.express as px\n",
    "import plotly.graph_objects as go\n",
    "%matplotlib inline"
   ]
  },
  {
   "cell_type": "code",
   "execution_count": 21,
   "metadata": {},
   "outputs": [],
   "source": [
    "df_all=pd.read_csv(\"df_CN_all.csv\", encoding='latin-1')"
   ]
  },
  {
   "cell_type": "markdown",
   "metadata": {},
   "source": [
    "###  Correlation Analysis"
   ]
  },
  {
   "cell_type": "code",
   "execution_count": 20,
   "metadata": {
    "scrolled": true
   },
   "outputs": [
    {
     "data": {
      "text/html": [
       "<div>\n",
       "<style scoped>\n",
       "    .dataframe tbody tr th:only-of-type {\n",
       "        vertical-align: middle;\n",
       "    }\n",
       "\n",
       "    .dataframe tbody tr th {\n",
       "        vertical-align: top;\n",
       "    }\n",
       "\n",
       "    .dataframe thead th {\n",
       "        text-align: right;\n",
       "    }\n",
       "</style>\n",
       "<table border=\"1\" class=\"dataframe\">\n",
       "  <thead>\n",
       "    <tr style=\"text-align: right;\">\n",
       "      <th></th>\n",
       "      <th>Specie</th>\n",
       "      <th>aqi</th>\n",
       "      <th>co</th>\n",
       "      <th>d</th>\n",
       "      <th>dew</th>\n",
       "      <th>humidity</th>\n",
       "      <th>no2</th>\n",
       "      <th>o3</th>\n",
       "      <th>pm10</th>\n",
       "      <th>pm25</th>\n",
       "      <th>pol</th>\n",
       "      <th>precipitation</th>\n",
       "      <th>pressure</th>\n",
       "      <th>so2</th>\n",
       "      <th>temperature</th>\n",
       "      <th>wd</th>\n",
       "      <th>wind gust</th>\n",
       "      <th>wind speed</th>\n",
       "      <th>wind-gust</th>\n",
       "      <th>wind-speed</th>\n",
       "    </tr>\n",
       "    <tr>\n",
       "      <th>City</th>\n",
       "      <th>Date</th>\n",
       "      <th></th>\n",
       "      <th></th>\n",
       "      <th></th>\n",
       "      <th></th>\n",
       "      <th></th>\n",
       "      <th></th>\n",
       "      <th></th>\n",
       "      <th></th>\n",
       "      <th></th>\n",
       "      <th></th>\n",
       "      <th></th>\n",
       "      <th></th>\n",
       "      <th></th>\n",
       "      <th></th>\n",
       "      <th></th>\n",
       "      <th></th>\n",
       "      <th></th>\n",
       "      <th></th>\n",
       "      <th></th>\n",
       "    </tr>\n",
       "  </thead>\n",
       "  <tbody>\n",
       "    <tr>\n",
       "      <th rowspan=\"5\" valign=\"top\">Beijing</th>\n",
       "      <th>2014-12-29</th>\n",
       "      <td>NaN</td>\n",
       "      <td>32.6</td>\n",
       "      <td>NaN</td>\n",
       "      <td>NaN</td>\n",
       "      <td>NaN</td>\n",
       "      <td>51.0</td>\n",
       "      <td>3.7</td>\n",
       "      <td>118.0</td>\n",
       "      <td>190.0</td>\n",
       "      <td>NaN</td>\n",
       "      <td>NaN</td>\n",
       "      <td>NaN</td>\n",
       "      <td>23.4</td>\n",
       "      <td>NaN</td>\n",
       "      <td>NaN</td>\n",
       "      <td>NaN</td>\n",
       "      <td>NaN</td>\n",
       "      <td>NaN</td>\n",
       "      <td>NaN</td>\n",
       "    </tr>\n",
       "    <tr>\n",
       "      <th>2014-12-30</th>\n",
       "      <td>NaN</td>\n",
       "      <td>11.8</td>\n",
       "      <td>NaN</td>\n",
       "      <td>NaN</td>\n",
       "      <td>NaN</td>\n",
       "      <td>31.1</td>\n",
       "      <td>9.0</td>\n",
       "      <td>61.0</td>\n",
       "      <td>90.0</td>\n",
       "      <td>NaN</td>\n",
       "      <td>NaN</td>\n",
       "      <td>NaN</td>\n",
       "      <td>14.2</td>\n",
       "      <td>NaN</td>\n",
       "      <td>NaN</td>\n",
       "      <td>NaN</td>\n",
       "      <td>NaN</td>\n",
       "      <td>NaN</td>\n",
       "      <td>NaN</td>\n",
       "    </tr>\n",
       "    <tr>\n",
       "      <th>2014-12-31</th>\n",
       "      <td>NaN</td>\n",
       "      <td>2.8</td>\n",
       "      <td>NaN</td>\n",
       "      <td>NaN</td>\n",
       "      <td>NaN</td>\n",
       "      <td>6.9</td>\n",
       "      <td>21.4</td>\n",
       "      <td>44.0</td>\n",
       "      <td>34.0</td>\n",
       "      <td>NaN</td>\n",
       "      <td>NaN</td>\n",
       "      <td>NaN</td>\n",
       "      <td>4.3</td>\n",
       "      <td>NaN</td>\n",
       "      <td>NaN</td>\n",
       "      <td>NaN</td>\n",
       "      <td>NaN</td>\n",
       "      <td>NaN</td>\n",
       "      <td>NaN</td>\n",
       "    </tr>\n",
       "    <tr>\n",
       "      <th>2015-01-01</th>\n",
       "      <td>NaN</td>\n",
       "      <td>11.8</td>\n",
       "      <td>NaN</td>\n",
       "      <td>NaN</td>\n",
       "      <td>NaN</td>\n",
       "      <td>25.6</td>\n",
       "      <td>10.6</td>\n",
       "      <td>66.0</td>\n",
       "      <td>155.0</td>\n",
       "      <td>NaN</td>\n",
       "      <td>NaN</td>\n",
       "      <td>NaN</td>\n",
       "      <td>15.2</td>\n",
       "      <td>NaN</td>\n",
       "      <td>NaN</td>\n",
       "      <td>NaN</td>\n",
       "      <td>NaN</td>\n",
       "      <td>NaN</td>\n",
       "      <td>NaN</td>\n",
       "    </tr>\n",
       "    <tr>\n",
       "      <th>2015-01-02</th>\n",
       "      <td>NaN</td>\n",
       "      <td>13.6</td>\n",
       "      <td>NaN</td>\n",
       "      <td>NaN</td>\n",
       "      <td>NaN</td>\n",
       "      <td>32.0</td>\n",
       "      <td>6.5</td>\n",
       "      <td>74.0</td>\n",
       "      <td>154.0</td>\n",
       "      <td>NaN</td>\n",
       "      <td>NaN</td>\n",
       "      <td>NaN</td>\n",
       "      <td>16.8</td>\n",
       "      <td>NaN</td>\n",
       "      <td>NaN</td>\n",
       "      <td>NaN</td>\n",
       "      <td>NaN</td>\n",
       "      <td>NaN</td>\n",
       "      <td>NaN</td>\n",
       "    </tr>\n",
       "    <tr>\n",
       "      <th>...</th>\n",
       "      <th>...</th>\n",
       "      <td>...</td>\n",
       "      <td>...</td>\n",
       "      <td>...</td>\n",
       "      <td>...</td>\n",
       "      <td>...</td>\n",
       "      <td>...</td>\n",
       "      <td>...</td>\n",
       "      <td>...</td>\n",
       "      <td>...</td>\n",
       "      <td>...</td>\n",
       "      <td>...</td>\n",
       "      <td>...</td>\n",
       "      <td>...</td>\n",
       "      <td>...</td>\n",
       "      <td>...</td>\n",
       "      <td>...</td>\n",
       "      <td>...</td>\n",
       "      <td>...</td>\n",
       "      <td>...</td>\n",
       "    </tr>\n",
       "    <tr>\n",
       "      <th rowspan=\"5\" valign=\"top\">Zhengzhou</th>\n",
       "      <th>2021-12-29</th>\n",
       "      <td>NaN</td>\n",
       "      <td>7.6</td>\n",
       "      <td>NaN</td>\n",
       "      <td>-13.0</td>\n",
       "      <td>29.0</td>\n",
       "      <td>11.5</td>\n",
       "      <td>21.2</td>\n",
       "      <td>55.0</td>\n",
       "      <td>102.0</td>\n",
       "      <td>NaN</td>\n",
       "      <td>NaN</td>\n",
       "      <td>1029.0</td>\n",
       "      <td>6.1</td>\n",
       "      <td>4.0</td>\n",
       "      <td>NaN</td>\n",
       "      <td>NaN</td>\n",
       "      <td>NaN</td>\n",
       "      <td>11.8</td>\n",
       "      <td>4.6</td>\n",
       "    </tr>\n",
       "    <tr>\n",
       "      <th>2021-12-30</th>\n",
       "      <td>NaN</td>\n",
       "      <td>7.3</td>\n",
       "      <td>NaN</td>\n",
       "      <td>-14.0</td>\n",
       "      <td>29.0</td>\n",
       "      <td>10.6</td>\n",
       "      <td>22.0</td>\n",
       "      <td>51.0</td>\n",
       "      <td>87.0</td>\n",
       "      <td>NaN</td>\n",
       "      <td>NaN</td>\n",
       "      <td>1031.0</td>\n",
       "      <td>6.1</td>\n",
       "      <td>3.0</td>\n",
       "      <td>NaN</td>\n",
       "      <td>NaN</td>\n",
       "      <td>NaN</td>\n",
       "      <td>NaN</td>\n",
       "      <td>2.5</td>\n",
       "    </tr>\n",
       "    <tr>\n",
       "      <th>2021-12-31</th>\n",
       "      <td>NaN</td>\n",
       "      <td>10.7</td>\n",
       "      <td>NaN</td>\n",
       "      <td>-10.0</td>\n",
       "      <td>38.0</td>\n",
       "      <td>32.5</td>\n",
       "      <td>3.3</td>\n",
       "      <td>73.0</td>\n",
       "      <td>151.0</td>\n",
       "      <td>NaN</td>\n",
       "      <td>NaN</td>\n",
       "      <td>1032.0</td>\n",
       "      <td>8.2</td>\n",
       "      <td>5.0</td>\n",
       "      <td>NaN</td>\n",
       "      <td>NaN</td>\n",
       "      <td>NaN</td>\n",
       "      <td>NaN</td>\n",
       "      <td>1.5</td>\n",
       "    </tr>\n",
       "    <tr>\n",
       "      <th>2022-01-01</th>\n",
       "      <td>NaN</td>\n",
       "      <td>8.4</td>\n",
       "      <td>NaN</td>\n",
       "      <td>-9.0</td>\n",
       "      <td>40.0</td>\n",
       "      <td>27.0</td>\n",
       "      <td>11.8</td>\n",
       "      <td>70.0</td>\n",
       "      <td>155.0</td>\n",
       "      <td>NaN</td>\n",
       "      <td>NaN</td>\n",
       "      <td>1026.0</td>\n",
       "      <td>7.1</td>\n",
       "      <td>3.0</td>\n",
       "      <td>NaN</td>\n",
       "      <td>NaN</td>\n",
       "      <td>NaN</td>\n",
       "      <td>NaN</td>\n",
       "      <td>0.5</td>\n",
       "    </tr>\n",
       "    <tr>\n",
       "      <th>2022-01-02</th>\n",
       "      <td>NaN</td>\n",
       "      <td>10.0</td>\n",
       "      <td>NaN</td>\n",
       "      <td>-8.0</td>\n",
       "      <td>44.0</td>\n",
       "      <td>25.6</td>\n",
       "      <td>7.4</td>\n",
       "      <td>79.0</td>\n",
       "      <td>161.0</td>\n",
       "      <td>NaN</td>\n",
       "      <td>NaN</td>\n",
       "      <td>1029.0</td>\n",
       "      <td>7.1</td>\n",
       "      <td>2.0</td>\n",
       "      <td>NaN</td>\n",
       "      <td>NaN</td>\n",
       "      <td>NaN</td>\n",
       "      <td>NaN</td>\n",
       "      <td>2.5</td>\n",
       "    </tr>\n",
       "  </tbody>\n",
       "</table>\n",
       "<p>9220 rows × 19 columns</p>\n",
       "</div>"
      ],
      "text/plain": [
       "Specie                aqi    co   d   dew  humidity   no2    o3   pm10   pm25  \\\n",
       "City      Date                                                                  \n",
       "Beijing   2014-12-29  NaN  32.6 NaN   NaN       NaN  51.0   3.7  118.0  190.0   \n",
       "          2014-12-30  NaN  11.8 NaN   NaN       NaN  31.1   9.0   61.0   90.0   \n",
       "          2014-12-31  NaN   2.8 NaN   NaN       NaN   6.9  21.4   44.0   34.0   \n",
       "          2015-01-01  NaN  11.8 NaN   NaN       NaN  25.6  10.6   66.0  155.0   \n",
       "          2015-01-02  NaN  13.6 NaN   NaN       NaN  32.0   6.5   74.0  154.0   \n",
       "...                   ...   ...  ..   ...       ...   ...   ...    ...    ...   \n",
       "Zhengzhou 2021-12-29  NaN   7.6 NaN -13.0      29.0  11.5  21.2   55.0  102.0   \n",
       "          2021-12-30  NaN   7.3 NaN -14.0      29.0  10.6  22.0   51.0   87.0   \n",
       "          2021-12-31  NaN  10.7 NaN -10.0      38.0  32.5   3.3   73.0  151.0   \n",
       "          2022-01-01  NaN   8.4 NaN  -9.0      40.0  27.0  11.8   70.0  155.0   \n",
       "          2022-01-02  NaN  10.0 NaN  -8.0      44.0  25.6   7.4   79.0  161.0   \n",
       "\n",
       "Specie                pol  precipitation  pressure   so2  temperature  wd  \\\n",
       "City      Date                                                              \n",
       "Beijing   2014-12-29  NaN            NaN       NaN  23.4          NaN NaN   \n",
       "          2014-12-30  NaN            NaN       NaN  14.2          NaN NaN   \n",
       "          2014-12-31  NaN            NaN       NaN   4.3          NaN NaN   \n",
       "          2015-01-01  NaN            NaN       NaN  15.2          NaN NaN   \n",
       "          2015-01-02  NaN            NaN       NaN  16.8          NaN NaN   \n",
       "...                   ...            ...       ...   ...          ...  ..   \n",
       "Zhengzhou 2021-12-29  NaN            NaN    1029.0   6.1          4.0 NaN   \n",
       "          2021-12-30  NaN            NaN    1031.0   6.1          3.0 NaN   \n",
       "          2021-12-31  NaN            NaN    1032.0   8.2          5.0 NaN   \n",
       "          2022-01-01  NaN            NaN    1026.0   7.1          3.0 NaN   \n",
       "          2022-01-02  NaN            NaN    1029.0   7.1          2.0 NaN   \n",
       "\n",
       "Specie                wind gust  wind speed  wind-gust  wind-speed  \n",
       "City      Date                                                      \n",
       "Beijing   2014-12-29        NaN         NaN        NaN         NaN  \n",
       "          2014-12-30        NaN         NaN        NaN         NaN  \n",
       "          2014-12-31        NaN         NaN        NaN         NaN  \n",
       "          2015-01-01        NaN         NaN        NaN         NaN  \n",
       "          2015-01-02        NaN         NaN        NaN         NaN  \n",
       "...                         ...         ...        ...         ...  \n",
       "Zhengzhou 2021-12-29        NaN         NaN       11.8         4.6  \n",
       "          2021-12-30        NaN         NaN        NaN         2.5  \n",
       "          2021-12-31        NaN         NaN        NaN         1.5  \n",
       "          2022-01-01        NaN         NaN        NaN         0.5  \n",
       "          2022-01-02        NaN         NaN        NaN         2.5  \n",
       "\n",
       "[9220 rows x 19 columns]"
      ]
     },
     "execution_count": 20,
     "metadata": {},
     "output_type": "execute_result"
    }
   ],
   "source": [
    "df_specie_pivot = pd.pivot_table(df_all,                # 피벗할 데이터프레임\n",
    "                     index = ['City','Date'],    # 행 위치에 들어갈 열\n",
    "                     columns = 'Specie',    # 열 위치에 들어갈 열\n",
    "                     values = 'median')     # 데이터로 사용할 열\n",
    "df_specie_pivot"
   ]
  },
  {
   "cell_type": "code",
   "execution_count": 22,
   "metadata": {},
   "outputs": [
    {
     "data": {
      "text/plain": [
       "<matplotlib.axes._subplots.AxesSubplot at 0x1c49ccdf888>"
      ]
     },
     "execution_count": 22,
     "metadata": {},
     "output_type": "execute_result"
    },
    {
     "data": {
      "image/png": "[encoded data removed]",
      "text/plain": [
       "<Figure size 720x720 with 2 Axes>"
      ]
     },
     "metadata": {
      "needs_background": "light"
     },
     "output_type": "display_data"
    }
   ],
   "source": [
    "df_corr=df_specie_pivot.corr(method='pearson')\n",
    "\n",
    "mask=np.triu(np.ones_like(df_corr))\n",
    "\n",
    "plt.figure(figsize=(10,10))\n",
    "sns.heatmap(df_corr, annot=True, fmt='.2f', vmin=-1, vmax=1, mask=mask)\n"
   ]
  },
  {
   "cell_type": "code",
   "execution_count": 72,
   "metadata": {},
   "outputs": [],
   "source": [
    "#fine dust (pm10) has a clear positive linear relationship with no2 (nitrogen dioxide) and co (carbon monoxide)\n",
    "#fine dust (pm10) has a weak negative linear relationship witj dew (dew) and humidity (humidity). \n",
    "# However, precipitation has a weak quantitative linear relationship with pm10.\n",
    "# Can't find clear correlation between rain and air quality.\n",
    "\n",
    "\n",
    "# Wind_gust and winde speed have a weak negative linear relationship with pm10 and pm25\n",
    "# It is possible to hypothesize that fine dust increases as the wind increases.\n",
    "# However, AQI and wind gust have a weak quantitative relationship (air quality gets better as the wind blows), and wind speed and aqi have a clear negative linear relationship (air quality gets worse as the wind blows).\n",
    "# Hypothesis: If the wind gust is high, the air quality is bad because it is winter.\n",
    "\n",
    "# Temperature has a distinct negative linear relationship with aqi (Air Quality Index) and pm25\n",
    "# Temperature has a clear quantitative linear relationship with 03 (ozone) "
   ]
  },
  {
   "cell_type": "markdown",
   "metadata": {},
   "source": [
    "### pm2.5 EDA"
   ]
  },
  {
   "cell_type": "code",
   "execution_count": 68,
   "metadata": {},
   "outputs": [],
   "source": [
    "#pm2.5 EDA\n",
    "df_pm25=df_all[df_all[\"Specie\"].str.contains(\"pm25\")]"
   ]
  },
  {
   "cell_type": "code",
   "execution_count": 24,
   "metadata": {},
   "outputs": [
    {
     "data": {
      "text/plain": [
       "999.0"
      ]
     },
     "execution_count": 24,
     "metadata": {},
     "output_type": "execute_result"
    }
   ],
   "source": [
    "df_pm25[\"max\"].max()"
   ]
  },
  {
   "cell_type": "code",
   "execution_count": 25,
   "metadata": {
    "scrolled": false
   },
   "outputs": [
    {
     "data": {
      "text/html": [
       "<div>\n",
       "<style scoped>\n",
       "    .dataframe tbody tr th:only-of-type {\n",
       "        vertical-align: middle;\n",
       "    }\n",
       "\n",
       "    .dataframe tbody tr th {\n",
       "        vertical-align: top;\n",
       "    }\n",
       "\n",
       "    .dataframe thead th {\n",
       "        text-align: right;\n",
       "    }\n",
       "</style>\n",
       "<table border=\"1\" class=\"dataframe\">\n",
       "  <thead>\n",
       "    <tr style=\"text-align: right;\">\n",
       "      <th></th>\n",
       "      <th>Date</th>\n",
       "      <th>City</th>\n",
       "      <th>median</th>\n",
       "      <th>min</th>\n",
       "    </tr>\n",
       "  </thead>\n",
       "  <tbody>\n",
       "    <tr>\n",
       "      <th>1562</th>\n",
       "      <td>2015-02-05</td>\n",
       "      <td>Shijiazhuang</td>\n",
       "      <td>132.0</td>\n",
       "      <td>21.0</td>\n",
       "    </tr>\n",
       "    <tr>\n",
       "      <th>1672</th>\n",
       "      <td>2015-06-03</td>\n",
       "      <td>Shijiazhuang</td>\n",
       "      <td>147.0</td>\n",
       "      <td>9.0</td>\n",
       "    </tr>\n",
       "    <tr>\n",
       "      <th>2337</th>\n",
       "      <td>2015-06-13</td>\n",
       "      <td>Zhengzhou</td>\n",
       "      <td>127.0</td>\n",
       "      <td>55.0</td>\n",
       "    </tr>\n",
       "    <tr>\n",
       "      <th>2369</th>\n",
       "      <td>2015-06-25</td>\n",
       "      <td>Zhengzhou</td>\n",
       "      <td>89.0</td>\n",
       "      <td>13.0</td>\n",
       "    </tr>\n",
       "    <tr>\n",
       "      <th>2430</th>\n",
       "      <td>2015-06-24</td>\n",
       "      <td>Zhengzhou</td>\n",
       "      <td>59.0</td>\n",
       "      <td>5.0</td>\n",
       "    </tr>\n",
       "    <tr>\n",
       "      <th>14068</th>\n",
       "      <td>2017-04-25</td>\n",
       "      <td>Shijiazhuang</td>\n",
       "      <td>78.0</td>\n",
       "      <td>21.0</td>\n",
       "    </tr>\n",
       "    <tr>\n",
       "      <th>20435</th>\n",
       "      <td>2018-05-23</td>\n",
       "      <td>Shijiazhuang</td>\n",
       "      <td>102.0</td>\n",
       "      <td>25.0</td>\n",
       "    </tr>\n",
       "    <tr>\n",
       "      <th>20483</th>\n",
       "      <td>2018-04-21</td>\n",
       "      <td>Shijiazhuang</td>\n",
       "      <td>157.0</td>\n",
       "      <td>30.0</td>\n",
       "    </tr>\n",
       "    <tr>\n",
       "      <th>20507</th>\n",
       "      <td>2018-04-13</td>\n",
       "      <td>Shijiazhuang</td>\n",
       "      <td>104.0</td>\n",
       "      <td>21.0</td>\n",
       "    </tr>\n",
       "    <tr>\n",
       "      <th>20515</th>\n",
       "      <td>2018-05-21</td>\n",
       "      <td>Shijiazhuang</td>\n",
       "      <td>134.0</td>\n",
       "      <td>21.0</td>\n",
       "    </tr>\n",
       "    <tr>\n",
       "      <th>20551</th>\n",
       "      <td>2018-06-01</td>\n",
       "      <td>Shijiazhuang</td>\n",
       "      <td>97.0</td>\n",
       "      <td>42.0</td>\n",
       "    </tr>\n",
       "    <tr>\n",
       "      <th>25298</th>\n",
       "      <td>2019-02-05</td>\n",
       "      <td>Beijing</td>\n",
       "      <td>167.0</td>\n",
       "      <td>124.0</td>\n",
       "    </tr>\n",
       "    <tr>\n",
       "      <th>36357</th>\n",
       "      <td>2019-08-29</td>\n",
       "      <td>Beijing</td>\n",
       "      <td>17.0</td>\n",
       "      <td>5.0</td>\n",
       "    </tr>\n",
       "    <tr>\n",
       "      <th>58973</th>\n",
       "      <td>2020-08-01</td>\n",
       "      <td>Shijiazhuang</td>\n",
       "      <td>107.0</td>\n",
       "      <td>17.0</td>\n",
       "    </tr>\n",
       "    <tr>\n",
       "      <th>59048</th>\n",
       "      <td>2020-08-16</td>\n",
       "      <td>Shijiazhuang</td>\n",
       "      <td>57.0</td>\n",
       "      <td>13.0</td>\n",
       "    </tr>\n",
       "    <tr>\n",
       "      <th>74807</th>\n",
       "      <td>2021-04-10</td>\n",
       "      <td>Beijing</td>\n",
       "      <td>154.0</td>\n",
       "      <td>112.0</td>\n",
       "    </tr>\n",
       "    <tr>\n",
       "      <th>75809</th>\n",
       "      <td>2021-05-15</td>\n",
       "      <td>Shijiazhuang</td>\n",
       "      <td>122.0</td>\n",
       "      <td>9.0</td>\n",
       "    </tr>\n",
       "    <tr>\n",
       "      <th>76967</th>\n",
       "      <td>2021-04-07</td>\n",
       "      <td>Zhengzhou</td>\n",
       "      <td>153.0</td>\n",
       "      <td>99.0</td>\n",
       "    </tr>\n",
       "    <tr>\n",
       "      <th>81311</th>\n",
       "      <td>2021-07-08</td>\n",
       "      <td>Shijiazhuang</td>\n",
       "      <td>999.0</td>\n",
       "      <td>17.0</td>\n",
       "    </tr>\n",
       "    <tr>\n",
       "      <th>81336</th>\n",
       "      <td>2021-07-07</td>\n",
       "      <td>Shijiazhuang</td>\n",
       "      <td>127.0</td>\n",
       "      <td>9.0</td>\n",
       "    </tr>\n",
       "    <tr>\n",
       "      <th>81337</th>\n",
       "      <td>2021-07-09</td>\n",
       "      <td>Shijiazhuang</td>\n",
       "      <td>999.0</td>\n",
       "      <td>1.0</td>\n",
       "    </tr>\n",
       "    <tr>\n",
       "      <th>83511</th>\n",
       "      <td>2021-08-26</td>\n",
       "      <td>Nanjing</td>\n",
       "      <td>82.0</td>\n",
       "      <td>9.0</td>\n",
       "    </tr>\n",
       "    <tr>\n",
       "      <th>83512</th>\n",
       "      <td>2021-09-05</td>\n",
       "      <td>Nanjing</td>\n",
       "      <td>72.0</td>\n",
       "      <td>21.0</td>\n",
       "    </tr>\n",
       "    <tr>\n",
       "      <th>83540</th>\n",
       "      <td>2021-09-23</td>\n",
       "      <td>Nanjing</td>\n",
       "      <td>72.0</td>\n",
       "      <td>21.0</td>\n",
       "    </tr>\n",
       "    <tr>\n",
       "      <th>89313</th>\n",
       "      <td>2021-12-01</td>\n",
       "      <td>Nanjing</td>\n",
       "      <td>38.0</td>\n",
       "      <td>9.0</td>\n",
       "    </tr>\n",
       "    <tr>\n",
       "      <th>89353</th>\n",
       "      <td>2021-10-26</td>\n",
       "      <td>Nanjing</td>\n",
       "      <td>91.0</td>\n",
       "      <td>55.0</td>\n",
       "    </tr>\n",
       "    <tr>\n",
       "      <th>89356</th>\n",
       "      <td>2021-12-16</td>\n",
       "      <td>Nanjing</td>\n",
       "      <td>161.0</td>\n",
       "      <td>13.0</td>\n",
       "    </tr>\n",
       "    <tr>\n",
       "      <th>89379</th>\n",
       "      <td>2021-11-11</td>\n",
       "      <td>Nanjing</td>\n",
       "      <td>61.0</td>\n",
       "      <td>9.0</td>\n",
       "    </tr>\n",
       "  </tbody>\n",
       "</table>\n",
       "</div>"
      ],
      "text/plain": [
       "             Date          City  median    min\n",
       "1562   2015-02-05  Shijiazhuang   132.0   21.0\n",
       "1672   2015-06-03  Shijiazhuang   147.0    9.0\n",
       "2337   2015-06-13     Zhengzhou   127.0   55.0\n",
       "2369   2015-06-25     Zhengzhou    89.0   13.0\n",
       "2430   2015-06-24     Zhengzhou    59.0    5.0\n",
       "14068  2017-04-25  Shijiazhuang    78.0   21.0\n",
       "20435  2018-05-23  Shijiazhuang   102.0   25.0\n",
       "20483  2018-04-21  Shijiazhuang   157.0   30.0\n",
       "20507  2018-04-13  Shijiazhuang   104.0   21.0\n",
       "20515  2018-05-21  Shijiazhuang   134.0   21.0\n",
       "20551  2018-06-01  Shijiazhuang    97.0   42.0\n",
       "25298  2019-02-05       Beijing   167.0  124.0\n",
       "36357  2019-08-29       Beijing    17.0    5.0\n",
       "58973  2020-08-01  Shijiazhuang   107.0   17.0\n",
       "59048  2020-08-16  Shijiazhuang    57.0   13.0\n",
       "74807  2021-04-10       Beijing   154.0  112.0\n",
       "75809  2021-05-15  Shijiazhuang   122.0    9.0\n",
       "76967  2021-04-07     Zhengzhou   153.0   99.0\n",
       "81311  2021-07-08  Shijiazhuang   999.0   17.0\n",
       "81336  2021-07-07  Shijiazhuang   127.0    9.0\n",
       "81337  2021-07-09  Shijiazhuang   999.0    1.0\n",
       "83511  2021-08-26       Nanjing    82.0    9.0\n",
       "83512  2021-09-05       Nanjing    72.0   21.0\n",
       "83540  2021-09-23       Nanjing    72.0   21.0\n",
       "89313  2021-12-01       Nanjing    38.0    9.0\n",
       "89353  2021-10-26       Nanjing    91.0   55.0\n",
       "89356  2021-12-16       Nanjing   161.0   13.0\n",
       "89379  2021-11-11       Nanjing    61.0    9.0"
      ]
     },
     "execution_count": 25,
     "metadata": {},
     "output_type": "execute_result"
    }
   ],
   "source": [
    "df_pm25.loc[df_pm25[\"max\"]==999.0, [\"Date\", \"City\", \"median\", \"min\"]]\n",
    "# \"Shijiazhuang\" is the city with the worst air pollution.\n",
    "# A lot of dust was created in \"Nanjing\" from the second half of the year 21.\n",
    "# While max is 999, min is 21, so the fluctuation of ultrafine dust is very high."
   ]
  },
  {
   "cell_type": "code",
   "execution_count": 26,
   "metadata": {},
   "outputs": [
    {
     "data": {
      "text/plain": [
       "999.0"
      ]
     },
     "execution_count": 26,
     "metadata": {},
     "output_type": "execute_result"
    }
   ],
   "source": [
    "df_pm25[\"median\"].max()"
   ]
  },
  {
   "cell_type": "code",
   "execution_count": 27,
   "metadata": {
    "scrolled": true
   },
   "outputs": [
    {
     "data": {
      "text/html": [
       "<div>\n",
       "<style scoped>\n",
       "    .dataframe tbody tr th:only-of-type {\n",
       "        vertical-align: middle;\n",
       "    }\n",
       "\n",
       "    .dataframe tbody tr th {\n",
       "        vertical-align: top;\n",
       "    }\n",
       "\n",
       "    .dataframe thead th {\n",
       "        text-align: right;\n",
       "    }\n",
       "</style>\n",
       "<table border=\"1\" class=\"dataframe\">\n",
       "  <thead>\n",
       "    <tr style=\"text-align: right;\">\n",
       "      <th></th>\n",
       "      <th>Date</th>\n",
       "      <th>City</th>\n",
       "      <th>min</th>\n",
       "    </tr>\n",
       "  </thead>\n",
       "  <tbody>\n",
       "    <tr>\n",
       "      <th>81311</th>\n",
       "      <td>2021-07-08</td>\n",
       "      <td>Shijiazhuang</td>\n",
       "      <td>17.0</td>\n",
       "    </tr>\n",
       "    <tr>\n",
       "      <th>81337</th>\n",
       "      <td>2021-07-09</td>\n",
       "      <td>Shijiazhuang</td>\n",
       "      <td>1.0</td>\n",
       "    </tr>\n",
       "  </tbody>\n",
       "</table>\n",
       "</div>"
      ],
      "text/plain": [
       "             Date          City   min\n",
       "81311  2021-07-08  Shijiazhuang  17.0\n",
       "81337  2021-07-09  Shijiazhuang   1.0"
      ]
     },
     "execution_count": 27,
     "metadata": {},
     "output_type": "execute_result"
    }
   ],
   "source": [
    "df_pm25.loc[df_pm25[\"median\"]==999.0, [\"Date\", \"City\", \"min\"]]\n"
   ]
  },
  {
   "cell_type": "markdown",
   "metadata": {},
   "source": [
    "### Monthly PM2.5 EDA"
   ]
  },
  {
   "cell_type": "code",
   "execution_count": 28,
   "metadata": {
    "scrolled": true
   },
   "outputs": [
    {
     "data": {
      "text/plain": [
       "<matplotlib.axes._subplots.AxesSubplot at 0x1c49d0fbec8>"
      ]
     },
     "execution_count": 28,
     "metadata": {},
     "output_type": "execute_result"
    },
    {
     "data": {
      "image/png": "[encoded data removed]",
      "text/plain": [
       "<Figure size 1440x288 with 1 Axes>"
      ]
     },
     "metadata": {
      "needs_background": "light"
     },
     "output_type": "display_data"
    }
   ],
   "source": [
    "plt.figure(figsize=(20, 4))\n",
    "sns.barplot(data=df_pm25, x=\"month\", y=\"median\", hue = 'City', ci=None)\n",
    "\n",
    "# In general, ultrafine dust increases during the winter period (possibly due to heating)\n",
    "# Zhengzhou and Shijiazhuang emit the most pollutions while Beijing generally emits low and less volatile dust."
   ]
  },
  {
   "cell_type": "markdown",
   "metadata": {},
   "source": [
    "### Yearly PM2.5 EDA in China"
   ]
  },
  {
   "cell_type": "code",
   "execution_count": 36,
   "metadata": {
    "scrolled": true
   },
   "outputs": [
    {
     "data": {
      "text/plain": [
       "<matplotlib.axes._subplots.AxesSubplot at 0x1c4a1467a88>"
      ]
     },
     "execution_count": 36,
     "metadata": {},
     "output_type": "execute_result"
    },
    {
     "data": {
      "image/png": "[encoded data removed]",
      "text/plain": [
       "<Figure size 1440x288 with 1 Axes>"
      ]
     },
     "metadata": {
      "needs_background": "light"
     },
     "output_type": "display_data"
    }
   ],
   "source": [
    "plt.figure(figsize=(20, 4))\n",
    "sns.lineplot(data=df_pm25, x=\"year\", y=\"median\", hue = 'City', ci=None)\n",
    "\n",
    "# You can see that pm2.5 has been on a downward trend since 2015, but soared in 2022.\n",
    "# Only in Beijing ultrafine dust is steadily decreasing."
   ]
  },
  {
   "cell_type": "markdown",
   "metadata": {},
   "source": [
    "## China-Korea EDA "
   ]
  },
  {
   "cell_type": "code",
   "execution_count": 2,
   "metadata": {},
   "outputs": [],
   "source": [
    "df_Kor=pd.read_csv(\"misemise_processed.csv\", encoding='cp949')"
   ]
  },
  {
   "cell_type": "code",
   "execution_count": 3,
   "metadata": {},
   "outputs": [
    {
     "data": {
      "text/html": [
       "<div>\n",
       "<style scoped>\n",
       "    .dataframe tbody tr th:only-of-type {\n",
       "        vertical-align: middle;\n",
       "    }\n",
       "\n",
       "    .dataframe tbody tr th {\n",
       "        vertical-align: top;\n",
       "    }\n",
       "\n",
       "    .dataframe thead th {\n",
       "        text-align: right;\n",
       "    }\n",
       "</style>\n",
       "<table border=\"1\" class=\"dataframe\">\n",
       "  <thead>\n",
       "    <tr style=\"text-align: right;\">\n",
       "      <th></th>\n",
       "      <th>지역</th>\n",
       "      <th>측정일시</th>\n",
       "      <th>연도</th>\n",
       "      <th>월</th>\n",
       "      <th>일</th>\n",
       "      <th>PM10</th>\n",
       "      <th>PM25</th>\n",
       "    </tr>\n",
       "  </thead>\n",
       "  <tbody>\n",
       "    <tr>\n",
       "      <th>0</th>\n",
       "      <td>강원 강릉시</td>\n",
       "      <td>20150101</td>\n",
       "      <td>2015</td>\n",
       "      <td>1</td>\n",
       "      <td>1</td>\n",
       "      <td>60.375000</td>\n",
       "      <td>8.625000</td>\n",
       "    </tr>\n",
       "    <tr>\n",
       "      <th>1</th>\n",
       "      <td>강원 강릉시</td>\n",
       "      <td>20150102</td>\n",
       "      <td>2015</td>\n",
       "      <td>1</td>\n",
       "      <td>2</td>\n",
       "      <td>30.416667</td>\n",
       "      <td>7.416667</td>\n",
       "    </tr>\n",
       "    <tr>\n",
       "      <th>2</th>\n",
       "      <td>강원 강릉시</td>\n",
       "      <td>20150103</td>\n",
       "      <td>2015</td>\n",
       "      <td>1</td>\n",
       "      <td>3</td>\n",
       "      <td>27.333333</td>\n",
       "      <td>6.958333</td>\n",
       "    </tr>\n",
       "    <tr>\n",
       "      <th>3</th>\n",
       "      <td>강원 강릉시</td>\n",
       "      <td>20150104</td>\n",
       "      <td>2015</td>\n",
       "      <td>1</td>\n",
       "      <td>4</td>\n",
       "      <td>49.869565</td>\n",
       "      <td>21.782609</td>\n",
       "    </tr>\n",
       "    <tr>\n",
       "      <th>4</th>\n",
       "      <td>강원 강릉시</td>\n",
       "      <td>20150105</td>\n",
       "      <td>2015</td>\n",
       "      <td>1</td>\n",
       "      <td>5</td>\n",
       "      <td>62.291667</td>\n",
       "      <td>25.500000</td>\n",
       "    </tr>\n",
       "  </tbody>\n",
       "</table>\n",
       "</div>"
      ],
      "text/plain": [
       "       지역      측정일시    연도  월  일       PM10       PM25\n",
       "0  강원 강릉시  20150101  2015  1  1  60.375000   8.625000\n",
       "1  강원 강릉시  20150102  2015  1  2  30.416667   7.416667\n",
       "2  강원 강릉시  20150103  2015  1  3  27.333333   6.958333\n",
       "3  강원 강릉시  20150104  2015  1  4  49.869565  21.782609\n",
       "4  강원 강릉시  20150105  2015  1  5  62.291667  25.500000"
      ]
     },
     "execution_count": 3,
     "metadata": {},
     "output_type": "execute_result"
    }
   ],
   "source": [
    "df_Kor.head()"
   ]
  },
  {
   "cell_type": "code",
   "execution_count": 83,
   "metadata": {},
   "outputs": [
    {
     "data": {
      "text/plain": [
       "(416179, 7)"
      ]
     },
     "execution_count": 83,
     "metadata": {},
     "output_type": "execute_result"
    }
   ],
   "source": [
    "df_Kor.shape"
   ]
  },
  {
   "cell_type": "code",
   "execution_count": 93,
   "metadata": {},
   "outputs": [
    {
     "data": {
      "text/plain": [
       "지역        263\n",
       "측정일시     2557\n",
       "연도          7\n",
       "월          12\n",
       "일          31\n",
       "PM10    80008\n",
       "PM25    65836\n",
       "dtype: int64"
      ]
     },
     "execution_count": 93,
     "metadata": {},
     "output_type": "execute_result"
    }
   ],
   "source": [
    "# It can be seen that the data was collected from 263 cities in Korea.\n",
    "df_Kor.nunique()"
   ]
  },
  {
   "cell_type": "code",
   "execution_count": 92,
   "metadata": {
    "scrolled": true
   },
   "outputs": [
    {
     "data": {
      "text/plain": [
       "array(['강원 강릉시', '강원 고성군', '강원 동해시', '강원 삼척시', '강원 속초시', '강원 양구군',\n",
       "       '강원 양양군', '강원 영월군', '강원 원주시', '강원 인제군', '강원 정선군', '강원 철원군',\n",
       "       '강원 춘천시', '강원 태백시', '강원 평창군', '강원 홍천군', '강원 화천군', '강원 횡성군',\n",
       "       '경기 가평군', '경기 고양시', '경기 과천시', '경기 광명시', '경기 광주시', '경기 구리시',\n",
       "       '경기 군포시', '경기 김포시', '경기 남양주시', '경기 동두천시', '경기 부천시', '경기 성남시',\n",
       "       '경기 수원시', '경기 시흥시', '경기 안산시', '경기 안성시', '경기 안양시', '경기 양주시',\n",
       "       '경기 양평군', '경기 여주시', '경기 연천군', '경기 오산시', '경기 용인시', '경기 의왕시',\n",
       "       '경기 의정부시', '경기 이천시', '경기 파주시', '경기 평택시', '경기 포천시', '경기 하남시',\n",
       "       '경기 화성시', '경남 거제시', '경남 거창군', '경남 고성군', '경남 김해시', '경남 남해군',\n",
       "       '경남 밀양시', '경남 사천시', '경남 산청군', '경남 양산시', '경남 의령군', '경남 진주시',\n",
       "       '경남 창녕군', '경남 창원시', '경남 통영시', '경남 하동군', '경남 함안군', '경남 함양군',\n",
       "       '경남 합천군', '경북 경산시', '경북 경주시', '경북 고령군', '경북 구미시', '경북 군위군',\n",
       "       '경북 김천시', '경북 문경시', '경북 봉화군', '경북 상주시', '경북 성주군', '경북 안동시',\n",
       "       '경북 영덕군', '경북 영양군', '경북 영주시', '경북 영천시', '경북 예천군', '경북 울릉군',\n",
       "       '경북 울진군', '경북 의성군', '경북 청도군', '경북 청송군', '경북 칠곡군', '경북 포항시',\n",
       "       '광주 광산구', '광주 남구', '광주 동구', '광주 북구', '광주 서구', '대구 남구', '대구 달서구',\n",
       "       '대구 달성군', '대구 동구', '대구 북구', '대구 서구', '대구 수성구', '대구 중구', '대전 대덕구',\n",
       "       '대전 동구', '대전 서구', '대전 유성구', '대전 중구', '부산 강서구', '부산 금정구', '부산 기장군',\n",
       "       '부산 남구', '부산 동구', '부산 동래구', '부산 부산진구', '부산 북구', '부산 사상구', '부산 사하구',\n",
       "       '부산 서구', '부산 수영구', '부산 연제구', '부산 영도구', '부산 중구', '부산 해운대구', '서울',\n",
       "       '서울 강남구', '서울 강남구 ', '서울 강동구', '서울 강동구 ', '서울 강북구', '서울 강북구 ',\n",
       "       '서울 강서구', '서울 강서구 ', '서울 강서로 ', '서울 관악구', '서울 관악구 ', '서울 광진구',\n",
       "       '서울 광진구 ', '서울 구로구', '서울 구로구 ', '서울 금천구', '서울 금천구 ', '서울 노원구',\n",
       "       '서울 노원구 ', '서울 도봉구', '서울 도봉구 ', '서울 동대문구', '서울 동작구', '서울 동작구 ',\n",
       "       '서울 마포구', '서울 마포구 ', '서울 서대문구', '서울 서초구', '서울 서초구 ', '서울 성동구',\n",
       "       '서울 성동구 ', '서울 성북구', '서울 성북구 ', '서울 송파구', '서울 송파구 ', '서울 양천구',\n",
       "       '서울 양천구 ', '서울 영등포구', '서울 용산구', '서울 용산구 ', '서울 은평구', '서울 은평구 ',\n",
       "       '서울 종로구', '서울 종로구 ', '서울 중구', '서울 중구 청', '서울 중랑구', '서울 중랑구 ', '세종',\n",
       "       '세종 부강면', '세종 세종시', '울산 남구', '울산 동구', '울산 북구', '울산 울주군', '울산 중구',\n",
       "       '인천 강화군', '인천 계양구', '인천 남구', '인천 남동구', '인천 동구', '인천 미추홀구',\n",
       "       '인천 부평구', '인천 서구', '인천 서구_x000D_\\n', '인천 연수구', '인천 연수구_x000D_\\n',\n",
       "       '인천 옹진군', '인천 중구', '전남 강진군', '전남 고흥군', '전남 곡성군', '전남 광양시',\n",
       "       '전남 구례군', '전남 나주시', '전남 담양군', '전남 목포시', '전남 무안군', '전남 보성군',\n",
       "       '전남 순천시', '전남 신안군', '전남 여수시', '전남 영광군', '전남 영암군', '전남 완도군',\n",
       "       '전남 장성군', '전남 장흥군', '전남 진도군', '전남 함평군', '전남 해남군', '전남 해남읍',\n",
       "       '전남 화순군', '전북 고창군', '전북 군산시', '전북 김제시', '전북 남원시', '전북 무주군',\n",
       "       '전북 부안군', '전북 순창군', '전북 완주군', '전북 익산시', '전북 임실군', '전북 장수군',\n",
       "       '전북 전주시', '전북 정읍시', '전북 진안군', '제주 서귀포', '제주 서귀포시', '제주 제주',\n",
       "       '제주 제주시', '충남 계룡시', '충남 공주시', '충남 금산군', '충남 논산시', '충남 당진군',\n",
       "       '충남 당진시', '충남 당진시_x000D_\\n', '충남 보령시', '충남 부여군', '충남 서산시',\n",
       "       '충남 서천군', '충남 아산시', '충남 예산군', '충남 천안시', '충남 청양군', '충남 태안군',\n",
       "       '충남 홍성군', '충북 괴산군', '충북 단양군', '충북 보은군', '충북 영동군', '충북 옥천군',\n",
       "       '충북 음성군', '충북 제천시', '충북 증평군', '충북 진천군', '충북 청주시', '충북 충주시'],\n",
       "      dtype=object)"
      ]
     },
     "execution_count": 92,
     "metadata": {},
     "output_type": "execute_result"
    }
   ],
   "source": [
    "df_Kor[\"지역\"].unique()"
   ]
  },
  {
   "cell_type": "markdown",
   "metadata": {},
   "source": [
    "To analyze the impact of fine dust in China on Korea, I will select representative Korean cities from the West region(heavily affected by China), East region(less affected by China), and the South Region(mildly influenced by China)."
   ]
  },
  {
   "cell_type": "markdown",
   "metadata": {},
   "source": [
    "Cities are chosen at a distance from each other to avoid possible soot effects between cities.\n",
    "\n",
    "West region - cities heavily influenced by China: 'Seosan-si, Chungcheongnam-do,' 'Ganghwa-gun, Incheon', 'Goyang-si, Gyeonggi-do'\n",
    "\n",
    "East region - cities less influenced by China: 'Gangneung-si, Gangwon-do', 'Samcheok-si, Gangwon-do', 'Pohang-si, Gyeongsangbuk-do'\n",
    "\n",
    "Southern region - cities in the milde influence of China : 'Nam-gu, Ulsan', 'Yeosu-si, Jeollanam-do', 'Mokpo-si, Jeollanam-do'"
   ]
  },
  {
   "cell_type": "markdown",
   "metadata": {},
   "source": [
    "### Making variables - West region, East region, Southern region"
   ]
  },
  {
   "cell_type": "code",
   "execution_count": 159,
   "metadata": {
    "scrolled": true
   },
   "outputs": [
    {
     "data": {
      "text/html": [
       "<div>\n",
       "<style scoped>\n",
       "    .dataframe tbody tr th:only-of-type {\n",
       "        vertical-align: middle;\n",
       "    }\n",
       "\n",
       "    .dataframe tbody tr th {\n",
       "        vertical-align: top;\n",
       "    }\n",
       "\n",
       "    .dataframe thead th {\n",
       "        text-align: right;\n",
       "    }\n",
       "</style>\n",
       "<table border=\"1\" class=\"dataframe\">\n",
       "  <thead>\n",
       "    <tr style=\"text-align: right;\">\n",
       "      <th></th>\n",
       "      <th>지역</th>\n",
       "      <th>측정일시</th>\n",
       "      <th>연도</th>\n",
       "      <th>월</th>\n",
       "      <th>일</th>\n",
       "      <th>PM10</th>\n",
       "      <th>PM25</th>\n",
       "    </tr>\n",
       "  </thead>\n",
       "  <tbody>\n",
       "    <tr>\n",
       "      <th>0</th>\n",
       "      <td>강원 강릉시</td>\n",
       "      <td>20150101</td>\n",
       "      <td>2015</td>\n",
       "      <td>1</td>\n",
       "      <td>1</td>\n",
       "      <td>60.375000</td>\n",
       "      <td>8.625000</td>\n",
       "    </tr>\n",
       "    <tr>\n",
       "      <th>1</th>\n",
       "      <td>강원 강릉시</td>\n",
       "      <td>20150102</td>\n",
       "      <td>2015</td>\n",
       "      <td>1</td>\n",
       "      <td>2</td>\n",
       "      <td>30.416667</td>\n",
       "      <td>7.416667</td>\n",
       "    </tr>\n",
       "    <tr>\n",
       "      <th>2</th>\n",
       "      <td>강원 강릉시</td>\n",
       "      <td>20150103</td>\n",
       "      <td>2015</td>\n",
       "      <td>1</td>\n",
       "      <td>3</td>\n",
       "      <td>27.333333</td>\n",
       "      <td>6.958333</td>\n",
       "    </tr>\n",
       "    <tr>\n",
       "      <th>3</th>\n",
       "      <td>강원 강릉시</td>\n",
       "      <td>20150104</td>\n",
       "      <td>2015</td>\n",
       "      <td>1</td>\n",
       "      <td>4</td>\n",
       "      <td>49.869565</td>\n",
       "      <td>21.782609</td>\n",
       "    </tr>\n",
       "    <tr>\n",
       "      <th>4</th>\n",
       "      <td>강원 강릉시</td>\n",
       "      <td>20150105</td>\n",
       "      <td>2015</td>\n",
       "      <td>1</td>\n",
       "      <td>5</td>\n",
       "      <td>62.291667</td>\n",
       "      <td>25.500000</td>\n",
       "    </tr>\n",
       "    <tr>\n",
       "      <th>...</th>\n",
       "      <td>...</td>\n",
       "      <td>...</td>\n",
       "      <td>...</td>\n",
       "      <td>...</td>\n",
       "      <td>...</td>\n",
       "      <td>...</td>\n",
       "      <td>...</td>\n",
       "    </tr>\n",
       "    <tr>\n",
       "      <th>385557</th>\n",
       "      <td>충남 서산시</td>\n",
       "      <td>20211227</td>\n",
       "      <td>2021</td>\n",
       "      <td>12</td>\n",
       "      <td>27</td>\n",
       "      <td>27.980392</td>\n",
       "      <td>16.098039</td>\n",
       "    </tr>\n",
       "    <tr>\n",
       "      <th>385558</th>\n",
       "      <td>충남 서산시</td>\n",
       "      <td>20211228</td>\n",
       "      <td>2021</td>\n",
       "      <td>12</td>\n",
       "      <td>28</td>\n",
       "      <td>45.556701</td>\n",
       "      <td>30.948454</td>\n",
       "    </tr>\n",
       "    <tr>\n",
       "      <th>385559</th>\n",
       "      <td>충남 서산시</td>\n",
       "      <td>20211229</td>\n",
       "      <td>2021</td>\n",
       "      <td>12</td>\n",
       "      <td>29</td>\n",
       "      <td>48.529412</td>\n",
       "      <td>31.588235</td>\n",
       "    </tr>\n",
       "    <tr>\n",
       "      <th>385560</th>\n",
       "      <td>충남 서산시</td>\n",
       "      <td>20211230</td>\n",
       "      <td>2021</td>\n",
       "      <td>12</td>\n",
       "      <td>30</td>\n",
       "      <td>21.294118</td>\n",
       "      <td>9.210084</td>\n",
       "    </tr>\n",
       "    <tr>\n",
       "      <th>385561</th>\n",
       "      <td>충남 서산시</td>\n",
       "      <td>20211231</td>\n",
       "      <td>2021</td>\n",
       "      <td>12</td>\n",
       "      <td>31</td>\n",
       "      <td>20.457627</td>\n",
       "      <td>8.508475</td>\n",
       "    </tr>\n",
       "  </tbody>\n",
       "</table>\n",
       "<p>20386 rows × 7 columns</p>\n",
       "</div>"
      ],
      "text/plain": [
       "            지역      측정일시    연도   월   일       PM10       PM25\n",
       "0       강원 강릉시  20150101  2015   1   1  60.375000   8.625000\n",
       "1       강원 강릉시  20150102  2015   1   2  30.416667   7.416667\n",
       "2       강원 강릉시  20150103  2015   1   3  27.333333   6.958333\n",
       "3       강원 강릉시  20150104  2015   1   4  49.869565  21.782609\n",
       "4       강원 강릉시  20150105  2015   1   5  62.291667  25.500000\n",
       "...        ...       ...   ...  ..  ..        ...        ...\n",
       "385557  충남 서산시  20211227  2021  12  27  27.980392  16.098039\n",
       "385558  충남 서산시  20211228  2021  12  28  45.556701  30.948454\n",
       "385559  충남 서산시  20211229  2021  12  29  48.529412  31.588235\n",
       "385560  충남 서산시  20211230  2021  12  30  21.294118   9.210084\n",
       "385561  충남 서산시  20211231  2021  12  31  20.457627   8.508475\n",
       "\n",
       "[20386 rows x 7 columns]"
      ]
     },
     "execution_count": 159,
     "metadata": {},
     "output_type": "execute_result"
    }
   ],
   "source": [
    "df_Kor_city= df_Kor[df_Kor[\"지역\"].isin(['충남 서산시', '인천 강화군', '경기 고양시',  '강원 강릉시', '강원 삼척시', '경북 포항시',  '울산 남구', '전남 여수시', '전남 목포시'])]\n",
    "df_Kor_city"
   ]
  },
  {
   "cell_type": "code",
   "execution_count": 160,
   "metadata": {},
   "outputs": [
    {
     "name": "stderr",
     "output_type": "stream",
     "text": [
      "C:\\Users\\user\\anaconda3\\lib\\site-packages\\ipykernel_launcher.py:11: SettingWithCopyWarning: \n",
      "A value is trying to be set on a copy of a slice from a DataFrame.\n",
      "Try using .loc[row_indexer,col_indexer] = value instead\n",
      "\n",
      "See the caveats in the documentation: https://pandas.pydata.org/pandas-docs/stable/user_guide/indexing.html#returning-a-view-versus-a-copy\n",
      "  # This is added back by InteractiveShellApp.init_path()\n"
     ]
    }
   ],
   "source": [
    "region_dict = {'충남 서산시': 'Kor_West', \n",
    "               '인천 강화군':'Kor_West', \n",
    "               '경기 고양시':'Kor_West', \n",
    "               '울산 남구':'Kor_South', \n",
    "               '전남 여수시':'Kor_South', \n",
    "               '전남 목포시':'Kor_South', \n",
    "               '강원 강릉시':'Kor_East', \n",
    "               '강원 삼척시':'Kor_East', \n",
    "               '경북 포항시':'Kor_East'}\n",
    "\n",
    "df_Kor_city[\"지역 코드\"] = df_Kor_city[\"지역\"].map(region_dict)"
   ]
  },
  {
   "cell_type": "code",
   "execution_count": 244,
   "metadata": {
    "scrolled": true
   },
   "outputs": [
    {
     "data": {
      "text/html": [
       "<div>\n",
       "<style scoped>\n",
       "    .dataframe tbody tr th:only-of-type {\n",
       "        vertical-align: middle;\n",
       "    }\n",
       "\n",
       "    .dataframe tbody tr th {\n",
       "        vertical-align: top;\n",
       "    }\n",
       "\n",
       "    .dataframe thead th {\n",
       "        text-align: right;\n",
       "    }\n",
       "</style>\n",
       "<table border=\"1\" class=\"dataframe\">\n",
       "  <thead>\n",
       "    <tr style=\"text-align: right;\">\n",
       "      <th></th>\n",
       "      <th>City</th>\n",
       "      <th>Date</th>\n",
       "      <th>year</th>\n",
       "      <th>month</th>\n",
       "      <th>day</th>\n",
       "      <th>PM10</th>\n",
       "      <th>PM25</th>\n",
       "      <th>Country</th>\n",
       "    </tr>\n",
       "  </thead>\n",
       "  <tbody>\n",
       "    <tr>\n",
       "      <th>0</th>\n",
       "      <td>강원 강릉시</td>\n",
       "      <td>2015-01-01</td>\n",
       "      <td>2015</td>\n",
       "      <td>1</td>\n",
       "      <td>1</td>\n",
       "      <td>60.375000</td>\n",
       "      <td>8.625000</td>\n",
       "      <td>Kor_East</td>\n",
       "    </tr>\n",
       "    <tr>\n",
       "      <th>1</th>\n",
       "      <td>강원 강릉시</td>\n",
       "      <td>2015-01-02</td>\n",
       "      <td>2015</td>\n",
       "      <td>1</td>\n",
       "      <td>2</td>\n",
       "      <td>30.416667</td>\n",
       "      <td>7.416667</td>\n",
       "      <td>Kor_East</td>\n",
       "    </tr>\n",
       "    <tr>\n",
       "      <th>2</th>\n",
       "      <td>강원 강릉시</td>\n",
       "      <td>2015-01-03</td>\n",
       "      <td>2015</td>\n",
       "      <td>1</td>\n",
       "      <td>3</td>\n",
       "      <td>27.333333</td>\n",
       "      <td>6.958333</td>\n",
       "      <td>Kor_East</td>\n",
       "    </tr>\n",
       "    <tr>\n",
       "      <th>3</th>\n",
       "      <td>강원 강릉시</td>\n",
       "      <td>2015-01-04</td>\n",
       "      <td>2015</td>\n",
       "      <td>1</td>\n",
       "      <td>4</td>\n",
       "      <td>49.869565</td>\n",
       "      <td>21.782609</td>\n",
       "      <td>Kor_East</td>\n",
       "    </tr>\n",
       "    <tr>\n",
       "      <th>4</th>\n",
       "      <td>강원 강릉시</td>\n",
       "      <td>2015-01-05</td>\n",
       "      <td>2015</td>\n",
       "      <td>1</td>\n",
       "      <td>5</td>\n",
       "      <td>62.291667</td>\n",
       "      <td>25.500000</td>\n",
       "      <td>Kor_East</td>\n",
       "    </tr>\n",
       "  </tbody>\n",
       "</table>\n",
       "</div>"
      ],
      "text/plain": [
       "     City       Date  year  month  day       PM10       PM25   Country\n",
       "0  강원 강릉시 2015-01-01  2015      1    1  60.375000   8.625000  Kor_East\n",
       "1  강원 강릉시 2015-01-02  2015      1    2  30.416667   7.416667  Kor_East\n",
       "2  강원 강릉시 2015-01-03  2015      1    3  27.333333   6.958333  Kor_East\n",
       "3  강원 강릉시 2015-01-04  2015      1    4  49.869565  21.782609  Kor_East\n",
       "4  강원 강릉시 2015-01-05  2015      1    5  62.291667  25.500000  Kor_East"
      ]
     },
     "execution_count": 244,
     "metadata": {},
     "output_type": "execute_result"
    }
   ],
   "source": [
    "df_Kor_city.head()"
   ]
  },
  {
   "cell_type": "markdown",
   "metadata": {},
   "source": [
    "### Korea-China PM 2.5 Visualization"
   ]
  },
  {
   "cell_type": "code",
   "execution_count": 69,
   "metadata": {},
   "outputs": [
    {
     "data": {
      "text/html": [
       "<div>\n",
       "<style scoped>\n",
       "    .dataframe tbody tr th:only-of-type {\n",
       "        vertical-align: middle;\n",
       "    }\n",
       "\n",
       "    .dataframe tbody tr th {\n",
       "        vertical-align: top;\n",
       "    }\n",
       "\n",
       "    .dataframe thead th {\n",
       "        text-align: right;\n",
       "    }\n",
       "</style>\n",
       "<table border=\"1\" class=\"dataframe\">\n",
       "  <thead>\n",
       "    <tr style=\"text-align: right;\">\n",
       "      <th></th>\n",
       "      <th>Date</th>\n",
       "      <th>Country</th>\n",
       "      <th>City</th>\n",
       "      <th>Specie</th>\n",
       "      <th>count</th>\n",
       "      <th>min</th>\n",
       "      <th>max</th>\n",
       "      <th>median</th>\n",
       "      <th>variance</th>\n",
       "      <th>year</th>\n",
       "      <th>month</th>\n",
       "      <th>day</th>\n",
       "    </tr>\n",
       "  </thead>\n",
       "  <tbody>\n",
       "    <tr>\n",
       "      <th>0</th>\n",
       "      <td>2015-01-04</td>\n",
       "      <td>CN</td>\n",
       "      <td>Beijing</td>\n",
       "      <td>pm25</td>\n",
       "      <td>450.0</td>\n",
       "      <td>80.0</td>\n",
       "      <td>494.0</td>\n",
       "      <td>255.0</td>\n",
       "      <td>65212.90</td>\n",
       "      <td>2015</td>\n",
       "      <td>1</td>\n",
       "      <td>4</td>\n",
       "    </tr>\n",
       "    <tr>\n",
       "      <th>1</th>\n",
       "      <td>2015-01-12</td>\n",
       "      <td>CN</td>\n",
       "      <td>Beijing</td>\n",
       "      <td>pm25</td>\n",
       "      <td>449.0</td>\n",
       "      <td>91.0</td>\n",
       "      <td>326.0</td>\n",
       "      <td>181.0</td>\n",
       "      <td>8349.02</td>\n",
       "      <td>2015</td>\n",
       "      <td>1</td>\n",
       "      <td>12</td>\n",
       "    </tr>\n",
       "    <tr>\n",
       "      <th>2</th>\n",
       "      <td>2015-02-17</td>\n",
       "      <td>CN</td>\n",
       "      <td>Beijing</td>\n",
       "      <td>pm25</td>\n",
       "      <td>336.0</td>\n",
       "      <td>13.0</td>\n",
       "      <td>197.0</td>\n",
       "      <td>68.0</td>\n",
       "      <td>10622.50</td>\n",
       "      <td>2015</td>\n",
       "      <td>2</td>\n",
       "      <td>17</td>\n",
       "    </tr>\n",
       "    <tr>\n",
       "      <th>3</th>\n",
       "      <td>2015-06-11</td>\n",
       "      <td>CN</td>\n",
       "      <td>Beijing</td>\n",
       "      <td>pm25</td>\n",
       "      <td>416.0</td>\n",
       "      <td>13.0</td>\n",
       "      <td>209.0</td>\n",
       "      <td>57.0</td>\n",
       "      <td>30655.90</td>\n",
       "      <td>2015</td>\n",
       "      <td>6</td>\n",
       "      <td>11</td>\n",
       "    </tr>\n",
       "    <tr>\n",
       "      <th>4</th>\n",
       "      <td>2015-06-13</td>\n",
       "      <td>CN</td>\n",
       "      <td>Beijing</td>\n",
       "      <td>pm25</td>\n",
       "      <td>446.0</td>\n",
       "      <td>13.0</td>\n",
       "      <td>140.0</td>\n",
       "      <td>42.0</td>\n",
       "      <td>5978.25</td>\n",
       "      <td>2015</td>\n",
       "      <td>6</td>\n",
       "      <td>13</td>\n",
       "    </tr>\n",
       "    <tr>\n",
       "      <th>...</th>\n",
       "      <td>...</td>\n",
       "      <td>...</td>\n",
       "      <td>...</td>\n",
       "      <td>...</td>\n",
       "      <td>...</td>\n",
       "      <td>...</td>\n",
       "      <td>...</td>\n",
       "      <td>...</td>\n",
       "      <td>...</td>\n",
       "      <td>...</td>\n",
       "      <td>...</td>\n",
       "      <td>...</td>\n",
       "    </tr>\n",
       "    <tr>\n",
       "      <th>90164</th>\n",
       "      <td>2021-11-05</td>\n",
       "      <td>CN</td>\n",
       "      <td>Jinan</td>\n",
       "      <td>pm25</td>\n",
       "      <td>341.0</td>\n",
       "      <td>30.0</td>\n",
       "      <td>199.0</td>\n",
       "      <td>152.0</td>\n",
       "      <td>15301.00</td>\n",
       "      <td>2021</td>\n",
       "      <td>11</td>\n",
       "      <td>5</td>\n",
       "    </tr>\n",
       "    <tr>\n",
       "      <th>90165</th>\n",
       "      <td>2021-12-05</td>\n",
       "      <td>CN</td>\n",
       "      <td>Jinan</td>\n",
       "      <td>pm25</td>\n",
       "      <td>352.0</td>\n",
       "      <td>61.0</td>\n",
       "      <td>163.0</td>\n",
       "      <td>122.0</td>\n",
       "      <td>5409.69</td>\n",
       "      <td>2021</td>\n",
       "      <td>12</td>\n",
       "      <td>5</td>\n",
       "    </tr>\n",
       "    <tr>\n",
       "      <th>90166</th>\n",
       "      <td>2021-12-09</td>\n",
       "      <td>CN</td>\n",
       "      <td>Jinan</td>\n",
       "      <td>pm25</td>\n",
       "      <td>344.0</td>\n",
       "      <td>93.0</td>\n",
       "      <td>233.0</td>\n",
       "      <td>153.0</td>\n",
       "      <td>5547.22</td>\n",
       "      <td>2021</td>\n",
       "      <td>12</td>\n",
       "      <td>9</td>\n",
       "    </tr>\n",
       "    <tr>\n",
       "      <th>90167</th>\n",
       "      <td>2021-12-11</td>\n",
       "      <td>CN</td>\n",
       "      <td>Jinan</td>\n",
       "      <td>pm25</td>\n",
       "      <td>352.0</td>\n",
       "      <td>93.0</td>\n",
       "      <td>252.0</td>\n",
       "      <td>173.0</td>\n",
       "      <td>9272.23</td>\n",
       "      <td>2021</td>\n",
       "      <td>12</td>\n",
       "      <td>11</td>\n",
       "    </tr>\n",
       "    <tr>\n",
       "      <th>90168</th>\n",
       "      <td>2021-12-27</td>\n",
       "      <td>CN</td>\n",
       "      <td>Jinan</td>\n",
       "      <td>pm25</td>\n",
       "      <td>346.0</td>\n",
       "      <td>50.0</td>\n",
       "      <td>158.0</td>\n",
       "      <td>87.0</td>\n",
       "      <td>4866.89</td>\n",
       "      <td>2021</td>\n",
       "      <td>12</td>\n",
       "      <td>27</td>\n",
       "    </tr>\n",
       "  </tbody>\n",
       "</table>\n",
       "<p>9534 rows × 12 columns</p>\n",
       "</div>"
      ],
      "text/plain": [
       "             Date Country     City Specie  count   min    max  median  \\\n",
       "0      2015-01-04      CN  Beijing   pm25  450.0  80.0  494.0   255.0   \n",
       "1      2015-01-12      CN  Beijing   pm25  449.0  91.0  326.0   181.0   \n",
       "2      2015-02-17      CN  Beijing   pm25  336.0  13.0  197.0    68.0   \n",
       "3      2015-06-11      CN  Beijing   pm25  416.0  13.0  209.0    57.0   \n",
       "4      2015-06-13      CN  Beijing   pm25  446.0  13.0  140.0    42.0   \n",
       "...           ...     ...      ...    ...    ...   ...    ...     ...   \n",
       "90164  2021-11-05      CN    Jinan   pm25  341.0  30.0  199.0   152.0   \n",
       "90165  2021-12-05      CN    Jinan   pm25  352.0  61.0  163.0   122.0   \n",
       "90166  2021-12-09      CN    Jinan   pm25  344.0  93.0  233.0   153.0   \n",
       "90167  2021-12-11      CN    Jinan   pm25  352.0  93.0  252.0   173.0   \n",
       "90168  2021-12-27      CN    Jinan   pm25  346.0  50.0  158.0    87.0   \n",
       "\n",
       "       variance  year  month  day  \n",
       "0      65212.90  2015      1    4  \n",
       "1       8349.02  2015      1   12  \n",
       "2      10622.50  2015      2   17  \n",
       "3      30655.90  2015      6   11  \n",
       "4       5978.25  2015      6   13  \n",
       "...         ...   ...    ...  ...  \n",
       "90164  15301.00  2021     11    5  \n",
       "90165   5409.69  2021     12    5  \n",
       "90166   5547.22  2021     12    9  \n",
       "90167   9272.23  2021     12   11  \n",
       "90168   4866.89  2021     12   27  \n",
       "\n",
       "[9534 rows x 12 columns]"
      ]
     },
     "execution_count": 69,
     "metadata": {},
     "output_type": "execute_result"
    }
   ],
   "source": [
    "df_pm25"
   ]
  },
  {
   "cell_type": "code",
   "execution_count": 70,
   "metadata": {},
   "outputs": [
    {
     "data": {
      "text/html": [
       "<div>\n",
       "<style scoped>\n",
       "    .dataframe tbody tr th:only-of-type {\n",
       "        vertical-align: middle;\n",
       "    }\n",
       "\n",
       "    .dataframe tbody tr th {\n",
       "        vertical-align: top;\n",
       "    }\n",
       "\n",
       "    .dataframe thead th {\n",
       "        text-align: right;\n",
       "    }\n",
       "</style>\n",
       "<table border=\"1\" class=\"dataframe\">\n",
       "  <thead>\n",
       "    <tr style=\"text-align: right;\">\n",
       "      <th></th>\n",
       "      <th>Date</th>\n",
       "      <th>Country</th>\n",
       "      <th>City</th>\n",
       "      <th>PM25</th>\n",
       "      <th>year</th>\n",
       "      <th>month</th>\n",
       "      <th>day</th>\n",
       "    </tr>\n",
       "  </thead>\n",
       "  <tbody>\n",
       "    <tr>\n",
       "      <th>0</th>\n",
       "      <td>2015-01-04</td>\n",
       "      <td>CN</td>\n",
       "      <td>Beijing</td>\n",
       "      <td>255.0</td>\n",
       "      <td>2015</td>\n",
       "      <td>1</td>\n",
       "      <td>4</td>\n",
       "    </tr>\n",
       "    <tr>\n",
       "      <th>1</th>\n",
       "      <td>2015-01-12</td>\n",
       "      <td>CN</td>\n",
       "      <td>Beijing</td>\n",
       "      <td>181.0</td>\n",
       "      <td>2015</td>\n",
       "      <td>1</td>\n",
       "      <td>12</td>\n",
       "    </tr>\n",
       "    <tr>\n",
       "      <th>2</th>\n",
       "      <td>2015-02-17</td>\n",
       "      <td>CN</td>\n",
       "      <td>Beijing</td>\n",
       "      <td>68.0</td>\n",
       "      <td>2015</td>\n",
       "      <td>2</td>\n",
       "      <td>17</td>\n",
       "    </tr>\n",
       "    <tr>\n",
       "      <th>3</th>\n",
       "      <td>2015-06-11</td>\n",
       "      <td>CN</td>\n",
       "      <td>Beijing</td>\n",
       "      <td>57.0</td>\n",
       "      <td>2015</td>\n",
       "      <td>6</td>\n",
       "      <td>11</td>\n",
       "    </tr>\n",
       "    <tr>\n",
       "      <th>4</th>\n",
       "      <td>2015-06-13</td>\n",
       "      <td>CN</td>\n",
       "      <td>Beijing</td>\n",
       "      <td>42.0</td>\n",
       "      <td>2015</td>\n",
       "      <td>6</td>\n",
       "      <td>13</td>\n",
       "    </tr>\n",
       "    <tr>\n",
       "      <th>...</th>\n",
       "      <td>...</td>\n",
       "      <td>...</td>\n",
       "      <td>...</td>\n",
       "      <td>...</td>\n",
       "      <td>...</td>\n",
       "      <td>...</td>\n",
       "      <td>...</td>\n",
       "    </tr>\n",
       "    <tr>\n",
       "      <th>90164</th>\n",
       "      <td>2021-11-05</td>\n",
       "      <td>CN</td>\n",
       "      <td>Jinan</td>\n",
       "      <td>152.0</td>\n",
       "      <td>2021</td>\n",
       "      <td>11</td>\n",
       "      <td>5</td>\n",
       "    </tr>\n",
       "    <tr>\n",
       "      <th>90165</th>\n",
       "      <td>2021-12-05</td>\n",
       "      <td>CN</td>\n",
       "      <td>Jinan</td>\n",
       "      <td>122.0</td>\n",
       "      <td>2021</td>\n",
       "      <td>12</td>\n",
       "      <td>5</td>\n",
       "    </tr>\n",
       "    <tr>\n",
       "      <th>90166</th>\n",
       "      <td>2021-12-09</td>\n",
       "      <td>CN</td>\n",
       "      <td>Jinan</td>\n",
       "      <td>153.0</td>\n",
       "      <td>2021</td>\n",
       "      <td>12</td>\n",
       "      <td>9</td>\n",
       "    </tr>\n",
       "    <tr>\n",
       "      <th>90167</th>\n",
       "      <td>2021-12-11</td>\n",
       "      <td>CN</td>\n",
       "      <td>Jinan</td>\n",
       "      <td>173.0</td>\n",
       "      <td>2021</td>\n",
       "      <td>12</td>\n",
       "      <td>11</td>\n",
       "    </tr>\n",
       "    <tr>\n",
       "      <th>90168</th>\n",
       "      <td>2021-12-27</td>\n",
       "      <td>CN</td>\n",
       "      <td>Jinan</td>\n",
       "      <td>87.0</td>\n",
       "      <td>2021</td>\n",
       "      <td>12</td>\n",
       "      <td>27</td>\n",
       "    </tr>\n",
       "  </tbody>\n",
       "</table>\n",
       "<p>9534 rows × 7 columns</p>\n",
       "</div>"
      ],
      "text/plain": [
       "             Date Country     City   PM25  year  month  day\n",
       "0      2015-01-04      CN  Beijing  255.0  2015      1    4\n",
       "1      2015-01-12      CN  Beijing  181.0  2015      1   12\n",
       "2      2015-02-17      CN  Beijing   68.0  2015      2   17\n",
       "3      2015-06-11      CN  Beijing   57.0  2015      6   11\n",
       "4      2015-06-13      CN  Beijing   42.0  2015      6   13\n",
       "...           ...     ...      ...    ...   ...    ...  ...\n",
       "90164  2021-11-05      CN    Jinan  152.0  2021     11    5\n",
       "90165  2021-12-05      CN    Jinan  122.0  2021     12    5\n",
       "90166  2021-12-09      CN    Jinan  153.0  2021     12    9\n",
       "90167  2021-12-11      CN    Jinan  173.0  2021     12   11\n",
       "90168  2021-12-27      CN    Jinan   87.0  2021     12   27\n",
       "\n",
       "[9534 rows x 7 columns]"
      ]
     },
     "execution_count": 70,
     "metadata": {},
     "output_type": "execute_result"
    }
   ],
   "source": [
    "#Remove unnecessary data\n",
    "df_pm25_CN = df_pm25.drop(columns=['Specie', 'count', 'min', 'max', 'variance'])\n",
    "\n",
    "\n",
    "df_pm25_CN.rename(columns = {'median':'PM25'},inplace=True)\n",
    "\n",
    "df_pm25_CN"
   ]
  },
  {
   "cell_type": "markdown",
   "metadata": {},
   "source": [
    "#### Concat Korea-China data"
   ]
  },
  {
   "cell_type": "code",
   "execution_count": null,
   "metadata": {},
   "outputs": [],
   "source": [
    "import datetime as dt"
   ]
  },
  {
   "cell_type": "code",
   "execution_count": 162,
   "metadata": {
    "scrolled": true
   },
   "outputs": [
    {
     "name": "stderr",
     "output_type": "stream",
     "text": [
      "C:\\Users\\user\\anaconda3\\lib\\site-packages\\ipykernel_launcher.py:1: SettingWithCopyWarning: \n",
      "A value is trying to be set on a copy of a slice from a DataFrame.\n",
      "Try using .loc[row_indexer,col_indexer] = value instead\n",
      "\n",
      "See the caveats in the documentation: https://pandas.pydata.org/pandas-docs/stable/user_guide/indexing.html#returning-a-view-versus-a-copy\n",
      "  \"\"\"Entry point for launching an IPython kernel.\n"
     ]
    }
   ],
   "source": [
    "df_Kor_city['측정일시']= pd.to_datetime(df_Kor_city['측정일시'], format = \"%Y%m%d\").dt.strftime('%Y-%m-%d') "
   ]
  },
  {
   "cell_type": "code",
   "execution_count": 163,
   "metadata": {},
   "outputs": [
    {
     "name": "stderr",
     "output_type": "stream",
     "text": [
      "C:\\Users\\user\\anaconda3\\lib\\site-packages\\ipykernel_launcher.py:1: SettingWithCopyWarning: \n",
      "A value is trying to be set on a copy of a slice from a DataFrame.\n",
      "Try using .loc[row_indexer,col_indexer] = value instead\n",
      "\n",
      "See the caveats in the documentation: https://pandas.pydata.org/pandas-docs/stable/user_guide/indexing.html#returning-a-view-versus-a-copy\n",
      "  \"\"\"Entry point for launching an IPython kernel.\n"
     ]
    }
   ],
   "source": [
    "df_Kor_city['측정일시'] = pd.to_datetime(df_Kor_city['측정일시'])"
   ]
  },
  {
   "cell_type": "code",
   "execution_count": 164,
   "metadata": {},
   "outputs": [
    {
     "name": "stdout",
     "output_type": "stream",
     "text": [
      "<class 'pandas.core.frame.DataFrame'>\n",
      "Int64Index: 20386 entries, 0 to 385561\n",
      "Data columns (total 8 columns):\n",
      " #   Column  Non-Null Count  Dtype         \n",
      "---  ------  --------------  -----         \n",
      " 0   지역      20386 non-null  object        \n",
      " 1   측정일시    20386 non-null  datetime64[ns]\n",
      " 2   연도      20386 non-null  int64         \n",
      " 3   월       20386 non-null  int64         \n",
      " 4   일       20386 non-null  int64         \n",
      " 5   PM10    20386 non-null  float64       \n",
      " 6   PM25    20386 non-null  float64       \n",
      " 7   지역 코드   20386 non-null  object        \n",
      "dtypes: datetime64[ns](1), float64(2), int64(3), object(2)\n",
      "memory usage: 1.4+ MB\n"
     ]
    }
   ],
   "source": [
    "df_Kor_city.info()"
   ]
  },
  {
   "cell_type": "code",
   "execution_count": 166,
   "metadata": {},
   "outputs": [
    {
     "name": "stderr",
     "output_type": "stream",
     "text": [
      "C:\\Users\\user\\anaconda3\\lib\\site-packages\\pandas\\core\\frame.py:4133: SettingWithCopyWarning: \n",
      "A value is trying to be set on a copy of a slice from a DataFrame\n",
      "\n",
      "See the caveats in the documentation: https://pandas.pydata.org/pandas-docs/stable/user_guide/indexing.html#returning-a-view-versus-a-copy\n",
      "  errors=errors,\n"
     ]
    },
    {
     "data": {
      "text/html": [
       "<div>\n",
       "<style scoped>\n",
       "    .dataframe tbody tr th:only-of-type {\n",
       "        vertical-align: middle;\n",
       "    }\n",
       "\n",
       "    .dataframe tbody tr th {\n",
       "        vertical-align: top;\n",
       "    }\n",
       "\n",
       "    .dataframe thead th {\n",
       "        text-align: right;\n",
       "    }\n",
       "</style>\n",
       "<table border=\"1\" class=\"dataframe\">\n",
       "  <thead>\n",
       "    <tr style=\"text-align: right;\">\n",
       "      <th></th>\n",
       "      <th>City</th>\n",
       "      <th>Date</th>\n",
       "      <th>year</th>\n",
       "      <th>month</th>\n",
       "      <th>day</th>\n",
       "      <th>PM10</th>\n",
       "      <th>PM25</th>\n",
       "      <th>Country</th>\n",
       "    </tr>\n",
       "  </thead>\n",
       "  <tbody>\n",
       "    <tr>\n",
       "      <th>0</th>\n",
       "      <td>강원 강릉시</td>\n",
       "      <td>2015-01-01</td>\n",
       "      <td>2015</td>\n",
       "      <td>1</td>\n",
       "      <td>1</td>\n",
       "      <td>60.375000</td>\n",
       "      <td>8.625000</td>\n",
       "      <td>Kor_East</td>\n",
       "    </tr>\n",
       "    <tr>\n",
       "      <th>1</th>\n",
       "      <td>강원 강릉시</td>\n",
       "      <td>2015-01-02</td>\n",
       "      <td>2015</td>\n",
       "      <td>1</td>\n",
       "      <td>2</td>\n",
       "      <td>30.416667</td>\n",
       "      <td>7.416667</td>\n",
       "      <td>Kor_East</td>\n",
       "    </tr>\n",
       "    <tr>\n",
       "      <th>2</th>\n",
       "      <td>강원 강릉시</td>\n",
       "      <td>2015-01-03</td>\n",
       "      <td>2015</td>\n",
       "      <td>1</td>\n",
       "      <td>3</td>\n",
       "      <td>27.333333</td>\n",
       "      <td>6.958333</td>\n",
       "      <td>Kor_East</td>\n",
       "    </tr>\n",
       "    <tr>\n",
       "      <th>3</th>\n",
       "      <td>강원 강릉시</td>\n",
       "      <td>2015-01-04</td>\n",
       "      <td>2015</td>\n",
       "      <td>1</td>\n",
       "      <td>4</td>\n",
       "      <td>49.869565</td>\n",
       "      <td>21.782609</td>\n",
       "      <td>Kor_East</td>\n",
       "    </tr>\n",
       "    <tr>\n",
       "      <th>4</th>\n",
       "      <td>강원 강릉시</td>\n",
       "      <td>2015-01-05</td>\n",
       "      <td>2015</td>\n",
       "      <td>1</td>\n",
       "      <td>5</td>\n",
       "      <td>62.291667</td>\n",
       "      <td>25.500000</td>\n",
       "      <td>Kor_East</td>\n",
       "    </tr>\n",
       "    <tr>\n",
       "      <th>...</th>\n",
       "      <td>...</td>\n",
       "      <td>...</td>\n",
       "      <td>...</td>\n",
       "      <td>...</td>\n",
       "      <td>...</td>\n",
       "      <td>...</td>\n",
       "      <td>...</td>\n",
       "      <td>...</td>\n",
       "    </tr>\n",
       "    <tr>\n",
       "      <th>385557</th>\n",
       "      <td>충남 서산시</td>\n",
       "      <td>2021-12-27</td>\n",
       "      <td>2021</td>\n",
       "      <td>12</td>\n",
       "      <td>27</td>\n",
       "      <td>27.980392</td>\n",
       "      <td>16.098039</td>\n",
       "      <td>Kor_West</td>\n",
       "    </tr>\n",
       "    <tr>\n",
       "      <th>385558</th>\n",
       "      <td>충남 서산시</td>\n",
       "      <td>2021-12-28</td>\n",
       "      <td>2021</td>\n",
       "      <td>12</td>\n",
       "      <td>28</td>\n",
       "      <td>45.556701</td>\n",
       "      <td>30.948454</td>\n",
       "      <td>Kor_West</td>\n",
       "    </tr>\n",
       "    <tr>\n",
       "      <th>385559</th>\n",
       "      <td>충남 서산시</td>\n",
       "      <td>2021-12-29</td>\n",
       "      <td>2021</td>\n",
       "      <td>12</td>\n",
       "      <td>29</td>\n",
       "      <td>48.529412</td>\n",
       "      <td>31.588235</td>\n",
       "      <td>Kor_West</td>\n",
       "    </tr>\n",
       "    <tr>\n",
       "      <th>385560</th>\n",
       "      <td>충남 서산시</td>\n",
       "      <td>2021-12-30</td>\n",
       "      <td>2021</td>\n",
       "      <td>12</td>\n",
       "      <td>30</td>\n",
       "      <td>21.294118</td>\n",
       "      <td>9.210084</td>\n",
       "      <td>Kor_West</td>\n",
       "    </tr>\n",
       "    <tr>\n",
       "      <th>385561</th>\n",
       "      <td>충남 서산시</td>\n",
       "      <td>2021-12-31</td>\n",
       "      <td>2021</td>\n",
       "      <td>12</td>\n",
       "      <td>31</td>\n",
       "      <td>20.457627</td>\n",
       "      <td>8.508475</td>\n",
       "      <td>Kor_West</td>\n",
       "    </tr>\n",
       "  </tbody>\n",
       "</table>\n",
       "<p>20386 rows × 8 columns</p>\n",
       "</div>"
      ],
      "text/plain": [
       "          City       Date  year  month  day       PM10       PM25   Country\n",
       "0       강원 강릉시 2015-01-01  2015      1    1  60.375000   8.625000  Kor_East\n",
       "1       강원 강릉시 2015-01-02  2015      1    2  30.416667   7.416667  Kor_East\n",
       "2       강원 강릉시 2015-01-03  2015      1    3  27.333333   6.958333  Kor_East\n",
       "3       강원 강릉시 2015-01-04  2015      1    4  49.869565  21.782609  Kor_East\n",
       "4       강원 강릉시 2015-01-05  2015      1    5  62.291667  25.500000  Kor_East\n",
       "...        ...        ...   ...    ...  ...        ...        ...       ...\n",
       "385557  충남 서산시 2021-12-27  2021     12   27  27.980392  16.098039  Kor_West\n",
       "385558  충남 서산시 2021-12-28  2021     12   28  45.556701  30.948454  Kor_West\n",
       "385559  충남 서산시 2021-12-29  2021     12   29  48.529412  31.588235  Kor_West\n",
       "385560  충남 서산시 2021-12-30  2021     12   30  21.294118   9.210084  Kor_West\n",
       "385561  충남 서산시 2021-12-31  2021     12   31  20.457627   8.508475  Kor_West\n",
       "\n",
       "[20386 rows x 8 columns]"
      ]
     },
     "execution_count": 166,
     "metadata": {},
     "output_type": "execute_result"
    }
   ],
   "source": [
    "df_Kor_city.rename(columns = {'지역 코드':'Country', \n",
    "                              '지역': 'City', \n",
    "                              '측정일시': 'Date',\n",
    "                              '연도':'year',\n",
    "                              '월':'month',\n",
    "                              '일':'day'\n",
    "                             },inplace=True)\n",
    "df_Kor_city"
   ]
  },
  {
   "cell_type": "code",
   "execution_count": 336,
   "metadata": {},
   "outputs": [
    {
     "data": {
      "text/html": [
       "<div>\n",
       "<style scoped>\n",
       "    .dataframe tbody tr th:only-of-type {\n",
       "        vertical-align: middle;\n",
       "    }\n",
       "\n",
       "    .dataframe tbody tr th {\n",
       "        vertical-align: top;\n",
       "    }\n",
       "\n",
       "    .dataframe thead th {\n",
       "        text-align: right;\n",
       "    }\n",
       "</style>\n",
       "<table border=\"1\" class=\"dataframe\">\n",
       "  <thead>\n",
       "    <tr style=\"text-align: right;\">\n",
       "      <th></th>\n",
       "      <th>Date</th>\n",
       "      <th>Country</th>\n",
       "      <th>City</th>\n",
       "      <th>PM25</th>\n",
       "      <th>year</th>\n",
       "      <th>month</th>\n",
       "      <th>day</th>\n",
       "    </tr>\n",
       "  </thead>\n",
       "  <tbody>\n",
       "    <tr>\n",
       "      <th>385557</th>\n",
       "      <td>2021-12-27 00:00:00</td>\n",
       "      <td>Kor_West</td>\n",
       "      <td>충남 서산시</td>\n",
       "      <td>16.098039</td>\n",
       "      <td>2021</td>\n",
       "      <td>12</td>\n",
       "      <td>27</td>\n",
       "    </tr>\n",
       "    <tr>\n",
       "      <th>385558</th>\n",
       "      <td>2021-12-28 00:00:00</td>\n",
       "      <td>Kor_West</td>\n",
       "      <td>충남 서산시</td>\n",
       "      <td>30.948454</td>\n",
       "      <td>2021</td>\n",
       "      <td>12</td>\n",
       "      <td>28</td>\n",
       "    </tr>\n",
       "    <tr>\n",
       "      <th>385559</th>\n",
       "      <td>2021-12-29 00:00:00</td>\n",
       "      <td>Kor_West</td>\n",
       "      <td>충남 서산시</td>\n",
       "      <td>31.588235</td>\n",
       "      <td>2021</td>\n",
       "      <td>12</td>\n",
       "      <td>29</td>\n",
       "    </tr>\n",
       "    <tr>\n",
       "      <th>385560</th>\n",
       "      <td>2021-12-30 00:00:00</td>\n",
       "      <td>Kor_West</td>\n",
       "      <td>충남 서산시</td>\n",
       "      <td>9.210084</td>\n",
       "      <td>2021</td>\n",
       "      <td>12</td>\n",
       "      <td>30</td>\n",
       "    </tr>\n",
       "    <tr>\n",
       "      <th>385561</th>\n",
       "      <td>2021-12-31 00:00:00</td>\n",
       "      <td>Kor_West</td>\n",
       "      <td>충남 서산시</td>\n",
       "      <td>8.508475</td>\n",
       "      <td>2021</td>\n",
       "      <td>12</td>\n",
       "      <td>31</td>\n",
       "    </tr>\n",
       "  </tbody>\n",
       "</table>\n",
       "</div>"
      ],
      "text/plain": [
       "                       Date   Country    City       PM25  year  month  day\n",
       "385557  2021-12-27 00:00:00  Kor_West  충남 서산시  16.098039  2021     12   27\n",
       "385558  2021-12-28 00:00:00  Kor_West  충남 서산시  30.948454  2021     12   28\n",
       "385559  2021-12-29 00:00:00  Kor_West  충남 서산시  31.588235  2021     12   29\n",
       "385560  2021-12-30 00:00:00  Kor_West  충남 서산시   9.210084  2021     12   30\n",
       "385561  2021-12-31 00:00:00  Kor_West  충남 서산시   8.508475  2021     12   31"
      ]
     },
     "execution_count": 336,
     "metadata": {},
     "output_type": "execute_result"
    }
   ],
   "source": [
    "df_CN_Kor = pd.concat([df_pm25_CN, df_Kor_city], join='inner')\n",
    "df_CN_Kor.tail()"
   ]
  },
  {
   "cell_type": "markdown",
   "metadata": {},
   "source": [
    "#### PM2.5 Normalization"
   ]
  },
  {
   "cell_type": "code",
   "execution_count": null,
   "metadata": {},
   "outputs": [],
   "source": [
    "from sklearn import preprocessing\n",
    "import pandas as pd"
   ]
  },
  {
   "cell_type": "code",
   "execution_count": 240,
   "metadata": {
    "scrolled": false
   },
   "outputs": [
    {
     "data": {
      "text/html": [
       "<div>\n",
       "<style scoped>\n",
       "    .dataframe tbody tr th:only-of-type {\n",
       "        vertical-align: middle;\n",
       "    }\n",
       "\n",
       "    .dataframe tbody tr th {\n",
       "        vertical-align: top;\n",
       "    }\n",
       "\n",
       "    .dataframe thead th {\n",
       "        text-align: right;\n",
       "    }\n",
       "</style>\n",
       "<table border=\"1\" class=\"dataframe\">\n",
       "  <thead>\n",
       "    <tr style=\"text-align: right;\">\n",
       "      <th></th>\n",
       "      <th>Date</th>\n",
       "      <th>Country</th>\n",
       "      <th>City</th>\n",
       "      <th>PM25</th>\n",
       "      <th>year</th>\n",
       "      <th>month</th>\n",
       "      <th>day</th>\n",
       "      <th>pm25_normalized</th>\n",
       "    </tr>\n",
       "  </thead>\n",
       "  <tbody>\n",
       "    <tr>\n",
       "      <th>0</th>\n",
       "      <td>2015-01-04</td>\n",
       "      <td>CN</td>\n",
       "      <td>Beijing</td>\n",
       "      <td>255.0</td>\n",
       "      <td>2015</td>\n",
       "      <td>1</td>\n",
       "      <td>4</td>\n",
       "      <td>0.254758</td>\n",
       "    </tr>\n",
       "    <tr>\n",
       "      <th>1</th>\n",
       "      <td>2015-01-12</td>\n",
       "      <td>CN</td>\n",
       "      <td>Beijing</td>\n",
       "      <td>181.0</td>\n",
       "      <td>2015</td>\n",
       "      <td>1</td>\n",
       "      <td>12</td>\n",
       "      <td>0.180634</td>\n",
       "    </tr>\n",
       "    <tr>\n",
       "      <th>2</th>\n",
       "      <td>2015-02-17</td>\n",
       "      <td>CN</td>\n",
       "      <td>Beijing</td>\n",
       "      <td>68.0</td>\n",
       "      <td>2015</td>\n",
       "      <td>2</td>\n",
       "      <td>17</td>\n",
       "      <td>0.067446</td>\n",
       "    </tr>\n",
       "    <tr>\n",
       "      <th>3</th>\n",
       "      <td>2015-06-11</td>\n",
       "      <td>CN</td>\n",
       "      <td>Beijing</td>\n",
       "      <td>57.0</td>\n",
       "      <td>2015</td>\n",
       "      <td>6</td>\n",
       "      <td>11</td>\n",
       "      <td>0.056427</td>\n",
       "    </tr>\n",
       "    <tr>\n",
       "      <th>4</th>\n",
       "      <td>2015-06-13</td>\n",
       "      <td>CN</td>\n",
       "      <td>Beijing</td>\n",
       "      <td>42.0</td>\n",
       "      <td>2015</td>\n",
       "      <td>6</td>\n",
       "      <td>13</td>\n",
       "      <td>0.041402</td>\n",
       "    </tr>\n",
       "  </tbody>\n",
       "</table>\n",
       "</div>"
      ],
      "text/plain": [
       "         Date Country     City   PM25  year  month  day  pm25_normalized\n",
       "0  2015-01-04      CN  Beijing  255.0  2015      1    4         0.254758\n",
       "1  2015-01-12      CN  Beijing  181.0  2015      1   12         0.180634\n",
       "2  2015-02-17      CN  Beijing   68.0  2015      2   17         0.067446\n",
       "3  2015-06-11      CN  Beijing   57.0  2015      6   11         0.056427\n",
       "4  2015-06-13      CN  Beijing   42.0  2015      6   13         0.041402"
      ]
     },
     "execution_count": 240,
     "metadata": {},
     "output_type": "execute_result"
    }
   ],
   "source": [
    "pm25_list = np.array(df_CN_Kor['PM25']).reshape(-1,1)\n",
    "scaler = preprocessing.MinMaxScaler()\n",
    "normalizedlist=scaler.fit_transform(pm25_list)\n",
    "df_CN_Kor['pm25_normalized'] = normalizedlist\n",
    "df_CN_Kor.head()"
   ]
  },
  {
   "cell_type": "markdown",
   "metadata": {},
   "source": [
    "### Korea yearly PM2.5 EDA"
   ]
  },
  {
   "cell_type": "code",
   "execution_count": 251,
   "metadata": {},
   "outputs": [
    {
     "data": {
      "text/plain": [
       "<matplotlib.axes._subplots.AxesSubplot at 0x1c4a7066dc8>"
      ]
     },
     "execution_count": 251,
     "metadata": {},
     "output_type": "execute_result"
    },
    {
     "data": {
      "image/png": "[encoded data removed]",
      "text/plain": [
       "<Figure size 432x288 with 1 Axes>"
      ]
     },
     "metadata": {
      "needs_background": "light"
     },
     "output_type": "display_data"
    }
   ],
   "source": [
    "sns.lineplot(data=df_Kor_city, x=\"year\", y=\"PM25\", hue = 'Country', ci=None)"
   ]
  },
  {
   "cell_type": "markdown",
   "metadata": {},
   "source": [
    "### Yearly China-Korea pm2.5 EDA"
   ]
  },
  {
   "cell_type": "code",
   "execution_count": 241,
   "metadata": {
    "scrolled": true
   },
   "outputs": [
    {
     "data": {
      "text/plain": [
       "<matplotlib.axes._subplots.AxesSubplot at 0x1c4a3768a08>"
      ]
     },
     "execution_count": 241,
     "metadata": {},
     "output_type": "execute_result"
    },
    {
     "data": {
      "image/png": "[encoded data removed]",
      "text/plain": [
       "<Figure size 432x288 with 1 Axes>"
      ]
     },
     "metadata": {
      "needs_background": "light"
     },
     "output_type": "display_data"
    }
   ],
   "source": [
    "sns.lineplot(data=df_CN_Kor, x=\"year\", y=\"pm25_normalized\", hue = 'Country', ci=None)"
   ]
  },
  {
   "cell_type": "markdown",
   "metadata": {},
   "source": [
    "Result: \n",
    "\n",
    "Fine dust has steadily decreased in both Korea and China.\n",
    "\n",
    "Reduction in fine dust in western regions adjacent to China is less than that of eastern regions, so it can be said that it is partially influenced by China.\n",
    "\n",
    "However, between 18-19, fine dust in China decreased while fine dust in western regions increased. If China's influence was absolute, the West regions should have decreased as well."
   ]
  },
  {
   "cell_type": "markdown",
   "metadata": {},
   "source": [
    "###  Korean Monthly PM2.5 EDA"
   ]
  },
  {
   "cell_type": "code",
   "execution_count": 249,
   "metadata": {
    "scrolled": true
   },
   "outputs": [
    {
     "data": {
      "text/plain": [
       "<matplotlib.axes._subplots.AxesSubplot at 0x1c4a6f3c308>"
      ]
     },
     "execution_count": 249,
     "metadata": {},
     "output_type": "execute_result"
    },
    {
     "data": {
      "image/png": "[encoded data removed]",
      "text/plain": [
       "<Figure size 432x288 with 1 Axes>"
      ]
     },
     "metadata": {
      "needs_background": "light"
     },
     "output_type": "display_data"
    }
   ],
   "source": [
    "\n",
    "sns.lineplot(data=df_Kor_city, x=\"month\", y=\"PM25\", hue = 'Country', ci=None)"
   ]
  },
  {
   "cell_type": "markdown",
   "metadata": {},
   "source": [
    "### China- Korean Monthly PM2.5 EDA"
   ]
  },
  {
   "cell_type": "code",
   "execution_count": 250,
   "metadata": {
    "scrolled": true
   },
   "outputs": [
    {
     "data": {
      "text/plain": [
       "<matplotlib.axes._subplots.AxesSubplot at 0x1c4a6fe0a88>"
      ]
     },
     "execution_count": 250,
     "metadata": {},
     "output_type": "execute_result"
    },
    {
     "data": {
      "image/png": "[encoded data removed]",
      "text/plain": [
       "<Figure size 432x288 with 1 Axes>"
      ]
     },
     "metadata": {
      "needs_background": "light"
     },
     "output_type": "display_data"
    }
   ],
   "source": [
    "sns.lineplot(data=df_CN_Kor, x=\"month\", y=\"pm25_normalized\", hue = 'Country', ci=None)"
   ]
  },
  {
   "cell_type": "markdown",
   "metadata": {},
   "source": [
    "### China- Korean PM2.5 Correlation analysis"
   ]
  },
  {
   "cell_type": "code",
   "execution_count": 346,
   "metadata": {},
   "outputs": [
    {
     "data": {
      "text/html": [
       "<div>\n",
       "<style scoped>\n",
       "    .dataframe tbody tr th:only-of-type {\n",
       "        vertical-align: middle;\n",
       "    }\n",
       "\n",
       "    .dataframe tbody tr th {\n",
       "        vertical-align: top;\n",
       "    }\n",
       "\n",
       "    .dataframe thead th {\n",
       "        text-align: right;\n",
       "    }\n",
       "</style>\n",
       "<table border=\"1\" class=\"dataframe\">\n",
       "  <thead>\n",
       "    <tr style=\"text-align: right;\">\n",
       "      <th></th>\n",
       "      <th>Date</th>\n",
       "      <th>Country</th>\n",
       "      <th>City</th>\n",
       "      <th>PM25</th>\n",
       "      <th>year</th>\n",
       "      <th>month</th>\n",
       "      <th>day</th>\n",
       "    </tr>\n",
       "  </thead>\n",
       "  <tbody>\n",
       "    <tr>\n",
       "      <th>0</th>\n",
       "      <td>2015-01-01 00:00:00</td>\n",
       "      <td>Kor_East</td>\n",
       "      <td>강원 강릉시</td>\n",
       "      <td>8.625000</td>\n",
       "      <td>2015</td>\n",
       "      <td>1</td>\n",
       "      <td>1</td>\n",
       "    </tr>\n",
       "    <tr>\n",
       "      <th>1</th>\n",
       "      <td>2015-01-02 00:00:00</td>\n",
       "      <td>Kor_East</td>\n",
       "      <td>강원 강릉시</td>\n",
       "      <td>7.416667</td>\n",
       "      <td>2015</td>\n",
       "      <td>1</td>\n",
       "      <td>2</td>\n",
       "    </tr>\n",
       "    <tr>\n",
       "      <th>2</th>\n",
       "      <td>2015-01-03 00:00:00</td>\n",
       "      <td>Kor_East</td>\n",
       "      <td>강원 강릉시</td>\n",
       "      <td>6.958333</td>\n",
       "      <td>2015</td>\n",
       "      <td>1</td>\n",
       "      <td>3</td>\n",
       "    </tr>\n",
       "    <tr>\n",
       "      <th>3</th>\n",
       "      <td>2015-01-04 00:00:00</td>\n",
       "      <td>Kor_East</td>\n",
       "      <td>강원 강릉시</td>\n",
       "      <td>21.782609</td>\n",
       "      <td>2015</td>\n",
       "      <td>1</td>\n",
       "      <td>4</td>\n",
       "    </tr>\n",
       "    <tr>\n",
       "      <th>4</th>\n",
       "      <td>2015-01-05 00:00:00</td>\n",
       "      <td>Kor_East</td>\n",
       "      <td>강원 강릉시</td>\n",
       "      <td>25.500000</td>\n",
       "      <td>2015</td>\n",
       "      <td>1</td>\n",
       "      <td>5</td>\n",
       "    </tr>\n",
       "    <tr>\n",
       "      <th>...</th>\n",
       "      <td>...</td>\n",
       "      <td>...</td>\n",
       "      <td>...</td>\n",
       "      <td>...</td>\n",
       "      <td>...</td>\n",
       "      <td>...</td>\n",
       "      <td>...</td>\n",
       "    </tr>\n",
       "    <tr>\n",
       "      <th>385557</th>\n",
       "      <td>2021-12-27 00:00:00</td>\n",
       "      <td>Kor_West</td>\n",
       "      <td>충남 서산시</td>\n",
       "      <td>16.098039</td>\n",
       "      <td>2021</td>\n",
       "      <td>12</td>\n",
       "      <td>27</td>\n",
       "    </tr>\n",
       "    <tr>\n",
       "      <th>385558</th>\n",
       "      <td>2021-12-28 00:00:00</td>\n",
       "      <td>Kor_West</td>\n",
       "      <td>충남 서산시</td>\n",
       "      <td>30.948454</td>\n",
       "      <td>2021</td>\n",
       "      <td>12</td>\n",
       "      <td>28</td>\n",
       "    </tr>\n",
       "    <tr>\n",
       "      <th>385559</th>\n",
       "      <td>2021-12-29 00:00:00</td>\n",
       "      <td>Kor_West</td>\n",
       "      <td>충남 서산시</td>\n",
       "      <td>31.588235</td>\n",
       "      <td>2021</td>\n",
       "      <td>12</td>\n",
       "      <td>29</td>\n",
       "    </tr>\n",
       "    <tr>\n",
       "      <th>385560</th>\n",
       "      <td>2021-12-30 00:00:00</td>\n",
       "      <td>Kor_West</td>\n",
       "      <td>충남 서산시</td>\n",
       "      <td>9.210084</td>\n",
       "      <td>2021</td>\n",
       "      <td>12</td>\n",
       "      <td>30</td>\n",
       "    </tr>\n",
       "    <tr>\n",
       "      <th>385561</th>\n",
       "      <td>2021-12-31 00:00:00</td>\n",
       "      <td>Kor_West</td>\n",
       "      <td>충남 서산시</td>\n",
       "      <td>8.508475</td>\n",
       "      <td>2021</td>\n",
       "      <td>12</td>\n",
       "      <td>31</td>\n",
       "    </tr>\n",
       "  </tbody>\n",
       "</table>\n",
       "<p>20386 rows × 7 columns</p>\n",
       "</div>"
      ],
      "text/plain": [
       "                       Date   Country    City       PM25  year  month  day\n",
       "0       2015-01-01 00:00:00  Kor_East  강원 강릉시   8.625000  2015      1    1\n",
       "1       2015-01-02 00:00:00  Kor_East  강원 강릉시   7.416667  2015      1    2\n",
       "2       2015-01-03 00:00:00  Kor_East  강원 강릉시   6.958333  2015      1    3\n",
       "3       2015-01-04 00:00:00  Kor_East  강원 강릉시  21.782609  2015      1    4\n",
       "4       2015-01-05 00:00:00  Kor_East  강원 강릉시  25.500000  2015      1    5\n",
       "...                     ...       ...     ...        ...   ...    ...  ...\n",
       "385557  2021-12-27 00:00:00  Kor_West  충남 서산시  16.098039  2021     12   27\n",
       "385558  2021-12-28 00:00:00  Kor_West  충남 서산시  30.948454  2021     12   28\n",
       "385559  2021-12-29 00:00:00  Kor_West  충남 서산시  31.588235  2021     12   29\n",
       "385560  2021-12-30 00:00:00  Kor_West  충남 서산시   9.210084  2021     12   30\n",
       "385561  2021-12-31 00:00:00  Kor_West  충남 서산시   8.508475  2021     12   31\n",
       "\n",
       "[20386 rows x 7 columns]"
      ]
     },
     "execution_count": 346,
     "metadata": {},
     "output_type": "execute_result"
    }
   ],
   "source": [
    "df_CN_Kor[df_CN_Kor[\"Country\"].str.contains(\"Kor\")]"
   ]
  },
  {
   "cell_type": "code",
   "execution_count": 377,
   "metadata": {},
   "outputs": [],
   "source": [
    "# I want to find the correlation between China and Korea by weaving various datasets into one data frame.\n",
    "kor_series = pd.Series(df_CN_Kor[df_CN_Kor[\"Country\"].str.contains(\"Kor\")].PM25.values)\n",
    "cn_series = pd.Series(df_CN_Kor[df_CN_Kor.Country==\"CN\"].PM25.values)\n",
    "kor_est_series = pd.Series(df_CN_Kor[df_CN_Kor.Country==\"Kor_East\"].PM25.values)\n",
    "kor_wst_series = pd.Series(df_CN_Kor[df_CN_Kor.Country==\"Kor_West\"].PM25.values)\n",
    "kor_sou_series = pd.Series(df_CN_Kor[df_CN_Kor.Country==\"Kor_South\"].PM25.values)\n",
    "\n",
    "df_cn_kor=pd.DataFrame({'CN' : cn_series,\n",
    "                        'kor east' : kor_est_series,\n",
    "                        'kor west' : kor_wst_series,\n",
    "                        'kor south' : kor_sou_series,\n",
    "                        'KR' : kor_series\n",
    "                       })"
   ]
  },
  {
   "cell_type": "code",
   "execution_count": 378,
   "metadata": {},
   "outputs": [
    {
     "data": {
      "text/html": [
       "<div>\n",
       "<style scoped>\n",
       "    .dataframe tbody tr th:only-of-type {\n",
       "        vertical-align: middle;\n",
       "    }\n",
       "\n",
       "    .dataframe tbody tr th {\n",
       "        vertical-align: top;\n",
       "    }\n",
       "\n",
       "    .dataframe thead th {\n",
       "        text-align: right;\n",
       "    }\n",
       "</style>\n",
       "<table border=\"1\" class=\"dataframe\">\n",
       "  <thead>\n",
       "    <tr style=\"text-align: right;\">\n",
       "      <th></th>\n",
       "      <th>CN</th>\n",
       "      <th>kor east</th>\n",
       "      <th>kor west</th>\n",
       "      <th>kor south</th>\n",
       "      <th>KR</th>\n",
       "    </tr>\n",
       "  </thead>\n",
       "  <tbody>\n",
       "    <tr>\n",
       "      <th>0</th>\n",
       "      <td>255.0</td>\n",
       "      <td>8.625000</td>\n",
       "      <td>51.478261</td>\n",
       "      <td>11.818182</td>\n",
       "      <td>8.625000</td>\n",
       "    </tr>\n",
       "    <tr>\n",
       "      <th>1</th>\n",
       "      <td>181.0</td>\n",
       "      <td>7.416667</td>\n",
       "      <td>25.021277</td>\n",
       "      <td>13.916667</td>\n",
       "      <td>7.416667</td>\n",
       "    </tr>\n",
       "    <tr>\n",
       "      <th>2</th>\n",
       "      <td>68.0</td>\n",
       "      <td>6.958333</td>\n",
       "      <td>27.355556</td>\n",
       "      <td>13.416667</td>\n",
       "      <td>6.958333</td>\n",
       "    </tr>\n",
       "    <tr>\n",
       "      <th>3</th>\n",
       "      <td>57.0</td>\n",
       "      <td>21.782609</td>\n",
       "      <td>42.312500</td>\n",
       "      <td>28.416667</td>\n",
       "      <td>21.782609</td>\n",
       "    </tr>\n",
       "    <tr>\n",
       "      <th>4</th>\n",
       "      <td>42.0</td>\n",
       "      <td>25.500000</td>\n",
       "      <td>56.708333</td>\n",
       "      <td>44.416667</td>\n",
       "      <td>25.500000</td>\n",
       "    </tr>\n",
       "    <tr>\n",
       "      <th>...</th>\n",
       "      <td>...</td>\n",
       "      <td>...</td>\n",
       "      <td>...</td>\n",
       "      <td>...</td>\n",
       "      <td>...</td>\n",
       "    </tr>\n",
       "    <tr>\n",
       "      <th>20381</th>\n",
       "      <td>NaN</td>\n",
       "      <td>NaN</td>\n",
       "      <td>NaN</td>\n",
       "      <td>NaN</td>\n",
       "      <td>16.098039</td>\n",
       "    </tr>\n",
       "    <tr>\n",
       "      <th>20382</th>\n",
       "      <td>NaN</td>\n",
       "      <td>NaN</td>\n",
       "      <td>NaN</td>\n",
       "      <td>NaN</td>\n",
       "      <td>30.948454</td>\n",
       "    </tr>\n",
       "    <tr>\n",
       "      <th>20383</th>\n",
       "      <td>NaN</td>\n",
       "      <td>NaN</td>\n",
       "      <td>NaN</td>\n",
       "      <td>NaN</td>\n",
       "      <td>31.588235</td>\n",
       "    </tr>\n",
       "    <tr>\n",
       "      <th>20384</th>\n",
       "      <td>NaN</td>\n",
       "      <td>NaN</td>\n",
       "      <td>NaN</td>\n",
       "      <td>NaN</td>\n",
       "      <td>9.210084</td>\n",
       "    </tr>\n",
       "    <tr>\n",
       "      <th>20385</th>\n",
       "      <td>NaN</td>\n",
       "      <td>NaN</td>\n",
       "      <td>NaN</td>\n",
       "      <td>NaN</td>\n",
       "      <td>8.508475</td>\n",
       "    </tr>\n",
       "  </tbody>\n",
       "</table>\n",
       "<p>20386 rows × 5 columns</p>\n",
       "</div>"
      ],
      "text/plain": [
       "          CN   kor east   kor west  kor south         KR\n",
       "0      255.0   8.625000  51.478261  11.818182   8.625000\n",
       "1      181.0   7.416667  25.021277  13.916667   7.416667\n",
       "2       68.0   6.958333  27.355556  13.416667   6.958333\n",
       "3       57.0  21.782609  42.312500  28.416667  21.782609\n",
       "4       42.0  25.500000  56.708333  44.416667  25.500000\n",
       "...      ...        ...        ...        ...        ...\n",
       "20381    NaN        NaN        NaN        NaN  16.098039\n",
       "20382    NaN        NaN        NaN        NaN  30.948454\n",
       "20383    NaN        NaN        NaN        NaN  31.588235\n",
       "20384    NaN        NaN        NaN        NaN   9.210084\n",
       "20385    NaN        NaN        NaN        NaN   8.508475\n",
       "\n",
       "[20386 rows x 5 columns]"
      ]
     },
     "execution_count": 378,
     "metadata": {},
     "output_type": "execute_result"
    }
   ],
   "source": [
    "df_cn_kor"
   ]
  },
  {
   "cell_type": "code",
   "execution_count": 379,
   "metadata": {},
   "outputs": [
    {
     "data": {
      "text/plain": [
       "<matplotlib.collections.PathCollection at 0x1c4aab31e88>"
      ]
     },
     "execution_count": 379,
     "metadata": {},
     "output_type": "execute_result"
    },
    {
     "data": {
      "image/png": "[encoded data removed]",
      "text/plain": [
       "<Figure size 432x288 with 1 Axes>"
      ]
     },
     "metadata": {
      "needs_background": "light"
     },
     "output_type": "display_data"
    }
   ],
   "source": [
    "#Visualize PM2.5 correlation between Korea-China\n",
    "\n",
    "plt.scatter(df_cn_kor['KR'], df_cn_kor['CN'])\n",
    "\n",
    "#Can't find correlation"
   ]
  },
  {
   "cell_type": "code",
   "execution_count": 380,
   "metadata": {},
   "outputs": [
    {
     "data": {
      "text/plain": [
       "<matplotlib.collections.PathCollection at 0x1c4aaba5108>"
      ]
     },
     "execution_count": 380,
     "metadata": {},
     "output_type": "execute_result"
    },
    {
     "data": {
      "image/png": "[encoded data removed]",
      "text/plain": [
       "<Figure size 432x288 with 1 Axes>"
      ]
     },
     "metadata": {
      "needs_background": "light"
     },
     "output_type": "display_data"
    }
   ],
   "source": [
    "#Visualize PM2.5 correlation between Korea West Region-China\n",
    "\n",
    "plt.scatter(df_cn_kor['kor west'], df_cn_kor['CN'])\n",
    "\n",
    "#Can't find correlation"
   ]
  },
  {
   "cell_type": "code",
   "execution_count": 381,
   "metadata": {
    "scrolled": false
   },
   "outputs": [
    {
     "data": {
      "text/plain": [
       "<matplotlib.axes._subplots.AxesSubplot at 0x1c4aa78f088>"
      ]
     },
     "execution_count": 381,
     "metadata": {},
     "output_type": "execute_result"
    },
    {
     "data": {
      "image/png": "[encoded data removed]",
      "text/plain": [
       "<Figure size 720x720 with 2 Axes>"
      ]
     },
     "metadata": {
      "needs_background": "light"
     },
     "output_type": "display_data"
    }
   ],
   "source": [
    "df_corr=df_cn_kor.corr(method='pearson')\n",
    "\n",
    "mask=np.triu(np.ones_like(df_corr))\n",
    "\n",
    "plt.figure(figsize=(10,10))\n",
    "sns.heatmap(df_corr, annot=True, fmt='.2f', vmin=-1, vmax=1, mask=mask)"
   ]
  },
  {
   "cell_type": "markdown",
   "metadata": {},
   "source": [
    "Can't find correlation between Korea-China"
   ]
  },
  {
   "cell_type": "markdown",
   "metadata": {},
   "source": [
    "### China- Korean PM2.5 Correlation analysis(2nd Trial: Using bfill for NULL)"
   ]
  },
  {
   "cell_type": "code",
   "execution_count": 383,
   "metadata": {},
   "outputs": [
    {
     "data": {
      "text/plain": [
       "CN           10852\n",
       "kor east     13819\n",
       "kor west     14025\n",
       "kor south    12928\n",
       "KR               0\n",
       "dtype: int64"
      ]
     },
     "execution_count": 383,
     "metadata": {},
     "output_type": "execute_result"
    }
   ],
   "source": [
    "# There are many null values\n",
    "df_cn_kor.isnull().sum()"
   ]
  },
  {
   "cell_type": "code",
   "execution_count": 385,
   "metadata": {},
   "outputs": [],
   "source": [
    "#Using bfil and ffil to replace null\n",
    "df_cn_kor_2 = df_cn_kor.fillna(method='bfill')\n",
    "\n",
    "df_cn_kor_2 = df_cn_kor_2.fillna(method='ffill')"
   ]
  },
  {
   "cell_type": "code",
   "execution_count": 386,
   "metadata": {},
   "outputs": [
    {
     "data": {
      "text/plain": [
       "CN           0\n",
       "kor east     0\n",
       "kor west     0\n",
       "kor south    0\n",
       "KR           0\n",
       "dtype: int64"
      ]
     },
     "execution_count": 386,
     "metadata": {},
     "output_type": "execute_result"
    }
   ],
   "source": [
    "df_cn_kor_2.isnull().sum()"
   ]
  },
  {
   "cell_type": "code",
   "execution_count": 387,
   "metadata": {
    "scrolled": false
   },
   "outputs": [
    {
     "data": {
      "text/plain": [
       "<matplotlib.axes._subplots.AxesSubplot at 0x1c4aac9b448>"
      ]
     },
     "execution_count": 387,
     "metadata": {},
     "output_type": "execute_result"
    },
    {
     "data": {
      "image/png": "[encoded data removed]",
      "text/plain": [
       "<Figure size 720x720 with 2 Axes>"
      ]
     },
     "metadata": {
      "needs_background": "light"
     },
     "output_type": "display_data"
    }
   ],
   "source": [
    "df_corr=df_cn_kor_2.corr(method='pearson')\n",
    "\n",
    "\n",
    "mask=np.triu(np.ones_like(df_corr))\n",
    "\n",
    "plt.figure(figsize=(10,10))\n",
    "sns.heatmap(df_corr, annot=True, fmt='.2f', vmin=-1, vmax=1, mask=mask)"
   ]
  },
  {
   "cell_type": "markdown",
   "metadata": {},
   "source": [
    "Found higher correlation between Korea-China"
   ]
  },
  {
   "cell_type": "markdown",
   "metadata": {},
   "source": [
    "### China- Korean PM2.5 Correlation analysis(2nd Trial: Using mean for NULL)"
   ]
  },
  {
   "cell_type": "code",
   "execution_count": 388,
   "metadata": {},
   "outputs": [],
   "source": [
    "#Using mean to replace null\n",
    "\n",
    "kor_series_mean = pd.Series(df_CN_Kor[df_CN_Kor[\"Country\"].str.contains(\"Kor\")].groupby(['Date'], as_index=False).mean().PM25.values)\n",
    "cn_series_mean = pd.Series(df_CN_Kor[df_CN_Kor.Country==\"CN\"].groupby(['Date'], as_index=False).mean().PM25.values)\n",
    "kor_est_series_mean = pd.Series(df_CN_Kor[df_CN_Kor.Country==\"Kor_East\"].groupby(['Date'], as_index=False).mean().PM25.values)\n",
    "kor_wst_series_mean = pd.Series(df_CN_Kor[df_CN_Kor.Country==\"Kor_West\"].groupby(['Date'], as_index=False).mean().PM25.values)\n",
    "kor_sou_series_mean = pd.Series(df_CN_Kor[df_CN_Kor.Country==\"Kor_South\"].groupby(['Date'], as_index=False).mean().PM25.values)"
   ]
  },
  {
   "cell_type": "code",
   "execution_count": 394,
   "metadata": {},
   "outputs": [],
   "source": [
    "\n",
    "df_cn_kor3=pd.DataFrame({'CN' : cn_series_mean,\n",
    "                        'KR': kor_series_mean,\n",
    "                        'kor east' : kor_est_series_mean,\n",
    "                        'kor west' : kor_wst_series_mean,\n",
    "                        'kor south' : kor_sou_series_mean\n",
    "                       })"
   ]
  },
  {
   "cell_type": "code",
   "execution_count": 395,
   "metadata": {
    "scrolled": false
   },
   "outputs": [
    {
     "data": {
      "text/plain": [
       "<matplotlib.axes._subplots.AxesSubplot at 0x1c4ac6d0ec8>"
      ]
     },
     "execution_count": 395,
     "metadata": {},
     "output_type": "execute_result"
    },
    {
     "data": {
      "image/png": "[encoded data removed]",
      "text/plain": [
       "<Figure size 720x720 with 2 Axes>"
      ]
     },
     "metadata": {
      "needs_background": "light"
     },
     "output_type": "display_data"
    }
   ],
   "source": [
    "df_corr=df_cn_kor3.corr(method='pearson')\n",
    "\n",
    "\n",
    "mask=np.triu(np.ones_like(df_corr))\n",
    "\n",
    "plt.figure(figsize=(10,10))\n",
    "sns.heatmap(df_corr, annot=True, fmt='.2f', vmin=-1, vmax=1, mask=mask)\n"
   ]
  },
  {
   "cell_type": "code",
   "execution_count": 396,
   "metadata": {
    "scrolled": true
   },
   "outputs": [
    {
     "data": {
      "text/plain": [
       "<matplotlib.collections.PathCollection at 0x1c4aca88b08>"
      ]
     },
     "execution_count": 396,
     "metadata": {},
     "output_type": "execute_result"
    },
    {
     "data": {
      "image/png": "[encoded data removed]",
      "text/plain": [
       "<Figure size 432x288 with 1 Axes>"
      ]
     },
     "metadata": {
      "needs_background": "light"
     },
     "output_type": "display_data"
    }
   ],
   "source": [
    "#Visualize PM2.5 correlation between Korea-China\n",
    "\n",
    "plt.scatter(df_cn_kor3['KR'], df_cn_kor3['CN'])\n",
    "\n",
    "#Can't find correlation\n"
   ]
  },
  {
   "cell_type": "code",
   "execution_count": 397,
   "metadata": {},
   "outputs": [
    {
     "data": {
      "text/plain": [
       "<matplotlib.collections.PathCollection at 0x1c4acaea408>"
      ]
     },
     "execution_count": 397,
     "metadata": {},
     "output_type": "execute_result"
    },
    {
     "data": {
      "image/png": "[encoded data removed]",
      "text/plain": [
       "<Figure size 432x288 with 1 Axes>"
      ]
     },
     "metadata": {
      "needs_background": "light"
     },
     "output_type": "display_data"
    }
   ],
   "source": [
    "#Visualize PM2.5 correlation between Korea West region-China\n",
    "\n",
    "plt.scatter(df_cn_kor3['kor west'], df_cn_kor3['CN'])\n",
    "\n",
    "#Can't find correlation\n"
   ]
  },
  {
   "cell_type": "markdown",
   "metadata": {},
   "source": [
    "Western regions, which were expected to be most affected by China, have the weakest correlation with China.\n",
    "\n",
    "It can be said that about 20% of the total fine dust in Korea is affected by China, but it is difficult to claim that there is a significant relationship."
   ]
  },
  {
   "cell_type": "markdown",
   "metadata": {},
   "source": [
    "### Conclusion: Failed to prove that Korea's ultrafine dust (pm2.5) has a direct correlation with China's fine dust. "
   ]
  }
 ],
 "metadata": {
  "kernelspec": {
   "display_name": "Python 3",
   "language": "python",
   "name": "python3"
  },
  "language_info": {
   "codemirror_mode": {
    "name": "ipython",
    "version": 3
   },
   "file_extension": ".py",
   "mimetype": "text/x-python",
   "name": "python",
   "nbconvert_exporter": "python",
   "pygments_lexer": "ipython3",
   "version": "3.7.6"
  }
 },
 "nbformat": 4,
 "nbformat_minor": 4
}
